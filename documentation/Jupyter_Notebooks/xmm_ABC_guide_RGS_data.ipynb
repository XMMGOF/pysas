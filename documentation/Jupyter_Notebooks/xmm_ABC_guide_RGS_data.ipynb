{
 "cells": [
  {
   "cell_type": "markdown",
   "id": "95220aeb-e7d6-43ba-9f8f-a83b7f62ccb2",
   "metadata": {},
   "source": [
    "# ABC Guide for XMM-Newton -- Chapter 10 (RGS Data Processing)\n",
    "\n",
    "---\n",
    "\n",
    "#### Introduction\n",
    "This tutorial is based on Chapter 10 from the [The XMM-Newton ABC Guide](https://heasarc.gsfc.nasa.gov/docs/xmm/abc/ \"ABC Guide\") prepared by the NASA/GSFC XMM-Newton Guest Observer Facility. This notebook assumes you are using the version of pySAS found on [GitHub](https://github.com/XMMGOF/pysas) and have already configured it to work with your SAS installation (see the [README on GitHub](https://github.com/XMMGOF/pysas/blob/main/README.md)). \n",
    "#### Expected Outcome\n",
    "The ability to process RGS data and prepare it for analysis.\n",
    "#### SAS Tasks to be Used\n",
    "\n",
    "- `rgsproc`[(Documentation for epproc)](https://xmm-tools.cosmos.esa.int/external/sas/current/doc/rgsproc/index.html \"rgsproc Documentation\")\n",
    "- `evselect`[(Documentation for evselect)](https://xmm-tools.cosmos.esa.int/external/sas/current/doc/evselect/index.html)\n",
    "- `tabgtigen`[(Documentation for tabgtigen)](https://xmm-tools.cosmos.esa.int/external/sas/current/doc/tabgtigen/index.html)\n",
    "- `gtibuild`[(Documentation for gtibuild)](https://xmm-tools.cosmos.esa.int/external/sas/current/doc/gtibuild/index.html)\n",
    "\n",
    "#### Prerequisites\n",
    "<div class=\"alert alert-block alert-info\">\n",
    "    <b>Note:</b> Before running this notebook, or even starting a Jupyter Lab session, HEASOFT has to be initialized. If you did not initalize HEASOFT before starting this Jupyter Lab session, or opening this notebook, please close this window and initalize HEASOFT (it is not possible to initalize HEASOFT from within a Jupyter Notebook). SAS defaults for your machine will need to be set as explained in the README on GitHub (https://github.com/XMMGOF/pysas/blob/main/README.md).\n",
    "</div>\n",
    "\n",
    "#### Useful Links\n",
    "\n",
    "- [`pysas` Documentation](https://xmm-tools.cosmos.esa.int/external/sas/current/doc/pysas/index.html \"pysas Documentation\")\n",
    "- [`pysas` on GitHub](https://github.com/XMMGOF/pysas)\n",
    "- [Common SAS Threads](https://www.cosmos.esa.int/web/xmm-newton/sas-threads \"SAS Threads\")\n",
    "- [Users' Guide to the XMM-Newton Science Analysis System (SAS)](https://xmm-tools.cosmos.esa.int/external/xmm_user_support/documentation/sas_usg/USG/SASUSG.html \"Users' Guide\")\n",
    "- [The XMM-Newton ABC Guide](https://heasarc.gsfc.nasa.gov/docs/xmm/abc/ \"ABC Guide\")\n",
    "- [XMM Newton GOF Helpdesk](https://heasarc.gsfc.nasa.gov/docs/xmm/xmm_helpdesk.html \"Helpdesk\") - Link to form to contact the GOF Helpdesk.\n",
    "\n",
    "#### Caveats\n",
    "This tutorial uses an observation of Mkn 421 (obsid = '0153950701')."
   ]
  },
  {
   "cell_type": "markdown",
   "id": "7eebc609-8d0a-40be-a848-cc6abf26f406",
   "metadata": {},
   "source": [
    "##### Last Reviewed: _25 June 2024, for SAS v21_\n",
    "##### Last Updated: _25 June 2024_\n",
    "##### By: Ryan Tanner (ryan.tanner@nasa.gov)\n",
    "---"
   ]
  },
  {
   "cell_type": "code",
   "execution_count": null,
   "id": "c36c8366-38cb-4a4f-ad8c-75937fe0484a",
   "metadata": {},
   "outputs": [],
   "source": [
    "# pySAS imports\n",
    "import pysas\n",
    "from pysas.wrapper import Wrapper as w\n",
    "\n",
    "# Useful imports\n",
    "import os\n",
    "import subprocess\n",
    "\n",
    "# Imports for plotting\n",
    "import matplotlib.pyplot as plt\n",
    "from astropy.visualization import astropy_mpl_style\n",
    "from astropy.io import fits\n",
    "from astropy.wcs import WCS\n",
    "from astropy.table import Table\n",
    "plt.style.use(astropy_mpl_style)"
   ]
  },
  {
   "cell_type": "markdown",
   "id": "4a8b6683-eb97-4ed6-8530-41712367eebb",
   "metadata": {},
   "source": [
    "### 10.1 : Rerun basic processing"
   ]
  },
  {
   "cell_type": "markdown",
   "id": "66fd5c57-eb12-4fe7-8387-e25d73988b70",
   "metadata": {},
   "source": [
    "<div class=\"alert alert-block alert-info\">\n",
    "    <b>Note:</b> Running rgsproc on this particular obsid will take A LONG TIME, depending on your machine. Be prepared to wait.\n",
    "</div>"
   ]
  },
  {
   "cell_type": "code",
   "execution_count": null,
   "id": "3b52b56f-e3a3-4109-ab96-426130531578",
   "metadata": {
    "scrolled": true,
    "tags": []
   },
   "outputs": [],
   "source": [
    "obsid = '0153950701'\n",
    "odf = pysas.odfcontrol.ODFobject(obsid)"
   ]
  },
  {
   "cell_type": "markdown",
   "id": "c8e45876-d6cb-4f7a-9975-6f1dbeb42e15",
   "metadata": {},
   "source": [
    "We start by reprocessing the data. Since we are only interested in the RGS data we do not have to run `epproc` and `emproc`. By default `basic_setup` will run `epproc`,`emproc`, and `rgsproc`, so we will set `run_epproc` and `run_emproc` to `False`.\n",
    "\n",
    "We will also use the rgsproc inputs, `orders='1 2' bkgcorrect=no withmlambdacolumn=yes spectrumbinning=lambda`. We will also download both the ODF and PPS files as we will use some PPS files in our analysis. We download both sets of files by setting `level='ALL'`."
   ]
  },
  {
   "cell_type": "code",
   "execution_count": null,
   "id": "811d3e8c-7b88-4aee-b20b-9fb2ba784f96",
   "metadata": {
    "scrolled": true
   },
   "outputs": [],
   "source": [
    "rgsproc_args = [\"orders='1 2'\",\n",
    "                'bkgcorrect=no',\n",
    "                'withmlambdacolumn=yes',\n",
    "                'spectrumbinning=lambda']\n",
    "odf.basic_setup(overwrite=False,repo='heasarc',rerun=False,level='ALL',run_epproc=False,run_emproc=False,rgsproc_args=rgsproc_args)"
   ]
  },
  {
   "cell_type": "markdown",
   "id": "5982411c-5d03-48d4-adb5-9e88800a9330",
   "metadata": {},
   "source": [
    "The input arguments for `rgsproc` are:\n",
    "\n",
    "    orders - dispersion orders to extract\n",
    "    bkgcorrect - subtract background from source spectra?\n",
    "    withmlambdacolumn - include a wavelength column in the event file product\n",
    "    spectrumbinning - accumulate the spectrum either in wavelength or beta space\n",
    "\n",
    "Note the last keyword, `spectrumbinning`. If you want to merge data from the same orders in RGS1 and RGS2, keep it at the default value `lambda`. If you want to merge data from the same instrument, with different orders, set it to `beta`. Merging spectra is discussed in §10.6.\n",
    "\n",
    "This takes several minutes, and outputs 12 files per RGS, plus 3 general use FITS files. As before, links to the event list files are stored in `odf.files['R1evt_list']` and `odf.files['R2evt_list']`. Filenames and paths to any spectra produced can be found in `odf.files['R1spectra']` and `odf.files['R2spectra']`."
   ]
  },
  {
   "cell_type": "code",
   "execution_count": null,
   "id": "7ab90f82-c8e8-4ba4-9ee4-fe98d9c597fd",
   "metadata": {},
   "outputs": [],
   "source": [
    "print(odf.files['R1evt_list'])\n",
    "print(odf.files['R2evt_list'])\n",
    "print(odf.files['R1spectra'])\n",
    "print(odf.files['R2spectra'])"
   ]
  },
  {
   "cell_type": "code",
   "execution_count": null,
   "id": "dd13dfdc-66e2-43a8-8ffc-cf38f2b4cb0e",
   "metadata": {},
   "outputs": [],
   "source": [
    "odf.find_event_list_files()"
   ]
  },
  {
   "cell_type": "markdown",
   "id": "d9d6f015-b4d3-455e-8079-b069727d481d",
   "metadata": {},
   "source": [
    "<div class=\"alert alert-block alert-info\">\n",
    "<b>Note:</b> While there is only one event list for each RGS instrument, there are two spectra, one for the first two orders of diffraction. These can be combined to increase the signal to noise ratio, and we will discuss this in §10.6.\n",
    "</div>"
   ]
  },
  {
   "cell_type": "code",
   "execution_count": null,
   "id": "e033d978-308a-440c-b0eb-d447221df6ec",
   "metadata": {},
   "outputs": [],
   "source": [
    "odf.find_rgs_spectra_files()"
   ]
  },
  {
   "cell_type": "markdown",
   "id": "d40464a2-5fe1-412d-9461-23b5eb35c98d",
   "metadata": {},
   "source": [
    "### 10.1.1 : Potentially useful tips for using the pipeline"
   ]
  },
  {
   "cell_type": "markdown",
   "id": "4055a0fc-14d0-4632-84a9-7fc5ebba0188",
   "metadata": {},
   "source": [
    "The pipeline task, rgsproc, is very flexible and can address potential pitfalls for RGS users. In §10.1, we used a simple set of parameters with the task; if this is sufficient for your data (and it should be for most), feel free to skip to later sections, where data filters are discussed. In the following subsections, we will look at the cases of a nearby bright optical source, a nearby bright X-ray source, and a user-defined source."
   ]
  },
  {
   "cell_type": "markdown",
   "id": "f534d65a-d977-4e61-b380-f9e696db45e5",
   "metadata": {},
   "source": [
    "### 10.1.2 : A Nearby Bright Optical Source"
   ]
  },
  {
   "cell_type": "markdown",
   "id": "e7da2caf-cec0-423a-aef6-d991c0a17f72",
   "metadata": {},
   "source": [
    "With certain pointing angles, zeroth-order optical light may be reflected off the telescope optics and cast onto the RGS CCD detectors. If this falls on an extraction region, the current energy calibration will require a wavelength-dependent zero-offset. Stray light can be detected on RGS DIAGNOSTIC images taken before, during and after the observation. This test, and the offset correction, are not performed on the data before delivery. Please note that this will not work in every case. If a source is very bright, the diagnostic data that this relies on may not have been downloaded from the telescope in order to save bandwidth. Also, the RGS target itself cannot be the source of optical photons, as the spectrum's zero-order falls far from the RGS chip array. To check for stray light and apply the appropriate offsets, use the following inputs.\n",
    "\n",
    "```python\n",
    "rgsproc_args = [\"orders='1 2'\",\n",
    "                'bkgcorrect=no',\n",
    "                'calcoffsets=yes',\n",
    "                'withoffsethistogram=no']\n",
    "```\n",
    "\n",
    "where the parameters are as described in §10.1 and\r\n",
    "    \r\n",
    "calcoffsets - calculate PHA offsets from diagnostic image    s\r\n",
    "withoffsethistogram - produce a histogram of uncalibrated excess for the user"
   ]
  },
  {
   "cell_type": "markdown",
   "id": "bd206554-c25d-423d-84ee-2fce2816d944",
   "metadata": {},
   "source": [
    "### 10.1.3 : A Nearby Bright X-ray Source"
   ]
  },
  {
   "cell_type": "markdown",
   "id": "4e3b968e-9b0d-4b88-9ef3-2dbd53fc9f24",
   "metadata": {},
   "source": [
    "In the example above, it is assumed that the field around the source contains sky only. Provided a bright background source is well-separated from the target in the cross-dispersion direction, a mask can be created that excludes it from the background region. Here the source has been identified in the EPIC images and its coordinates have been taken from the EPIC source list which is included among the pipeline products. The bright neighboring object is found to be the third source listed in the sources file. The first source is the target. The inputs would be\n",
    "\n",
    "```python\n",
    "rgsproc_args = [\"orders='1 2'\",\n",
    "                'bkgcorrect=no',\n",
    "                'withepicset=yes',\n",
    "                'epicset=P0153950701EPX000OMSRLI0000.FTZ',\n",
    "                \"exclsrcsexpr='INDEX==1&&INDEX==3'\"]\n",
    "```\n",
    "\n",
    "where the parameters are as described in §10.1 and\n",
    "\n",
    "    withepicset - calculate extraction regions for the sources contained in an EPIC source list\n",
    "    epicset - name of the EPIC source list, such as generated by emldetect or eboxdetect procedures\n",
    "    exclsrcsexpr - expression to identify which source(s) should be excluded from the background extraction region\n",
    "\n",
    "<div class=\"alert alert-block alert-warning\">\n",
    "    <b>Notice:</b> This method uses an <b>OMSRLI</b> file which is found in the pipeline products (PPS). <b>OMSRLI</b> stands for Observation Maximum-Likelihood Source List, in this case OM does <i>not</i> stand for 'Optical Monitor'. When you ran <b>basic_setup</b> above we included the option <i>level='ALL'</i> which downloaded both the ODF and PPS data files. The file will be in the '$data_dir/obsid/PPS/' directory.\n",
    "</div>"
   ]
  },
  {
   "cell_type": "markdown",
   "id": "9d02eba3-5bcc-4dfa-83f4-ab2c5ec9b68e",
   "metadata": {},
   "source": [
    "### 10.1.4 : User-defined Source Coordinates"
   ]
  },
  {
   "cell_type": "markdown",
   "id": "cef0e26f-8ead-4a7d-bbb1-c737f8a9519a",
   "metadata": {},
   "source": [
    "If the true coordinates of an object are not included in the EPIC source list or the science proposal, the user can define the coordinates of a new source by typing:\n",
    "\n",
    "```python\n",
    "rgsproc_args = [\"orders='1 2'\",\n",
    "                'bkgcorrect=no',\n",
    "                'withsrc=yes',\n",
    "                'srclabel=Mkn421',\n",
    "                'srcstyle=radec',\n",
    "                'srcra=166.113808',\n",
    "                'srcdec=+38.208833']\n",
    "```\n",
    "\n",
    "where the parameters are as described in §10.1 and\n",
    "\n",
    "    withsrc - make the source be user-defined\n",
    "    srclabel - source name\n",
    "    srcstyle - coordinate system in which the source position is defined\n",
    "    srcra - the source's right ascension in decimal degrees\n",
    "    srcdec - the source's declination in decimal degrees\n",
    "    \n",
    "Since the event files are current, we can proceed with some simple analysis demonstrations, which will allow us to generate filters. Rememer that all tasks should be called from the work directory, and that tasks place output files in whatever directory you are in when they are called."
   ]
  },
  {
   "cell_type": "markdown",
   "id": "15b8c1fe-3fc9-48af-97c6-7e7cbdea4ab5",
   "metadata": {},
   "source": [
    "### 10.2 : Create and Display an Image"
   ]
  },
  {
   "cell_type": "markdown",
   "id": "141d2fc3-247b-4f59-872b-406462f45cfb",
   "metadata": {},
   "source": [
    "Two commonly-made plots are those showing PI vs. BETA_CORR (also known as 'banana plots') and XDSP_CORR vs. BETA_CORR.\n",
    "\n",
    "The input arguments to `evselect` to create these FITS image files are:\n",
    "\n",
    "    table - input event table\n",
    "    withimageset - make an image\n",
    "    imageset - name of output image\n",
    "    xcolumn - event column for X axis\n",
    "    ycolumn - event column for Y axis\n",
    "    imagebinning - form of binning, force entire image into a given size or bin by a specified number of pixels\n",
    "    ximagesize - output image pixels in X\n",
    "    yimagesize - output image pixels in Y"
   ]
  },
  {
   "cell_type": "code",
   "execution_count": null,
   "id": "f91b9cfc-8467-479c-b8c6-61bec06f6c12",
   "metadata": {},
   "outputs": [],
   "source": [
    "def make_fits_image(event_list_file, image_file='image.fits', xcolumn='BETA_CORR', ycolumn='PI', expression=None):\n",
    "    \n",
    "    inargs = {}\n",
    "    inargs['table']        = event_list_file+':EVENTS'\n",
    "    inargs['withimageset'] = 'yes'\n",
    "    inargs['imageset']     = image_file\n",
    "    inargs['xcolumn']      = xcolumn\n",
    "    inargs['ycolumn']      = ycolumn\n",
    "    inargs['imagebinning'] = 'imageSize'\n",
    "    inargs['ximagesize']   = '600'\n",
    "    inargs['yimagesize']   = '600'\n",
    "    if expression != None:\n",
    "        inargs['expression'] = expression\n",
    "    \n",
    "    w('evselect', inargs).run()\n",
    "\n",
    "    hdu = fits.open(image_file)[0]\n",
    "    plt.imshow(hdu.data, origin='lower', norm='log')\n",
    "    plt.colorbar()\n",
    "    plt.show()"
   ]
  },
  {
   "cell_type": "code",
   "execution_count": null,
   "id": "3dca8592-a53f-4d9f-b7de-dfdcd48477e8",
   "metadata": {
    "scrolled": true
   },
   "outputs": [],
   "source": [
    "os.chdir(odf.work_dir)\n",
    "R1_event_list = odf.files['R1evt_list'][0]\n",
    "R2_event_list = odf.files['R2evt_list'][0]\n",
    "make_fits_image(R1_event_list,image_file='pi_bc.fits')\n",
    "make_fits_image(R1_event_list,image_file='xd_bc.fits', xcolumn='BETA_CORR', ycolumn='XDSP_CORR')"
   ]
  },
  {
   "cell_type": "markdown",
   "id": "18dc7f19-3238-4bf8-bda1-0809de59316e",
   "metadata": {},
   "source": [
    "### 10.3 : Create and Display a Light Curve"
   ]
  },
  {
   "cell_type": "markdown",
   "id": "60858424-69ba-4a71-a6c2-b63fdd610958",
   "metadata": {},
   "source": [
    "The background is assessed through examination of the light curve. We will extract a region, CCD9, that is most susceptible to proton events and generally records the least source events due to its location close to the optical axis. Also, to avoid confusing solar flares for source variability, a region filter that removes the source from the final event list should be used. The region filters are kept in the source file product `*SRCLI_*.FIT`. `rgsproc` outputs an `M_LAMBDA` column which can be used to generate the light curve. (The `*SRCLI_*.FIT` file that came with the PPS products contains a `BETA_CORR` column if you prefer to use that instead.)\n",
    "\n",
    "The input arguments to `evselect` to create a light curve file are:\n",
    "\n",
    "    table - input event table\n",
    "    withrateset - make a light curve\n",
    "    rateset - name of output light curve file\n",
    "    maketimecolumn - control to create a time column\n",
    "    timecolumn - time column label\n",
    "    timebinsize - time binning (seconds)\n",
    "    makeratecolumn - control to create a count rate column, otherwise a count column will be created\n",
    "    expression - filtering expression\n"
   ]
  },
  {
   "cell_type": "code",
   "execution_count": null,
   "id": "e6f98330-8c09-4c13-acf1-f59d95d9fbd0",
   "metadata": {},
   "outputs": [],
   "source": [
    "def plot_light_curve(event_list_file, light_curve_file='ltcrv.fits',expression=None):\n",
    "                     \n",
    "    inargs = {'table': event_list_file, \n",
    "              'withrateset': 'yes', \n",
    "              'rateset': light_curve_file, \n",
    "              'maketimecolumn': 'yes', \n",
    "              'timecolumn': 'TIME', \n",
    "              'timebinsize': '50', \n",
    "              'makeratecolumn': 'yes'}\n",
    "\n",
    "    if expression != None:\n",
    "        inargs['expression'] = expression\n",
    "\n",
    "    w('evselect', inargs).run()\n",
    "\n",
    "    ts = Table.read(light_curve_file,hdu=1)\n",
    "    plt.plot(ts['TIME'],ts['RATE'])\n",
    "    plt.xlabel('Time (s)')\n",
    "    plt.ylabel('Count Rate (ct/s)')\n",
    "    plt.show()"
   ]
  },
  {
   "cell_type": "markdown",
   "id": "87960082-58b6-44e2-96ea-5faefb7f97bc",
   "metadata": {},
   "source": [
    "Sometimes, it is necessary to use filters on time in addition to those mentioned above. This is because of soft proton background flaring, which can have count rates of 100 counts/sec or higher across the entire bandpass.\n",
    "\n",
    "To determine if our observation is affected by background flaring, we can examine the light curve. For the time binning, we will set it to something reasonable such as 50 s (usually between 10 and 100 s)."
   ]
  },
  {
   "cell_type": "code",
   "execution_count": null,
   "id": "3f7b04b0-0aef-43aa-83a6-5ada7da81221",
   "metadata": {
    "scrolled": true
   },
   "outputs": [],
   "source": [
    "light_curve_file='r1_ltcrv.fits'\n",
    "\n",
    "expression = '(CCDNR==9)&&(REGION(P0153950701R1S001SRCLI_0000.FIT:RGS1_BACKGROUND,M_LAMBDA,XDSP_CORR))'\n",
    "plot_light_curve(R1_event_list, light_curve_file=light_curve_file, expression=expression)"
   ]
  },
  {
   "cell_type": "markdown",
   "id": "baf6aab0-8c81-4e57-a4fd-93138dea9b01",
   "metadata": {},
   "source": [
    "### 10.4.1 : Generating the Good Time Interval (GTI) File"
   ]
  },
  {
   "cell_type": "markdown",
   "id": "ede51462-6aeb-42af-9677-e2809e0ad666",
   "metadata": {},
   "source": [
    "Examination of the lightcurve shows that there is a loud section at the end of the observation, after 1.36975e8 seconds, where the count rate is well above the quiet count rate of $\\sim$ 0.05-0.2 count/second. To remove it, we need to make an additional Good Time Interval (GTI) file and apply it by rerunning `rgsproc`.\n",
    "\n",
    "The filtering is done in a similar way as is shown in <a href=\"./xmm_ABC_guide_images_and_filters.ipynb\">Chapter 6 of the XMM-Newton ABC Guide</a>. We will show one of the four filtering methods demonstrated in Chapter 6. The difference is that after the GTI file is made we apply it by rerunning `rgsproc` instead of filtering the event list using `evselect`. We use the light curve `r1_ltcrv.fits` we just created in the previous section.\n",
    "\n",
    "If we look at the light curve we just made we see that the typical count rate for this observation is $\\sim$ 0.05 ct/s. We can apply a rate limit of $<=$ 0.2 ct/s."
   ]
  },
  {
   "cell_type": "code",
   "execution_count": null,
   "id": "a22fb30e-8282-415b-863c-42d1ab2b5179",
   "metadata": {},
   "outputs": [],
   "source": [
    "gti_file = 'gti.fits'\n",
    "\n",
    "inargs = ['table={0}'.format(light_curve_file), \n",
    "          'gtiset={0}'.format(gti_file),\n",
    "          'timecolumn=TIME', \n",
    "          \"expression='(RATE <= 0.2)'\"]\n",
    "\n",
    "w('tabgtigen', inargs).run()"
   ]
  },
  {
   "cell_type": "markdown",
   "id": "7b7d6d5c-2734-4edc-a198-a0260974262a",
   "metadata": {},
   "source": [
    "### 10.4.2 : Apply the new GTI"
   ]
  },
  {
   "cell_type": "markdown",
   "id": "4f184224-9d26-4d0a-85c8-0e29687a1a2d",
   "metadata": {},
   "source": [
    "Now that we have a GTI file, we can apply it by running `rgsproc` again. `rgsproc` is a complex task, running several steps, with five different entry and exit points. It is not necessary to rerun all the steps in the procedure, only the ones involving filtering.\n",
    "\n",
    "To apply the GTI file we run:\n",
    "\n",
    "<div class=\"alert alert-block alert-info\">\n",
    "    <b>Note:</b> This will overwrite the original event list created when we ran <b>rgsproc</b> at the beginning.</div>"
   ]
  },
  {
   "cell_type": "code",
   "execution_count": null,
   "id": "afb34ee0-40fd-4368-a0ba-1c2235b2090e",
   "metadata": {
    "scrolled": true
   },
   "outputs": [],
   "source": [
    "inargs = [\"orders='1 2'\",\n",
    "          'auxgtitables={0}'.format(gti_file),\n",
    "          'bkgcorrect=no',\n",
    "          'withmlambdacolumn=yes',\n",
    "          'entrystage=3:filter',\n",
    "          'finalstage=5:fluxing']\n",
    "\n",
    "w('rgsproc', inargs).run()"
   ]
  },
  {
   "cell_type": "markdown",
   "id": "90367389-b59d-4448-8daa-c0b35f0ef173",
   "metadata": {},
   "source": [
    "where\n",
    "\n",
    "    orders - spectral orders to be processed\n",
    "    auxgtitables - gti file in FITS format\n",
    "    bkgcorrect - subtract background from source spectra?\n",
    "    withmlambdacolumn - include a wavelength column in the event file product\n",
    "    entrystage - stage at which to begin processing\n",
    "    finalstage - stage at which to end processing"
   ]
  },
  {
   "cell_type": "markdown",
   "id": "41838553-2818-4763-bc42-69069bc51dbf",
   "metadata": {},
   "source": [
    "### 10.5 : Creating the Response Matrices (RMFs)"
   ]
  },
  {
   "cell_type": "markdown",
   "id": "836f9785-e338-4b9e-a6ba-3e56dad73629",
   "metadata": {
    "editable": true,
    "slideshow": {
     "slide_type": ""
    },
    "tags": []
   },
   "source": [
    "<div class=\"alert alert-block alert-info\">\n",
    "<b>Note:</b > This is for demonstration purposes only. The task <i>rgsproc</i> will automatically generate response matrices (RMFs), and the RMFs are also included in the downloaded PPS files.\n",
    "</div>\n",
    "\n",
    "As noted in §10.1.4, the source coordinates are under the observer's control. The source coordinates have a profound influence on the accuracy of the wavelength scale as recorded in the RMF that is produced automatically by `rgsproc`, thus if you made any changes in the source coordinates you will have to generate new RMFs.\n",
    "\n",
    "<div class=\"alert alert-block alert-info\">\n",
    "<b>Note:</b> Each RGS instrument and each order will have its own RMF. If the user modifies the source coordinates, a new RMF will need to be created for each RGS instrument and each order.\n",
    "</div>\n",
    "\n",
    "Making the RMF is easily done with the package `rgsrmfgen`. Please note that, unlike with EPIC data, it is not necessary to make ancillary response files (ARFs). Below we demonstrate generating RMFs for RGS1 and RGS2, but only for the first order."
   ]
  },
  {
   "cell_type": "code",
   "execution_count": null,
   "id": "9522b824-9ecb-4678-8019-e407a4cbfb7b",
   "metadata": {},
   "outputs": [],
   "source": [
    "rmf1_file = 'r1_o1_rmf.fits'\n",
    "rmf2_file = 'r2_o1_rmf.fits'\n",
    "\n",
    "inargs = {}\n",
    "inargs['spectrumset'] = odf.files['R1spectra'][0]\n",
    "inargs['rmfset']      = rmf1_file\n",
    "inargs['evlist']      = R1_event_list\n",
    "inargs['emin']        = 0.4\n",
    "inargs['emax']        = 2.5\n",
    "inargs['rows']        = 4000\n",
    "\n",
    "w('rgsrmfgen', inargs).run()\n",
    "\n",
    "inargs['spectrumset'] = odf.files['R2spectra'][0]\n",
    "inargs['rmfset']      = rmf2_file\n",
    "inargs['evlist']      = R2event_list\n",
    "\n",
    "w('rgsrmfgen', inargs).run()"
   ]
  },
  {
   "cell_type": "markdown",
   "id": "1b0950e5-2f5c-4c27-aab4-07f17da4ba74",
   "metadata": {},
   "source": [
    "where\n",
    "\n",
    "    spectrumset - spectrum file\n",
    "    evlist - event file\n",
    "    emin - lower energy limit of the response file\n",
    "    emax - upper energy limit of the response file\n",
    "    rows - number of energy bins; this should be greater than 3000\n",
    "    rmfset - output FITS file\n",
    "    \n",
    "RMFs for the RGS1 2nd order, and for the RGS2 1st and 2nd orders, are made in a similar way. At this point, the spectra can be analyzed or combined with other spectra."
   ]
  },
  {
   "cell_type": "markdown",
   "id": "d0f80376-8afd-4825-88f0-9c4a5f1d4347",
   "metadata": {},
   "source": [
    "### 10.6 : Combining Spectra"
   ]
  },
  {
   "cell_type": "markdown",
   "id": "229d9b78-8738-47ec-88a1-ef082bc9d387",
   "metadata": {},
   "source": [
    "Spectra from the same order in RGS1 and RGS2 can be safely combined to create a spectrum with higher signal-to-noise if they were reprocessed using `rgsproc` with `spectrumbinning=lambda`, as we did in §10.1 (this also happens to be the default). (Spectra of different orders, from one particular instrument, can also be merged if they were reprocessed using `rgsproc` with `spectrumbinning=beta`.) The task `rgscombine` also merges response files and background spectra. When merging response files, be sure that they have the same number of bins. For this example, we will use the RMFs that were made using `rgsproc` for order 1 in both RGS1 and RGS2.\n",
    "\n",
    "To merge the first order RGS1 and RGS2 spectra we run,"
   ]
  },
  {
   "cell_type": "code",
   "execution_count": null,
   "id": "dcf51b95-dbf8-49ed-a479-aa441a7293f3",
   "metadata": {},
   "outputs": [],
   "source": [
    "inargs = {}\n",
    "inargs['pha']     = '{0} {1}'.format(odf.files['R1spectra'][0],odf.files['R2spectra'][0])\n",
    "inargs['rmf']     = 'P0153950701R1S001RSPMAT1001.FIT P0153950701R2S002RSPMAT1001.FIT'\n",
    "inargs['bkg']     = 'P0153950701R1S001BGSPEC1001.FIT P0153950701R2S002BGSPEC1001.FIT'\n",
    "inargs['filepha'] = 'r12_o1_srspec.fits'\n",
    "inargs['filermf'] = 'r12_o1_rmf.fits'\n",
    "inargs['filebkg'] = 'r12_o1_bgspec.fits'\n",
    "#inargs['rmfgrid'] = 4000\n",
    "\n",
    "w('rgscombine', inargs).run()"
   ]
  },
  {
   "cell_type": "markdown",
   "id": "84cb5e18-f68b-4276-89db-35973b0d2d8f",
   "metadata": {},
   "source": [
    "where\n",
    "\n",
    "    pha - list of spectrum files\n",
    "    rmf - list of response matrices\n",
    "    bkg - list of bakcground spectrum files\n",
    "    filepha - output merged spectrum\n",
    "    filermf - output merged response matrix\n",
    "    filebkg - output merged badkground spectrum\n",
    "    rmfgrid - number of energy bins; should be the same as the input RMFs\n",
    "    \n",
    "The spectra are ready for analysis. To prepare the spectrum for fitting please consult [Chapter 14 in the ABC Guide](https://heasarc.gsfc.nasa.gov/docs/xmm/abc/node16.html#Chap:rgs-fit-xspec)."
   ]
  }
 ],
 "metadata": {
  "kernelspec": {
   "display_name": "Python 3 (ipykernel)",
   "language": "python",
   "name": "python3"
  },
  "language_info": {
   "codemirror_mode": {
    "name": "ipython",
    "version": 3
   },
   "file_extension": ".py",
   "mimetype": "text/x-python",
   "name": "python",
   "nbconvert_exporter": "python",
   "pygments_lexer": "ipython3",
   "version": "3.11.5"
  }
 },
 "nbformat": 4,
 "nbformat_minor": 5
}

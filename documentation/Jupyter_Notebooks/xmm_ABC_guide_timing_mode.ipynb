{
 "cells": [
  {
   "cell_type": "markdown",
   "id": "95220aeb-e7d6-43ba-9f8f-a83b7f62ccb2",
   "metadata": {},
   "source": [
    "# ABC Guide for XMM-Newton -- Chapter 8 (Timing Mode)\n",
    "\n",
    "---\n",
    "\n",
    "#### Introduction\n",
    "This tutorial is based on Chapter 8 from the [The XMM-Newton ABC Guide](https://heasarc.gsfc.nasa.gov/docs/xmm/abc/ \"ABC Guide\") prepared by the NASA/GSFC XMM-Newton Guest Observer Facility. This notebook assumes you are using the version of pySAS found on [GitHub](https://github.com/XMMGOF/pysas) and have already configured it to work with your SAS installation (see the [README on GitHub](https://github.com/XMMGOF/pysas/blob/main/README.md)). \n",
    "#### Expected Outcome\n",
    "The ability to process EPIC data in the timing mode and prepare it for analysis.\n",
    "#### SAS Tasks to be Used\n",
    "\n",
    "- `epproc`[(Documentation for epproc)](https://xmm-tools.cosmos.esa.int/external/sas/current/doc/epproc/index.html \"epproc Documentation\")\n",
    "- `evselect`[(Documentation for evselect)](https://xmm-tools.cosmos.esa.int/external/sas/current/doc/evselect/index.html)\n",
    "- `tabgtigen`[(Documentation for tabgtigen)](https://xmm-tools.cosmos.esa.int/external/sas/current/doc/tabgtigen/index.html)\n",
    "- `gtibuild`[(Documentation for gtibuild)](https://xmm-tools.cosmos.esa.int/external/sas/current/doc/gtibuild/index.html)\n",
    "\n",
    "#### Prerequisites\n",
    "<div class=\"alert alert-block alert-info\">\n",
    "    <b>Note:</b> Before running this notebook, or even starting a Jupyter Lab session, HEASOFT has to be initialized. If you did not initalize HEASOFT before starting this Jupyter Lab session, or opening this notebook, please close this window and initalize HEASOFT (it is not possible to initalize HEASOFT from within a Jupyter Notebook). SAS defaults for your machine will need to be set as explained in the README on GitHub (https://github.com/XMMGOF/pysas/blob/main/README.md).\n",
    "</div>\n",
    "\n",
    "#### Useful Links\n",
    "\n",
    "- [`pysas` Documentation](https://xmm-tools.cosmos.esa.int/external/sas/current/doc/pysas/index.html \"pysas Documentation\")\n",
    "- [`pysas` on GitHub](https://github.com/XMMGOF/pysas)\n",
    "- [Common SAS Threads](https://www.cosmos.esa.int/web/xmm-newton/sas-threads \"SAS Threads\")\n",
    "- [Users' Guide to the XMM-Newton Science Analysis System (SAS)](https://xmm-tools.cosmos.esa.int/external/xmm_user_support/documentation/sas_usg/USG/SASUSG.html \"Users' Guide\")\n",
    "- [The XMM-Newton ABC Guide](https://heasarc.gsfc.nasa.gov/docs/xmm/abc/ \"ABC Guide\")\n",
    "- [XMM Newton GOF Helpdesk](https://heasarc.gsfc.nasa.gov/docs/xmm/xmm_helpdesk.html \"Helpdesk\") - Link to form to contact the GOF Helpdesk.\n",
    "\n",
    "#### Caveats\n",
    "This tutorial uses an observation of Cen X-3 (obsid = '0400550201')."
   ]
  },
  {
   "cell_type": "markdown",
   "id": "7eebc609-8d0a-40be-a848-cc6abf26f406",
   "metadata": {},
   "source": [
    "##### Last Reviewed: _29 July 2024, for SAS v21_\n",
    "##### Last Updated: _29 July 2024_\n",
    "##### By: Ryan Tanner (ryan.tanner@nasa.gov)\n",
    "---"
   ]
  },
  {
   "cell_type": "code",
   "execution_count": null,
   "id": "c36c8366-38cb-4a4f-ad8c-75937fe0484a",
   "metadata": {},
   "outputs": [],
   "source": [
    "# pySAS imports\n",
    "import pysas\n",
    "from pysas.wrapper import Wrapper as w\n",
    "\n",
    "# Useful imports\n",
    "import os\n",
    "import subprocess\n",
    "\n",
    "# Imports for plotting\n",
    "import matplotlib.pyplot as plt\n",
    "from astropy.visualization import astropy_mpl_style\n",
    "from astropy.io import fits\n",
    "from astropy.wcs import WCS\n",
    "from astropy.table import Table\n",
    "plt.style.use(astropy_mpl_style)"
   ]
  },
  {
   "cell_type": "markdown",
   "id": "4a8b6683-eb97-4ed6-8530-41712367eebb",
   "metadata": {},
   "source": [
    "### 8.1 : Rerun basic processing"
   ]
  },
  {
   "cell_type": "markdown",
   "id": "66fd5c57-eb12-4fe7-8387-e25d73988b70",
   "metadata": {},
   "source": [
    "<div class=\"alert alert-block alert-info\">\n",
    "    <b>Note:</b> Running epproc and emproc on this particular obsid will take A LONG TIME, depending on your machine. Be prepared to wait.\n",
    "</div>"
   ]
  },
  {
   "cell_type": "code",
   "execution_count": null,
   "id": "3b52b56f-e3a3-4109-ab96-426130531578",
   "metadata": {
    "scrolled": true,
    "tags": []
   },
   "outputs": [],
   "source": [
    "obsid = '0400550201'\n",
    "odf = pysas.odfcontrol.ODFobject(obsid)\n",
    "odf.basic_setup(overwrite=False,repo='heasarc',rerun=False)"
   ]
  },
  {
   "cell_type": "markdown",
   "id": "c8e45876-d6cb-4f7a-9975-6f1dbeb42e15",
   "metadata": {},
   "source": [
    "We start by reprocessing the data. The SAS task `epproc` will automatically detect if the data was taken in either imaging mode or timing mode.\n",
    "\n",
    "We also note that for this particular observation not all instruments were used. Which instruments were active for this observation is stored in a dictionary in the `odf` object. This data is contained in the ODF summary file, `sas_odf`."
   ]
  },
  {
   "cell_type": "code",
   "execution_count": null,
   "id": "5d69abc3-3d83-4f90-8053-4fd881f12e49",
   "metadata": {},
   "outputs": [],
   "source": [
    "odf.active_instruments"
   ]
  },
  {
   "cell_type": "markdown",
   "id": "8c6a9e29-e7ae-43e3-9c2b-62c1352d1091",
   "metadata": {},
   "source": [
    "We see that only one of the MOS cameras was used, both RGS, the pn, but not the optical monitor. In this case we only care about the pn."
   ]
  },
  {
   "cell_type": "markdown",
   "id": "15b8c1fe-3fc9-48af-97c6-7e7cbdea4ab5",
   "metadata": {},
   "source": [
    "### 8.2 : Create and Display an Image"
   ]
  },
  {
   "cell_type": "markdown",
   "id": "95bc5614-c845-48be-8d41-b210a9a7ee91",
   "metadata": {},
   "source": [
    "Below we define a useful function to make image plotting easier. It uses `evselect` to create a FITS image file from a FITS event list file. As a default it creates a file named \"image.fits\" and this file will be overwritten each time the function is called. If you want your image file to have a unique name then use the function input \"image_file\". For example:\n",
    "\n",
    "```python\n",
    "make_fits_image('event_list_file.fits', image_file='my_special_image.fits')\n",
    "```\n",
    "---\n",
    "The input arguments to `evselect` to create a FITS image file are:\n",
    "\n",
    "    table - input event list file name\n",
    "    withimageset - make an image\n",
    "    imageset - name of output image file\n",
    "    xcolumn - event column for X axis\n",
    "    ycolumn - event column for Y axis\n",
    "    imagebinning - form of binning, force entire image into a given size or bin by a specified number of pixels\n",
    "    ximagebinsize - output X bin sizes in pixels\n",
    "    yimagebinsize - output Y bin sizes in pixels"
   ]
  },
  {
   "cell_type": "markdown",
   "id": "0a0934a4-aa08-4058-9809-8d967f1d254f",
   "metadata": {},
   "source": [
    "<div class=\"alert alert-block alert-info\">\n",
    "    <b>Note:</b> The inputs for evselect are slightly different from inputs used for plotting in the Jupyter Notebook for Chapter 6, Part 1 of the ABC Guide. In that notebook the image was binned to a total number of pixels in the X and Y directions. Here the detector pixels are binned using a set bin size, in this case \"1\" in both the X and Y directions.\n",
    "</div>"
   ]
  },
  {
   "cell_type": "code",
   "execution_count": null,
   "id": "f91b9cfc-8467-479c-b8c6-61bec06f6c12",
   "metadata": {},
   "outputs": [],
   "source": [
    "def make_fits_image(event_list_file, image_file='image.fits', expression=None):\n",
    "    \n",
    "    inargs = {}\n",
    "    inargs['table']        = event_list_file\n",
    "    inargs['withimageset'] = 'yes'\n",
    "    inargs['imageset']     = image_file\n",
    "    inargs['xcolumn']      = 'RAWX'\n",
    "    inargs['ycolumn']      = 'RAWY'\n",
    "    inargs['imagebinning'] = 'binSize'\n",
    "    inargs['ximagebinsize']   = '1'\n",
    "    inargs['yimagebinsize']   = '1'\n",
    "    if expression != None:\n",
    "        inargs['expression'] = expression\n",
    "    \n",
    "    w('evselect', inargs).run()\n",
    "\n",
    "    hdu = fits.open(image_file)[0]\n",
    "    plt.imshow(hdu.data, origin='lower', norm='log', aspect=0.2)\n",
    "    plt.colorbar()\n",
    "    plt.show()"
   ]
  },
  {
   "cell_type": "markdown",
   "id": "1402d8fe-c196-48dd-bfeb-e90902c959ba",
   "metadata": {},
   "source": [
    "We also define a function to make plotting light curves simpler. As with the function `make_fits_image` it uses `evselect` to create the light curve. It also creates a default light curve FITS file.\n",
    "\n",
    "---\n",
    "The input arguments to `evselect` to create a light curve file are:\n",
    "\n",
    "    table - input event table\n",
    "    withrateset - make a light curve\n",
    "    rateset - name of output light curve file\n",
    "    maketimecolumn - control to create a time column\n",
    "    timecolumn - time column label\n",
    "    timebinsize - time binning (seconds)\n",
    "    makeratecolumn - control to create a count rate column, otherwise a count column will be created\n"
   ]
  },
  {
   "cell_type": "code",
   "execution_count": null,
   "id": "e6f98330-8c09-4c13-acf1-f59d95d9fbd0",
   "metadata": {},
   "outputs": [],
   "source": [
    "def plot_light_curve(event_list_file, light_curve_file='ltcrv.fits'):\n",
    "                     \n",
    "    inargs = {'table': event_list_file, \n",
    "              'withrateset': 'yes', \n",
    "              'rateset': light_curve_file, \n",
    "              'maketimecolumn': 'yes', \n",
    "              'timecolumn': 'TIME', \n",
    "              'timebinsize': '50', \n",
    "              'makeratecolumn': 'yes'}\n",
    "\n",
    "    w('evselect', inargs).run()\n",
    "\n",
    "    ts = Table.read(light_curve_file,hdu=1)\n",
    "    plt.plot(ts['TIME'],ts['RATE'])\n",
    "    plt.xlabel('Time (s)')\n",
    "    plt.ylabel('Count Rate (ct/s)')\n",
    "    plt.show()"
   ]
  },
  {
   "cell_type": "markdown",
   "id": "8d68d9c3-396e-4ced-8475-ef30d378ecd8",
   "metadata": {},
   "source": [
    "We need to change into the work directory to run the next SAS tasks. We also get the name and path to the event list file created in §8.1."
   ]
  },
  {
   "cell_type": "code",
   "execution_count": null,
   "id": "1968b75e-9296-4d6b-aad3-3a6881453c4e",
   "metadata": {
    "tags": []
   },
   "outputs": [],
   "source": [
    "os.chdir(odf.work_dir)\n",
    "pn_burst           = odf.files['PNevt_list'][0]\n",
    "basic_filter_file  = 'pn_basic_filter.fits'\n",
    "basic_filter_image = 'pn_basic_image.fits'\n",
    "basic_filter_ltcrv = 'basic_filter_ltcrv.fits'\n",
    "final_filter_image = 'final_filter_image.fits'\n",
    "source_pi_file     = 'source_pi_WithBore.fits'\n",
    "bkg_pi_file        = 'bkg_pi.fits'\n",
    "pn_spectra_file    = 'pn_filt_source_WithBore.fits'\n",
    "pn_bkg_file        = 'pn_filt_bkg.fits'"
   ]
  },
  {
   "cell_type": "markdown",
   "id": "cddbecc3-35cf-4e63-a58e-fe11273fa8f6",
   "metadata": {},
   "source": [
    "Here we plot an image of the raw data with no filters applied."
   ]
  },
  {
   "cell_type": "code",
   "execution_count": null,
   "id": "09dd6bc7-67dc-4c2c-b82f-d280409d7112",
   "metadata": {},
   "outputs": [],
   "source": [
    "make_fits_image(pn_burst)"
   ]
  },
  {
   "cell_type": "code",
   "execution_count": null,
   "id": "b8a82f49-b916-41f4-8325-11849969db9a",
   "metadata": {
    "scrolled": true
   },
   "outputs": [],
   "source": [
    "plot_light_curve(pn_burst)"
   ]
  },
  {
   "cell_type": "markdown",
   "id": "38dc5e2e-53f9-436f-bb13-5db71d9c3f9a",
   "metadata": {},
   "source": [
    "### 8.3 : Apply Standard Filter"
   ]
  },
  {
   "cell_type": "markdown",
   "id": "61d6bdff-228c-41d0-9f5e-ce29c97d4fd1",
   "metadata": {},
   "source": [
    "The filtering expression for the PN in Timing mode is:\n",
    "```\n",
    "(PATTERN <= 4)&&(PI in [200:15000])&&#XMMEA_EP\n",
    "```\n",
    "The first two expressions will select good events with PATTERN in the 0 to 4 range. The PATTERN value is similar the GRADE selection for ASCA data, and is related to the number and pattern of the CCD pixels triggered for a given event. Single pixel events have PATTERN == 0, while double pixel events have PATTERN in [1:4].\n",
    "\n",
    "The second keyword in the expressions, PI, selects the preferred pulse height of the event; for the PN, this should be between 200 and 15000 eV. This should clean up the image significantly with most of the rest of the obvious contamination due to low pulse height events. Setting the lower PI channel limit somewhat higher (e.g., to 300 or 400 eV) will eliminate much of the Here we will use a lower limit of 400 eV. rest.\n",
    "\n",
    "Finally, the #XMMEA_EP filter provides a canned screening set of FLAG values for the event. (The FLAG value provides a bit encoding of various event conditions, e.g., near hot pixels or outside of the field of view.) Setting FLAG == 0 in the selection expression provides the most conservative screening criteria and should always be used when serious spectral analysis is to be done on PN data."
   ]
  },
  {
   "cell_type": "code",
   "execution_count": null,
   "id": "a81bf645-ed6c-41b3-a223-276522d475d9",
   "metadata": {
    "scrolled": true,
    "tags": []
   },
   "outputs": [],
   "source": [
    "inargs = {'table': pn_burst, \n",
    "          'withfilteredset': 'yes', \n",
    "          'expression': \"'(PATTERN <= 4)&&(PI in [200:15000])&&#XMMEA_EP'\", \n",
    "          'filteredset': basic_filter_file, \n",
    "          'filtertype': 'expression', \n",
    "          'keepfilteroutput': 'yes', \n",
    "          'updateexposure': 'yes', \n",
    "          'filterexposure': 'yes'}\n",
    "\n",
    "w('evselect', inargs).run()\n",
    "inargs = {}\n",
    "\n",
    "make_fits_image(basic_filter_file, image_file=basic_filter_image)"
   ]
  },
  {
   "cell_type": "markdown",
   "id": "18dc7f19-3238-4bf8-bda1-0809de59316e",
   "metadata": {},
   "source": [
    "### 8.4 : Create and Display a Light Curve"
   ]
  },
  {
   "cell_type": "markdown",
   "id": "87960082-58b6-44e2-96ea-5faefb7f97bc",
   "metadata": {},
   "source": [
    "Sometimes, it is necessary to use filters on time in addition to those mentioned above. This is because of soft proton background flaring, which can have count rates of 100 counts/sec or higher across the entire bandpass.\n",
    "\n",
    "To determine if our observation is affected by background flaring, we can examine the light curve. For the time binning, we will set it to something reasonable (usually between 10 and 100 s)."
   ]
  },
  {
   "cell_type": "code",
   "execution_count": null,
   "id": "3f7b04b0-0aef-43aa-83a6-5ada7da81221",
   "metadata": {
    "scrolled": true
   },
   "outputs": [],
   "source": [
    "plot_light_curve(basic_filter_file, light_curve_file=basic_filter_ltcrv)"
   ]
  },
  {
   "cell_type": "markdown",
   "id": "4079d2b3-3796-459d-9269-e6fc32117dde",
   "metadata": {},
   "source": [
    "In this case no flares are evident, so we will continue to the next section. However, if a dataset does contain flares, they should be removed in the same way as shown for EPIC Imaging mode data in §6.5."
   ]
  },
  {
   "cell_type": "markdown",
   "id": "b4eb2765-3e0e-4a7e-b96e-e9d8f7c60fed",
   "metadata": {},
   "source": [
    "### 8.5 : Extract the Source and Background Spectra"
   ]
  },
  {
   "cell_type": "markdown",
   "id": "abf67643-fd5d-4cfa-acd3-a91d7081c92f",
   "metadata": {},
   "source": [
    "The first step in extracting a spectrum from PN Timing data is to make an image of the event file over the energy range we are interested in; for this example, we'll say 0.5-15 keV. And since this is the PN, we need to remember to set `(FLAG==0)` to get a high-quality spectrum. Thus, our expression parameter would be set to `(FLAG==0) && (PI in [500:15000])`, and we make a new image using this expression."
   ]
  },
  {
   "cell_type": "code",
   "execution_count": null,
   "id": "9dd28abd-b95e-4542-823d-03d8b76dd82b",
   "metadata": {
    "scrolled": true
   },
   "outputs": [],
   "source": [
    "make_fits_image(basic_filter_file, image_file=final_filter_image, \n",
    "                expression=\"'(FLAG==0) && (PI in [500:15000])'\")"
   ]
  },
  {
   "cell_type": "markdown",
   "id": "7c67824c-4e50-4daf-ae3c-58e36beb78b8",
   "metadata": {},
   "source": [
    "The source is centered on `RAWX=37`; we will extract this and the 10 pixels on either side of it:"
   ]
  },
  {
   "cell_type": "code",
   "execution_count": null,
   "id": "24455ebb-c164-4bc8-9099-4b0bc44e35c2",
   "metadata": {},
   "outputs": [],
   "source": [
    "expression = \"'(FLAG==0) && (PI in [500:15000]) && (RAWX in [27:47])'\""
   ]
  },
  {
   "cell_type": "code",
   "execution_count": null,
   "id": "a190c834-4359-4903-b4f7-c8b0f26ddf4c",
   "metadata": {
    "scrolled": true
   },
   "outputs": [],
   "source": [
    "inargs = {}\n",
    "inargs['table']           = basic_filter_file\n",
    "inargs['spectrumset']     = source_pi_file\n",
    "inargs['energycolumn']    = 'PI'\n",
    "inargs['spectralbinsize'] = '5'\n",
    "inargs['specchannelmin']  = '0'\n",
    "inargs['specchannelmax']  = '20479'\n",
    "inargs['withfilteredset'] = 'yes'\n",
    "inargs['filteredset']     = pn_spectra_file\n",
    "inargs['expression']      = expression\n",
    "\n",
    "w('evselect', inargs).run()"
   ]
  },
  {
   "cell_type": "markdown",
   "id": "a2e6c44b-80e9-48a2-90d3-4cb1e9e19e1e",
   "metadata": {},
   "source": [
    "For the background, the extraction area should be as far from the source as possible. However, sources with > 200 ct/s (like our example!) are so bright that they dominate the entire CCD area, and there is no source-free region from which to extract a background. (It goes without saying that this is highly energy-dependent.) In such a case, it may be best not to subtract a background. Users are referred to Ng et al. (2010, A&A, 522, 96) for an in-depth discussion. While this observation is too bright to have a good background extraction region, the process is shown below nonetheless for the sake of demonstration:"
   ]
  },
  {
   "cell_type": "code",
   "execution_count": null,
   "id": "cf1a174a-a33b-4e82-a62b-5a3c06927251",
   "metadata": {},
   "outputs": [],
   "source": [
    "expression = \"'(FLAG==0) && (PI in [500:15000]) && (RAWX in [3:5])'\""
   ]
  },
  {
   "cell_type": "code",
   "execution_count": null,
   "id": "9608401c-3b97-4f24-8b50-79884f565a8b",
   "metadata": {
    "scrolled": true
   },
   "outputs": [],
   "source": [
    "inargs = {}\n",
    "inargs['table']           = basic_filter_file\n",
    "inargs['withspectrumset'] = 'yes'\n",
    "inargs['spectrumset']     = bkg_pi_file\n",
    "inargs['energycolumn']    = 'PI'\n",
    "inargs['spectralbinsize'] = '5'\n",
    "inargs['withspecranges']  = 'yes'\n",
    "inargs['specchannelmin']  = '0'\n",
    "inargs['specchannelmax']  = '20479'\n",
    "inargs['withfilteredset'] = 'yes'\n",
    "inargs['filteredset']     = pn_bkg_file\n",
    "inargs['expression']      = expression\n",
    "\n",
    "w('evselect', inargs).run()"
   ]
  },
  {
   "cell_type": "markdown",
   "id": "9a73807e-bba2-4001-8eec-7b74f34bc57d",
   "metadata": {},
   "source": [
    "### 8.6 : Check for Pile Up"
   ]
  },
  {
   "cell_type": "markdown",
   "id": "24c2dea8-c360-4d40-b3b9-92906247861d",
   "metadata": {},
   "source": [
    "Depending on how bright the source is and what modes the EPIC detectors are in, event pile up may be a problem. Pile up occurs when a source is so bright that incoming X-rays strike two neighboring pixels or the same pixel in the CCD more than once in a read-out cycle. In such cases the energies of the two events are in effect added together to form one event. If this happens sufficiently often, \n",
    "\n",
    "    1. The spectrum will appear to be harder than it actually is, and \n",
    "    2. The count rate will be underestimated, since multiple events will be undercounted. \n",
    "\n",
    "Briefly, we deal with it in PN Timing data essentially the same way as in Imaging data, that is, by using only single pixel events, and/or removing the regions with very high count rates, checking the amount of pile up, and repeating until it is no longer a problem. We recommend to always check for it.\n",
    "\n",
    "Note that this procedure requires as input the event files created when the spectrum was made (i.e. `pn_spectra_file = 'pn_filt_source_WithBore.fits'`), not the usual time-filtered event file."
   ]
  },
  {
   "cell_type": "code",
   "execution_count": null,
   "id": "0bd74ccc-fc80-4a6f-b4b7-6518291bab1d",
   "metadata": {
    "scrolled": true
   },
   "outputs": [],
   "source": [
    "inargs = ['set={0}'.format(pn_spectra_file),\n",
    "          'plotfile=pn_epat.ps',\n",
    "          'useplotfile=yes',\n",
    "          'withbackgroundset=yes',\n",
    "          'backgroundset={0}'.format(pn_bkg_file)]\n",
    "\n",
    "w('epatplot', inargs).run()"
   ]
  },
  {
   "cell_type": "code",
   "execution_count": null,
   "id": "f3cc46ae-c0f8-4118-a86a-e0c84bc79d29",
   "metadata": {},
   "outputs": [],
   "source": [
    "gv_out = subprocess.run(['gv','pn_epat.ps'],stdout = subprocess.DEVNULL)\n",
    "# Note: You will need to close the window that opens to run the remaining cells in this notebook."
   ]
  },
  {
   "cell_type": "markdown",
   "id": "9a166218-9095-4ca2-9da7-dffeabee9b66",
   "metadata": {},
   "source": [
    "The output of epatplot is a postscript file, `pn_epat.ps`, which may be viewed with viewers such as `gv`, containing two graphs describing the distribution of counts as a function of PI channel; see figure below."
   ]
  },
  {
   "cell_type": "markdown",
   "id": "3080244a-1852-4e5b-b3f9-9d3c90273043",
   "metadata": {},
   "source": [
    "<center><img src=\"_images/pile_up_Cen_X-3.png\"/></center>"
   ]
  },
  {
   "cell_type": "markdown",
   "id": "54a49676-6a55-48dc-9776-7738a5bd1b88",
   "metadata": {},
   "source": [
    "A few words about interpretting the plots are in order. The top is the distribution of counts versus PI channel for each pattern class (single, double, triple, quadruple), and the bottom is the expected pattern distribution (smooth lines) plotted over the observed distribution (line with noise). The lower plot shows the model distributions for single and double events and the observed distributions. It also gives the ratio of observed-to-modeled events with $1-\\sigma$ uncertainties for single and double pattern events over a given energy range. (The default is 0.5-2.0 keV; this can be changed with the `pileupnumberenergyrange` parameter.) If the data is not piled up, there will be good agreement between the modeled and observed single and double event pattern distributions. Also, the observed-to-modeled fractions for both singles and doubles in the 0.5-2.0 keV range will be unity, within errors. In contrast, if the data is piled up, there will be clear divergence between the modeled and observed pattern distributions, and the observed-to-modeled fraction for singles will be less than 1.0, and for doubles, it will be greater than 1.0.\n",
    "\n",
    "Finally, when examining the plots, it should noted that the observed-to-modeled fractions can be inaccurate. Therefore, the agreement between the modeled and observed single and double event pattern distributions should be the main factor in determining if an observation is affected by pile up or not.\n",
    "\n",
    "Examining the plots, we see that there is a large difference between the modeled and observed single and double pattern events at $> 1.0$ keV, but this divergence is not reflected in the observed-to-model fractions since for singles it is $> 1.0$ with $1.011\\pm 0.001$, and for doubles it is $<1.0$ with $0.977\\pm 0.001$.\n",
    "\n",
    "To capture the pile up we need to extend the energy range for the observed-to-model fraction calculations. The default is $500-2000$ eV. Let us set the range to $1000-5000$ eV."
   ]
  },
  {
   "cell_type": "code",
   "execution_count": null,
   "id": "ec053ac6-8d89-4efc-b8d3-bdf2b4f9be46",
   "metadata": {
    "scrolled": true
   },
   "outputs": [],
   "source": [
    "inargs = ['set={0}'.format(pn_spectra_file),\n",
    "          'plotfile=pn_epat.ps',\n",
    "          'useplotfile=yes',\n",
    "          'pileupnumberenergyrange=1000 5000',\n",
    "          'withbackgroundset=yes',\n",
    "          'backgroundset={0}'.format(pn_bkg_file)]\n",
    "\n",
    "w('epatplot', inargs).run()"
   ]
  },
  {
   "cell_type": "code",
   "execution_count": null,
   "id": "9586c829-737f-405b-a39c-4b8ed20e27f5",
   "metadata": {},
   "outputs": [],
   "source": [
    "gv_out = subprocess.run(['gv','pn_epat.ps'],stdout = subprocess.DEVNULL)\n",
    "# Note: You will need to close the window that opens to run the remaining cells in this notebook."
   ]
  },
  {
   "cell_type": "markdown",
   "id": "77c08fa5-ee39-4637-99f7-6434c4a9b247",
   "metadata": {},
   "source": [
    "Now the cacluated observed-to-model fractions are $0.988\\pm 0.001$ for singles, and $1.121\\pm 0.001$ for doubles. This shows clear evidence of pile up."
   ]
  },
  {
   "cell_type": "markdown",
   "id": "258e3e42-63c3-4555-8b0d-649635123f51",
   "metadata": {},
   "source": [
    "### 8.7 : My Observation is Piled Up! Now What?"
   ]
  },
  {
   "cell_type": "markdown",
   "id": "9d4238f1-a10a-4108-a122-195cba9d61b4",
   "metadata": {},
   "source": [
    "There are a couple ways to deal with pile up. First, you can use event file filtering procedures to include only single pixel events `(PATTERN==0)`, as these events are less sensitive to pile up than other patterns.\n",
    "\n",
    "You can also excise areas of high count rates, i.e., the boresight column and several columns to either side of it. (This is analogous to removing the inner-most regions of a source in Imaging data.) The spectrum can then be re-extracted and you can continue your analysis on the excised event file. As with Imaging data, it is recommended that you take an iterative approach: remove an inner region, extract a spectrum, check with epatplot, and repeat, each time removing a slightly larger region, until the model and observed pattern distributions agree.\n",
    "\n",
    "To extract only the columns to either side of the boresight using the following expression when running `evselect`. All other inputs are the same as in §8.5.\n",
    "\n",
    "<div class=\"alert alert-block alert-info\">\n",
    "    <b>Note:</b> We will not do the additional filtering for pile up here. We will just show the expression and inputs below. If you are only concerned with lower energies in the range of 500-2000 eV then pile up does not significantly affect this observation. But if you are interested in higher energies > 2000 eV, then you will need to correct for pile up. We recommend checking for pile up in the energy range you are interested in by using the <i>pileupnumberenergyrange</i> input for <i>epatplot</i>.\n",
    "</div>\n",
    "\n",
    "```python\n",
    "expression = \"'(FLAG==0)&&(PI in [500:15000])&&(RAWX in [3:5])&&!(RAWX in [29:45])'\"\n",
    "\n",
    "inargs = {}\n",
    "inargs['table']           = basic_filter_file\n",
    "inargs['withspectrumset'] = 'yes'\n",
    "inargs['spectrumset']     = source_pi_file\n",
    "inargs['energycolumn']    = 'PI'\n",
    "inargs['spectralbinsize'] = '5'\n",
    "inargs['withspecranges']  = 'yes'\n",
    "inargs['specchannelmin']  = '0'\n",
    "inargs['specchannelmax']  = '20479'\n",
    "inargs['withfilteredset'] = 'yes'\n",
    "inargs['filteredset']     = pn_spectra_file\n",
    "inargs['expression']      = expression\n",
    "\n",
    "w('evselect', inargs).run()\n",
    "```"
   ]
  },
  {
   "cell_type": "markdown",
   "id": "9aa79ba9-7320-4e52-924f-c8c41b4f7413",
   "metadata": {},
   "source": [
    "### 8.8 : Determine the Spectrum Extraction Areas"
   ]
  },
  {
   "cell_type": "markdown",
   "id": "f58dfe50-b598-43f7-a1a1-83befac868cb",
   "metadata": {},
   "source": [
    "Now that we are confident that our spectrum is not piled up, we can continue by finding the source and background region areas. (This process is identical to that used for IMAGING data.) This is done with the task backscale, which takes into account any bad pixels or chip gaps, and writes the result into the BACKSCAL keyword of the spectrum table.\n",
    "\n",
    "The inputs are:\n",
    "\n",
    "    -spectrumset - (input) spectrum file\n",
    "    -badpixlocation - (output) event file containing the bad pixels"
   ]
  },
  {
   "cell_type": "code",
   "execution_count": null,
   "id": "a6ff31da-f894-479f-bff0-6ccf0878a79d",
   "metadata": {
    "scrolled": true
   },
   "outputs": [],
   "source": [
    "inargs = ['spectrumset={0}'.format(source_pi_file),\n",
    "          'badpixlocation=pn_filt.fits']\n",
    "\n",
    "w('backscale', inargs).run()"
   ]
  },
  {
   "cell_type": "code",
   "execution_count": null,
   "id": "92cb3633-53fc-45e4-bda1-a307394a9186",
   "metadata": {
    "scrolled": true
   },
   "outputs": [],
   "source": [
    "inargs = ['spectrumset={0}'.format(bkg_pi_file),\n",
    "          'badpixlocation=pn_filt.fits']\n",
    "\n",
    "w('backscale', inargs).run()"
   ]
  },
  {
   "cell_type": "markdown",
   "id": "e81c4b2e-dad0-451e-b68b-77d52d83042c",
   "metadata": {},
   "source": [
    "### 8.9 : Create the Photon Redistribution Matrix (RMF) and Ancillary File (ARF)"
   ]
  },
  {
   "cell_type": "markdown",
   "id": "fd46fe46-ef97-47fe-a1a9-ca9b11cff3e8",
   "metadata": {},
   "source": [
    "Making the RMF and ARF for PN data in `TIMING` mode is exactly the same as in `IMAGING` mode, even if you had to excise piled up areas.\n",
    "\n",
    "To make the RMF use `rmfgen`. The inputs are:\n",
    "\n",
    "    -rmfset - output file\n",
    "    -spectrumset - spectrum file\n",
    "\n",
    "rmfgen rmfset=source_rmf_NoBore.fits spectrumset=source_pi_NoBore.fits\n",
    "\n",
    "To make the ARF use `arfgen`. The inputs are:\n",
    "\n",
    "    -arfset - output file\n",
    "    -spectrumset - spectrum file\n",
    "    -arfset - output file\n",
    "    -detmaptype - origin of the detector map\n",
    "    -withrmfset - use the RMF dataset to define the ARF energy grid?\n",
    "    -rmfset - RMF file\n",
    "    -badpixlocation - the file containing the bad pixel locations"
   ]
  },
  {
   "cell_type": "code",
   "execution_count": null,
   "id": "25bafd0f-979f-4534-ab83-7c04f575a43b",
   "metadata": {
    "scrolled": true
   },
   "outputs": [],
   "source": [
    "inargs = ['rmfset=source_rmf_NoBore.fits',\n",
    "          'spectrumset={0}'.format(source_pi_file)]\n",
    "\n",
    "w('rmfgen', inargs).run()"
   ]
  },
  {
   "cell_type": "code",
   "execution_count": null,
   "id": "1c88bdae-7a81-4cfd-9a52-2e9789b6ff01",
   "metadata": {
    "scrolled": true
   },
   "outputs": [],
   "source": [
    "inargs = ['arfset=source_arf_NoBore.fits',\n",
    "          'spectrumset={0}'.format(source_pi_file),\n",
    "          'detmaptype=psf',\n",
    "          'withrmfset=yes',\n",
    "          'rmfset=source_rmf_NoBore.fits',\n",
    "          'badpixlocation=pn_filt.fits']\n",
    "\n",
    "w('arfgen', inargs).run()"
   ]
  },
  {
   "cell_type": "markdown",
   "id": "2423e172-9ce6-47af-bf02-8cb9db9d9577",
   "metadata": {},
   "source": [
    "At this point, the spectrum is ready to be analyzed. How to fit the spectrum is explained in [Chapter 13 of the ABC Guide](https://heasarc.gsfc.nasa.gov/docs/xmm/abc/node15.html#Chap:epic-fit-xspec)."
   ]
  }
 ],
 "metadata": {
  "kernelspec": {
   "display_name": "Python 3 (ipykernel)",
   "language": "python",
   "name": "python3"
  },
  "language_info": {
   "codemirror_mode": {
    "name": "ipython",
    "version": 3
   },
   "file_extension": ".py",
   "mimetype": "text/x-python",
   "name": "python",
   "nbconvert_exporter": "python",
   "pygments_lexer": "ipython3",
   "version": "3.11.5"
  }
 },
 "nbformat": 4,
 "nbformat_minor": 5
}

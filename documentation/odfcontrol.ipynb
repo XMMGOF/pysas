{
 "cells": [
  {
   "cell_type": "markdown",
   "id": "64bd42f9-7d1b-4b60-802f-71be10d4988a",
   "metadata": {},
   "source": [
    "## odfcontrol"
   ]
  },
  {
   "cell_type": "markdown",
   "id": "64f518dd-6f77-4282-a772-2627f28be02b",
   "metadata": {},
   "source": [
    "`odfcontrol` contains basic methods and classes for interacting with XMM observational data files (ODF). It is **not** a new SAS task, but it can make doing basic or common analysis easier. Almost everything is contained in a single Python class called `ODFobject`."
   ]
  },
  {
   "cell_type": "markdown",
   "id": "6f8e034d-758b-4be2-9e15-82dfb7fca486",
   "metadata": {},
   "source": [
    "## odfcontrol.ODFobject"
   ]
  },
  {
   "cell_type": "markdown",
   "id": "b07bf76d-da1c-462d-83bc-674b281da7e6",
   "metadata": {},
   "source": [
    "`odfcontrol.ODFobject` contains the following methods:\n",
    "\n",
    "```python\n",
    "inisas(self,sas_dir,sas_ccfpath,verbosity=4,suppress_warning=1)\n",
    "    \n",
    "set_odfid(self)\n",
    "    \n",
    "sas_talk(self,verbosity=4,suppress_warning=1)\n",
    "    \n",
    "calibrate_odf(self,data_dir=None,level='ODF',\n",
    "              sas_ccf=None,sas_odf=None,\n",
    "              cifbuild_opts=None,odfingest_opts=None,\n",
    "              encryption_key=None,overwrite=False,repo='esa')\n",
    "                    \n",
    "run_analysis(self,task,inargs,rerun=False,logFile='DEFAULT')\n",
    "    \n",
    "basic_setup(self,run_epproc=True,run_emproc=True,run_rgsproc=True,\n",
    "            run_omichain=False,run_epchain=False,run_emchain=False,\n",
    "            **kwargs)\n",
    "                  \n",
    "get_active_instruments(self)\n",
    "    \n",
    "get_event_lists(self,print_output=True)\n",
    "```\n",
    "<div class=\"alert alert-block alert-info\">\n",
    "    <b>Note:</b> Some of these functions are not intended to be used by the typical pySAS user. Internal pySAS use only.\n",
    "</div>\n",
    "\n",
    "The functions desinged to be used by the typical pySAS user are:\n",
    "\n",
    "    - calibrate_odf\n",
    "    - basic_setup\n",
    "    - get_active_instruments\n",
    "    - get_event_lists\n",
    "\n",
    "---\n",
    "\n",
    "When a user creates an `ODF` object using:\n",
    "```python\n",
    "obsid = '##########'\n",
    "odf = pysas.odfcontrol.ODFobject(obsid)\n",
    "```\n",
    "the `ODF` object will have a few important links and information by default. These include:\n",
    "\n",
    "    - odfid:    The ObsID number used to create the ODF object.\n",
    "    - data_dir: Path to base data directory where all XMM data files \n",
    "                will be downloaded.\n",
    "    - obs_dir:  Path to directory containing the data files \n",
    "                (obs_dir = data_dir/obsid).\n",
    "    - odf_dir:  Path to directory with the raw observation data files \n",
    "                (odf_dir = obs_dir/ODF).\n",
    "    - work_dir: The working directory when SAS tasks will be run \n",
    "                (work_dir = obs_dir/work).\n",
    "    - sas_ccf:  Link to the 'ccf.cif' file, if it exists. By default the \n",
    "                'ccf.cif' file will be created in the work_dir.\n",
    "    - sas_odf:  Link to the '*SUM.SAS' file, if it exists. By default the \n",
    "                '*SUM.SAS' file will be created in the work_dir.\n",
    "    - If they exist, links to the basic event lists will be stored in a \n",
    "      dictionary named 'files'."
   ]
  },
  {
   "cell_type": "code",
   "execution_count": null,
   "id": "15b25239-d5ef-48a6-bb26-6fa4296ed2de",
   "metadata": {},
   "outputs": [],
   "source": [
    "import pysas"
   ]
  },
  {
   "cell_type": "markdown",
   "id": "ae5f6262-8f34-4192-8d31-a6761720ca20",
   "metadata": {},
   "source": [
    "### odfcontrol.ODFobject"
   ]
  },
  {
   "cell_type": "code",
   "execution_count": null,
   "id": "7bbe67c0-6e5a-43ad-a0c2-ead5dd806e38",
   "metadata": {},
   "outputs": [],
   "source": [
    "pysas.odfcontrol.ODFobject?"
   ]
  },
  {
   "cell_type": "markdown",
   "id": "4440a33f-4c6a-46c1-ba10-9054093d5613",
   "metadata": {},
   "source": [
    "### odfcontrol.ODFobject.inisas"
   ]
  },
  {
   "cell_type": "code",
   "execution_count": null,
   "id": "ec21f6a9-6bdc-4831-8b3f-ffc2194d4d95",
   "metadata": {},
   "outputs": [],
   "source": [
    "pysas.odfcontrol.ODFobject.inisas?"
   ]
  },
  {
   "cell_type": "markdown",
   "id": "86f5ead9-b05f-4213-b3e5-9f3ecfcaba8d",
   "metadata": {},
   "source": [
    "### odfcontrol.ODFobject.set_odfid"
   ]
  },
  {
   "cell_type": "code",
   "execution_count": null,
   "id": "0db1fc3e-9927-4a1e-9eaa-bc9136d5ac5b",
   "metadata": {},
   "outputs": [],
   "source": [
    "pysas.odfcontrol.ODFobject.set_odfid?"
   ]
  },
  {
   "cell_type": "markdown",
   "id": "0e926610-8795-4cf3-8e45-d544a1dd8b17",
   "metadata": {},
   "source": [
    "### odfcontrol.ODFobject.sas_talk"
   ]
  },
  {
   "cell_type": "code",
   "execution_count": null,
   "id": "c0a526c5-082c-44dd-bdf0-5023a203c77c",
   "metadata": {},
   "outputs": [],
   "source": [
    "pysas.odfcontrol.ODFobject.sas_talk?"
   ]
  },
  {
   "cell_type": "markdown",
   "id": "fd0dfbc8-0b8f-4b24-85a2-34924c878d33",
   "metadata": {},
   "source": [
    "### odfcontrol.ODFobject.calibrate_odf"
   ]
  },
  {
   "cell_type": "code",
   "execution_count": null,
   "id": "c25c1558-d781-42f7-979e-b203b3703932",
   "metadata": {},
   "outputs": [],
   "source": [
    "pysas.odfcontrol.ODFobject.calibrate_odf?"
   ]
  },
  {
   "cell_type": "markdown",
   "id": "60da14cc-3021-45ad-bc0f-82ea68ed7350",
   "metadata": {},
   "source": [
    "### odfcontrol.ODFobject.run_analysis"
   ]
  },
  {
   "cell_type": "code",
   "execution_count": null,
   "id": "124de73f-f326-4474-bcc2-c6daa9559f5d",
   "metadata": {},
   "outputs": [],
   "source": [
    "pysas.odfcontrol.ODFobject.run_analysis?"
   ]
  },
  {
   "cell_type": "markdown",
   "id": "6522f968-2172-4600-8ed6-e6982147fd67",
   "metadata": {},
   "source": [
    "### odfcontrol.ODFobject.basic_setup"
   ]
  },
  {
   "cell_type": "code",
   "execution_count": null,
   "id": "6727058e-e7d4-4822-843f-de745688540b",
   "metadata": {},
   "outputs": [],
   "source": [
    "pysas.odfcontrol.ODFobject.basic_setup?"
   ]
  },
  {
   "cell_type": "markdown",
   "id": "c9765bdd-bc5e-48b6-84e5-1010ea28dac4",
   "metadata": {},
   "source": [
    "### odfcontrol.ODFobject.get_active_instruments"
   ]
  },
  {
   "cell_type": "code",
   "execution_count": null,
   "id": "596ea4cc-a450-45a7-a862-3f3316485332",
   "metadata": {},
   "outputs": [],
   "source": [
    "pysas.odfcontrol.ODFobject.get_active_instruments?"
   ]
  },
  {
   "cell_type": "markdown",
   "id": "07294e0b-862c-4d49-80d2-595e8f70c5ab",
   "metadata": {},
   "source": [
    "### odfcontrol.ODFobject.get_event_lists"
   ]
  },
  {
   "cell_type": "code",
   "execution_count": null,
   "id": "df1fec60-9f36-4d0a-83b0-9dd29261fda0",
   "metadata": {},
   "outputs": [],
   "source": [
    "pysas.odfcontrol.ODFobject.get_event_lists?"
   ]
  },
  {
   "cell_type": "markdown",
   "id": "4178d0fb-159e-4b58-b3bb-6e979a395f72",
   "metadata": {},
   "source": [
    "---\n",
    "### odfcontrol.download_data"
   ]
  },
  {
   "cell_type": "code",
   "execution_count": null,
   "id": "abe6fb43-59b0-46fb-849f-cc2e28358a87",
   "metadata": {},
   "outputs": [],
   "source": [
    "pysas.odfcontrol.download_data?"
   ]
  }
 ],
 "metadata": {
  "kernelspec": {
   "display_name": "Python 3 (ipykernel)",
   "language": "python",
   "name": "python3"
  },
  "language_info": {
   "codemirror_mode": {
    "name": "ipython",
    "version": 3
   },
   "file_extension": ".py",
   "mimetype": "text/x-python",
   "name": "python",
   "nbconvert_exporter": "python",
   "pygments_lexer": "ipython3",
   "version": "3.11.5"
  }
 },
 "nbformat": 4,
 "nbformat_minor": 5
}

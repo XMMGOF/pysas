{
 "cells": [
  {
   "cell_type": "markdown",
   "id": "64bd42f9-7d1b-4b60-802f-71be10d4988a",
   "metadata": {},
   "source": [
    "## odfcontrol"
   ]
  },
  {
   "cell_type": "markdown",
   "id": "64f518dd-6f77-4282-a772-2627f28be02b",
   "metadata": {},
   "source": [
    "`odfcontrol` contains basic methods and classes for interacting with XMM observational data files (ODF). It is **not** a new SAS task, but it can make doing basic or common analysis easier. Almost everything is contained in a single Python class called `ODFobject`."
   ]
  },
  {
   "cell_type": "markdown",
   "id": "6f8e034d-758b-4be2-9e15-82dfb7fca486",
   "metadata": {},
   "source": [
    "## odfcontrol.ODFobject"
   ]
  },
  {
   "cell_type": "markdown",
   "id": "b07bf76d-da1c-462d-83bc-674b281da7e6",
   "metadata": {},
   "source": [
    "`odfcontrol.ODFobject` contains the following methods:\n",
    "\n",
    "```python\n",
    "inisas(sas_dir,sas_ccfpath,verbosity=4,suppress_warning=1)\n",
    "    \n",
    "set_odfid()\n",
    "    \n",
    "sas_talk(verbosity=4,suppress_warning=1)\n",
    "\n",
    "calibrate_odf(data_dir=None,level='ODF',\n",
    "              sas_ccf=None,sas_odf=None,\n",
    "              cifbuild_opts=[],odfingest_opts=[],\n",
    "              encryption_key=None,overwrite=False,\n",
    "              recalibrate=False,repo='esa',\n",
    "              proprietary=False,credentials_file=None,**kwargs)\n",
    "                    \n",
    "run_analysis(task,inargs,rerun=False,logFile='DEFAULT')\n",
    "    \n",
    "basic_setup(run_epproc=True,run_emproc=True,run_rgsproc=True,\n",
    "            run_omichain=False,run_epchain=False,run_emchain=False,\n",
    "            **kwargs)\n",
    "                  \n",
    "get_active_instruments()\n",
    "    \n",
    "find_event_list_files(print_output=True)\n",
    "\n",
    "find_rgs_spectra_files(print_output=True)\n",
    "\n",
    "check_for_ccf_cif(logger)\n",
    "\n",
    "check_for_SUM_SAS(logger)\n",
    "\n",
    "```\n",
    "<div class=\"alert alert-block alert-info\">\n",
    "    <b>Note:</b> Some of these functions are not intended to be used by the typical pySAS user. Internal pySAS use only.\n",
    "</div>\n",
    "\n",
    "The functions desinged to be used by the typical pySAS user are:\n",
    "\n",
    "    - calibrate_odf\n",
    "    - basic_setup\n",
    "    - get_active_instruments\n",
    "    - find_event_list_files\n",
    "    - find_rgs_spectra_files\n",
    "\n",
    "---\n",
    "\n",
    "When a user creates an `ODF` object using:\n",
    "```python\n",
    "obsid = '##########'\n",
    "odf = pysas.odfcontrol.ODFobject(obsid)\n",
    "```\n",
    "the `ODF` object will have a few important links and information by default. These include:\n",
    "\n",
    "    - odfid:    The ObsID number used to create the ODF object.\n",
    "    - data_dir: Path to base data directory where all XMM data files \n",
    "                will be downloaded.\n",
    "    - obs_dir:  Path to directory containing the data files \n",
    "                (obs_dir = data_dir/obsid).\n",
    "    - odf_dir:  Path to directory with the raw observation data files \n",
    "                (odf_dir = obs_dir/ODF).\n",
    "    - work_dir: The working directory when SAS tasks will be run \n",
    "                (work_dir = obs_dir/work).\n",
    "    - sas_ccf:  Link to the 'ccf.cif' file, if it exists. By default the \n",
    "                'ccf.cif' file will be created in the work_dir.\n",
    "    - sas_odf:  Link to the '*SUM.SAS' file, if it exists. By default the \n",
    "                '*SUM.SAS' file will be created in the work_dir.\n",
    "    - If they exist, links to the basic event lists will be stored in a \n",
    "      dictionary named 'files'.\n",
    "\n",
    "If the ODF files have previously been downloaded and are in the default data directory, then upon creating the ODF object (i.e. \"odf = pysas.odfcontrol.ODFobject(obsid)\") pySAS will automatically find and link all important summary and calibration files, and also all previously generated event lists made by `epproc`, `emproc`, and `rgsproc`."
   ]
  },
  {
   "cell_type": "code",
   "execution_count": 1,
   "id": "15b25239-d5ef-48a6-bb26-6fa4296ed2de",
   "metadata": {},
   "outputs": [],
   "source": [
    "import pysas"
   ]
  },
  {
   "cell_type": "markdown",
   "id": "ae5f6262-8f34-4192-8d31-a6761720ca20",
   "metadata": {},
   "source": [
    "### odfcontrol.ODFobject"
   ]
  },
  {
   "cell_type": "code",
   "execution_count": 2,
   "id": "7bbe67c0-6e5a-43ad-a0c2-ead5dd806e38",
   "metadata": {},
   "outputs": [
    {
     "data": {
      "text/plain": [
       "\u001b[0;31mInit signature:\u001b[0m \u001b[0mpysas\u001b[0m\u001b[0;34m.\u001b[0m\u001b[0modfcontrol\u001b[0m\u001b[0;34m.\u001b[0m\u001b[0mODFobject\u001b[0m\u001b[0;34m(\u001b[0m\u001b[0modfid\u001b[0m\u001b[0;34m,\u001b[0m \u001b[0mdata_dir\u001b[0m\u001b[0;34m=\u001b[0m\u001b[0;32mNone\u001b[0m\u001b[0;34m)\u001b[0m\u001b[0;34m\u001b[0m\u001b[0;34m\u001b[0m\u001b[0m\n",
       "\u001b[0;31mDocstring:\u001b[0m     \n",
       "Class for observation data files (ODF).\n",
       "\n",
       "    An odfid (Obs ID) is required.\n",
       "\n",
       "    data_dir is the base directory where you store all XMM data.\n",
       "\n",
       "    Data is organized as:\n",
       "        data_dir = /path/to/data/\n",
       "        obs_dir = /path/to/data/odfid/\n",
       "    With subdirectories and files:\n",
       "            odf_dir  = /path/to/data/odfid/ODF/\n",
       "            work_dir = /path/to/data/odfid/work/\n",
       "            SAS_CCF  = work_dir/ccf.cif\n",
       "            SAS_ODF  = work_dir/*SUM.SAS\n",
       "\n",
       "            \n",
       "    Directory links and OdfID information are stored as\n",
       "    variables in the ODFobject.\n",
       "\n",
       "        self.odfid    : The Obs ID required to make the ODFobject\n",
       "        self.data_dir : Path to the data directory\n",
       "        self.files    : A dictionary containing links to event lists\n",
       "                        and other important files\n",
       "\n",
       "                        Default dictionary keys are:\n",
       "                            'sas_ccf'\n",
       "                            'sas_odf'\n",
       "                            'PNevt_list'\n",
       "                            'M1evt_list'\n",
       "                            'M2evt_list'\n",
       "                            'R1evt_list'\n",
       "                            'R2evt_list'\n",
       "                            'OMevt_list'\n",
       "\n",
       "        self.obs_dir  : Path to the observation directory\n",
       "        self.odf_dir  : Path to the ODF directory\n",
       "        self.pps_dir  : Path to the PPS directory\n",
       "        self.work_dir : Path to the working directory\n",
       "\u001b[0;31mFile:\u001b[0m           ~/XMMGOF/xmmsas_20230412_1735/lib/python/pysas/odfcontrol/odfcontrol.py\n",
       "\u001b[0;31mType:\u001b[0m           type\n",
       "\u001b[0;31mSubclasses:\u001b[0m     "
      ]
     },
     "metadata": {},
     "output_type": "display_data"
    }
   ],
   "source": [
    "pysas.odfcontrol.ODFobject?"
   ]
  },
  {
   "cell_type": "markdown",
   "id": "0693277f-2003-4f00-987c-39b8e7df10c4",
   "metadata": {},
   "source": [
    "---\n",
    "## Functions to be used by the end user."
   ]
  },
  {
   "cell_type": "markdown",
   "id": "fd0dfbc8-0b8f-4b24-85a2-34924c878d33",
   "metadata": {},
   "source": [
    "### odfcontrol.ODFobject.calibrate_odf"
   ]
  },
  {
   "cell_type": "code",
   "execution_count": 3,
   "id": "c25c1558-d781-42f7-979e-b203b3703932",
   "metadata": {},
   "outputs": [
    {
     "data": {
      "text/plain": [
       "\u001b[0;31mSignature:\u001b[0m\n",
       "\u001b[0mpysas\u001b[0m\u001b[0;34m.\u001b[0m\u001b[0modfcontrol\u001b[0m\u001b[0;34m.\u001b[0m\u001b[0mODFobject\u001b[0m\u001b[0;34m.\u001b[0m\u001b[0mcalibrate_odf\u001b[0m\u001b[0;34m(\u001b[0m\u001b[0;34m\u001b[0m\n",
       "\u001b[0;34m\u001b[0m    \u001b[0mself\u001b[0m\u001b[0;34m,\u001b[0m\u001b[0;34m\u001b[0m\n",
       "\u001b[0;34m\u001b[0m    \u001b[0mdata_dir\u001b[0m\u001b[0;34m=\u001b[0m\u001b[0;32mNone\u001b[0m\u001b[0;34m,\u001b[0m\u001b[0;34m\u001b[0m\n",
       "\u001b[0;34m\u001b[0m    \u001b[0mlevel\u001b[0m\u001b[0;34m=\u001b[0m\u001b[0;34m'ODF'\u001b[0m\u001b[0;34m,\u001b[0m\u001b[0;34m\u001b[0m\n",
       "\u001b[0;34m\u001b[0m    \u001b[0msas_ccf\u001b[0m\u001b[0;34m=\u001b[0m\u001b[0;32mNone\u001b[0m\u001b[0;34m,\u001b[0m\u001b[0;34m\u001b[0m\n",
       "\u001b[0;34m\u001b[0m    \u001b[0msas_odf\u001b[0m\u001b[0;34m=\u001b[0m\u001b[0;32mNone\u001b[0m\u001b[0;34m,\u001b[0m\u001b[0;34m\u001b[0m\n",
       "\u001b[0;34m\u001b[0m    \u001b[0mcifbuild_opts\u001b[0m\u001b[0;34m=\u001b[0m\u001b[0;34m[\u001b[0m\u001b[0;34m]\u001b[0m\u001b[0;34m,\u001b[0m\u001b[0;34m\u001b[0m\n",
       "\u001b[0;34m\u001b[0m    \u001b[0modfingest_opts\u001b[0m\u001b[0;34m=\u001b[0m\u001b[0;34m[\u001b[0m\u001b[0;34m]\u001b[0m\u001b[0;34m,\u001b[0m\u001b[0;34m\u001b[0m\n",
       "\u001b[0;34m\u001b[0m    \u001b[0mencryption_key\u001b[0m\u001b[0;34m=\u001b[0m\u001b[0;32mNone\u001b[0m\u001b[0;34m,\u001b[0m\u001b[0;34m\u001b[0m\n",
       "\u001b[0;34m\u001b[0m    \u001b[0moverwrite\u001b[0m\u001b[0;34m=\u001b[0m\u001b[0;32mFalse\u001b[0m\u001b[0;34m,\u001b[0m\u001b[0;34m\u001b[0m\n",
       "\u001b[0;34m\u001b[0m    \u001b[0mrecalibrate\u001b[0m\u001b[0;34m=\u001b[0m\u001b[0;32mFalse\u001b[0m\u001b[0;34m,\u001b[0m\u001b[0;34m\u001b[0m\n",
       "\u001b[0;34m\u001b[0m    \u001b[0mrepo\u001b[0m\u001b[0;34m=\u001b[0m\u001b[0;34m'esa'\u001b[0m\u001b[0;34m,\u001b[0m\u001b[0;34m\u001b[0m\n",
       "\u001b[0;34m\u001b[0m    \u001b[0mproprietary\u001b[0m\u001b[0;34m=\u001b[0m\u001b[0;32mFalse\u001b[0m\u001b[0;34m,\u001b[0m\u001b[0;34m\u001b[0m\n",
       "\u001b[0;34m\u001b[0m    \u001b[0mcredentials_file\u001b[0m\u001b[0;34m=\u001b[0m\u001b[0;32mNone\u001b[0m\u001b[0;34m,\u001b[0m\u001b[0;34m\u001b[0m\n",
       "\u001b[0;34m\u001b[0m    \u001b[0;34m**\u001b[0m\u001b[0mkwargs\u001b[0m\u001b[0;34m,\u001b[0m\u001b[0;34m\u001b[0m\n",
       "\u001b[0;34m\u001b[0m\u001b[0;34m)\u001b[0m\u001b[0;34m\u001b[0m\u001b[0;34m\u001b[0m\u001b[0m\n",
       "\u001b[0;31mDocstring:\u001b[0m\n",
       "Before running this function an ODFobject must be created first. e.g.\n",
       "\n",
       "    odf = pysas.odfcontrol.ODFobject(obsid)\n",
       "\n",
       "This function can then be used as, \n",
       "\n",
       "    odf.calibrate_odf()\n",
       "\n",
       "The calibrate_odf function will automatically look in data_dir for the subdirectory \n",
       "data_dir/odfid. If it does not exist then it will download the data.\n",
       "\n",
       "If it exists it will search data_dir/odfid and any subdirectories for the ccf.cif\n",
       "and *SUM.SAS files. But if overwrite=True then it will remove data_dir/odfid and \n",
       "download the data.\n",
       "\n",
       "Optionally the paths to the ccf.cif and *SUM.SAS files can be given through \n",
       "sas_ccf and sas_odf respectively.\n",
       "\n",
       "Inputs:\n",
       "    --REQUIRED--\n",
       "\n",
       "        NONE\n",
       "\n",
       "    --OPTIONAL--\n",
       "\n",
       "    --data_dir:  (string/path): Path to directory where the data will be \n",
       "                                downloaded, or if data is present will look for\n",
       "                                ccf.cif and *SUM.SAS files. Automatically creates \n",
       "                                the directory data_dir/odfid.\n",
       "                                Default: None, uses the current directory.\n",
       "\n",
       "    --level:          (string): Level of data products to download.\n",
       "                                Default: 'ODF'\n",
       "                                Can be 'ODF, 'PPS' or 'ALL'.\n",
       "\n",
       "    --sas_ccf:   (string/path): Path to ccf.cif file for odfid.\n",
       "\n",
       "    --sas_odf:   (string/path): Path to *SUM.SAS file for odfid.\n",
       "\n",
       "    --cifbuild_opts:    (list): Options for cifbuild.\n",
       "\n",
       "    --odfingest_opts:   (list): Options for odfingest.\n",
       "\n",
       "    --encryption_key: (string): Encryption key for proprietary data, a string 32 \n",
       "                                characters long. -OR- Path to file containing \n",
       "                                ONLY the encryption key.\n",
       "\n",
       "    --overwrite:     (boolean): If True will force overwrite of data if odfid \n",
       "                                data already exists in data_dir/.\n",
       "\n",
       "    --recalibrate:   (boolean): If True will rerun odfingest and cifbuild.\n",
       "\n",
       "    --repo:           (string): Which repository to use to download data. \n",
       "                                Default: 'esa'\n",
       "                                Can be either\n",
       "                                'esa' (data from Europe/ESA) or \n",
       "                                'heasarc' (data from North America/NASA) or\n",
       "                                'sciserver' (if user is on sciserver)\n",
       "\u001b[0;31mFile:\u001b[0m      ~/XMMGOF/xmmsas_20230412_1735/lib/python/pysas/odfcontrol/odfcontrol.py\n",
       "\u001b[0;31mType:\u001b[0m      function"
      ]
     },
     "metadata": {},
     "output_type": "display_data"
    }
   ],
   "source": [
    "pysas.odfcontrol.ODFobject.calibrate_odf?"
   ]
  },
  {
   "cell_type": "markdown",
   "id": "6522f968-2172-4600-8ed6-e6982147fd67",
   "metadata": {},
   "source": [
    "### odfcontrol.ODFobject.basic_setup"
   ]
  },
  {
   "cell_type": "code",
   "execution_count": 4,
   "id": "6727058e-e7d4-4822-843f-de745688540b",
   "metadata": {},
   "outputs": [
    {
     "data": {
      "text/plain": [
       "\u001b[0;31mSignature:\u001b[0m\n",
       "\u001b[0mpysas\u001b[0m\u001b[0;34m.\u001b[0m\u001b[0modfcontrol\u001b[0m\u001b[0;34m.\u001b[0m\u001b[0mODFobject\u001b[0m\u001b[0;34m.\u001b[0m\u001b[0mbasic_setup\u001b[0m\u001b[0;34m(\u001b[0m\u001b[0;34m\u001b[0m\n",
       "\u001b[0;34m\u001b[0m    \u001b[0mself\u001b[0m\u001b[0;34m,\u001b[0m\u001b[0;34m\u001b[0m\n",
       "\u001b[0;34m\u001b[0m    \u001b[0mrun_epproc\u001b[0m\u001b[0;34m=\u001b[0m\u001b[0;32mTrue\u001b[0m\u001b[0;34m,\u001b[0m\u001b[0;34m\u001b[0m\n",
       "\u001b[0;34m\u001b[0m    \u001b[0mrun_emproc\u001b[0m\u001b[0;34m=\u001b[0m\u001b[0;32mTrue\u001b[0m\u001b[0;34m,\u001b[0m\u001b[0;34m\u001b[0m\n",
       "\u001b[0;34m\u001b[0m    \u001b[0mrun_rgsproc\u001b[0m\u001b[0;34m=\u001b[0m\u001b[0;32mTrue\u001b[0m\u001b[0;34m,\u001b[0m\u001b[0;34m\u001b[0m\n",
       "\u001b[0;34m\u001b[0m    \u001b[0mrun_omichain\u001b[0m\u001b[0;34m=\u001b[0m\u001b[0;32mFalse\u001b[0m\u001b[0;34m,\u001b[0m\u001b[0;34m\u001b[0m\n",
       "\u001b[0;34m\u001b[0m    \u001b[0mrun_epchain\u001b[0m\u001b[0;34m=\u001b[0m\u001b[0;32mFalse\u001b[0m\u001b[0;34m,\u001b[0m\u001b[0;34m\u001b[0m\n",
       "\u001b[0;34m\u001b[0m    \u001b[0mrun_emchain\u001b[0m\u001b[0;34m=\u001b[0m\u001b[0;32mFalse\u001b[0m\u001b[0;34m,\u001b[0m\u001b[0;34m\u001b[0m\n",
       "\u001b[0;34m\u001b[0m    \u001b[0;34m**\u001b[0m\u001b[0mkwargs\u001b[0m\u001b[0;34m,\u001b[0m\u001b[0;34m\u001b[0m\n",
       "\u001b[0;34m\u001b[0m\u001b[0;34m)\u001b[0m\u001b[0;34m\u001b[0m\u001b[0;34m\u001b[0m\u001b[0m\n",
       "\u001b[0;31mDocstring:\u001b[0m\n",
       "Function to do all basic analysis tasks. The function will:\n",
       "\n",
       "    1. Call the function 'calibrate_odf'\n",
       "        A. Download data\n",
       "        B. Run 'cifbuild'\n",
       "        C. Run 'odfingest'\n",
       "    2. Run 'epproc' -OR- 'epchain'\n",
       "    3. Run 'emproc' -OR- 'emchain'\n",
       "    4. Run 'rgsproc'\n",
       "    5. Run 'omichain' (not run by default)\n",
       "\n",
       "If 'run_epchain' is set to 'True', then 'epproc' will not run.\n",
       "If 'run_emchain' is set to 'True', then 'emproc' will not run.\n",
       "\n",
       "All input arguments for 'calibrate_odf' can be passed to 'basic_setup'.\n",
       "\n",
       "'calibrate_odf' inputs (with defaults):\n",
       "       \n",
       "    data_dir         = None\n",
       "    level            = 'ODF'\n",
       "    sas_ccf          = None\n",
       "    sas_odf          = None\n",
       "    cifbuild_opts    = []\n",
       "    odfingest_opts   = []\n",
       "    encryption_key   = None\n",
       "    overwrite        = False\n",
       "    recalibrate      = False\n",
       "    repo             = 'esa'\n",
       "    proprietary      = False\n",
       "    credentials_file = None\n",
       "\n",
       "Input arguments for 'epproc', 'emproc', and 'rgsproc' can also be \n",
       "passed in using 'epproc_args', 'emproc_args', or 'rgsproc_args' \n",
       "respectively (or 'epchain_args' and 'emchain_args'). By defaut \n",
       "'epproc', 'emproc', and 'rgsproc' will not rerun if output files \n",
       "are found, but they can be forced to rerun by setting 'rerun=True' \n",
       "as an input to 'basic_setup'.\n",
       "\n",
       "Examples for use:\n",
       "\n",
       "    odf.basic_setup()\n",
       "\n",
       "        - Uses the defaults.\n",
       "\n",
       "    odf.basic_setup(repo='heasarc')\n",
       "\n",
       "        - Uses the defaults, but downloads data from the HEASARC.\n",
       "\n",
       "    odf.basic_setup(overwrite=True)\n",
       "\n",
       "        - Will erase any previous data files for the Obs ID and \n",
       "          download a fresh set of data files.\n",
       "\n",
       "    odf.basic_setup(recalibrate=True)\n",
       "\n",
       "        - Will rerun cifbuild and odfingest to generate new \n",
       "          ccf.cif and *SUM.SAS files.\n",
       "\n",
       "    odf.basic_setup(rerun=True)\n",
       "\n",
       "        - Will **not** download new files, but will rerun 'epproc',\n",
       "          'emproc', and 'rgsproc' and create new event lists.\n",
       "\n",
       "    odf.basic_setup(repo='heasarc',\n",
       "                    epproc_args=['withoutoftime=yes'])\n",
       "\n",
       "        - Downloads data from the HEASARC and runs 'epproc' with the\n",
       "          'withoutoftime' option.\n",
       "\n",
       "    odf.basic_setup(run_epchain=True,\n",
       "                    run_emchain=True)\n",
       "\n",
       "        - Will run 'epchain' and 'emchain' instead of 'epproc' and\n",
       "          'emproc'.\n",
       "\n",
       "    odf.basic_setup(run_epproc=False,\n",
       "                    run_emproc=False)\n",
       "\n",
       "        - Will not run 'epproc' or 'emproc'. Will only run 'rgsproc'\n",
       "          by default.\n",
       "\n",
       "    odf.basic_setup(run_epproc=False,\n",
       "                    run_emproc=True,\n",
       "                    run_rgsproc=False)\n",
       "\n",
       "        - Will only run 'emproc', **not** 'epproc' or 'rgsproc'.\n",
       "\n",
       "    odf.basic_setup(repo='heasarc',encryption_key='XXXXXXXXXXXXXXX')\n",
       "\n",
       "        - Uses the defaults, but downloads *proprietary* data from \n",
       "          the HEASARC. Must provide an encryption key, an alpha-numeric\n",
       "          string with 30 characters.\n",
       "\n",
       "    odf.basic_setup(proprietary=True)\n",
       "\n",
       "        - Uses the defaults, but downloads *proprietary* data from \n",
       "          the XSA at ESA. Astroquery will ask for user's Cosmos\n",
       "          username and password.\n",
       "\u001b[0;31mFile:\u001b[0m      ~/XMMGOF/xmmsas_20230412_1735/lib/python/pysas/odfcontrol/odfcontrol.py\n",
       "\u001b[0;31mType:\u001b[0m      function"
      ]
     },
     "metadata": {},
     "output_type": "display_data"
    }
   ],
   "source": [
    "pysas.odfcontrol.ODFobject.basic_setup?"
   ]
  },
  {
   "cell_type": "markdown",
   "id": "c9765bdd-bc5e-48b6-84e5-1010ea28dac4",
   "metadata": {},
   "source": [
    "### odfcontrol.ODFobject.get_active_instruments"
   ]
  },
  {
   "cell_type": "code",
   "execution_count": 5,
   "id": "596ea4cc-a450-45a7-a862-3f3316485332",
   "metadata": {},
   "outputs": [
    {
     "data": {
      "text/plain": [
       "\u001b[0;31mSignature:\u001b[0m \u001b[0mpysas\u001b[0m\u001b[0;34m.\u001b[0m\u001b[0modfcontrol\u001b[0m\u001b[0;34m.\u001b[0m\u001b[0mODFobject\u001b[0m\u001b[0;34m.\u001b[0m\u001b[0mget_active_instruments\u001b[0m\u001b[0;34m(\u001b[0m\u001b[0mself\u001b[0m\u001b[0;34m)\u001b[0m\u001b[0;34m\u001b[0m\u001b[0;34m\u001b[0m\u001b[0m\n",
       "\u001b[0;31mDocstring:\u001b[0m\n",
       "Checks odf summary file for which instruments were active for that odf.\n",
       "\n",
       "Assumes that 'sas_odf' already exists and contains the correct path.\n",
       "\n",
       "Also assumes file name and path are stored in self.files['sas_odf'].\n",
       "\u001b[0;31mFile:\u001b[0m      ~/XMMGOF/xmmsas_20230412_1735/lib/python/pysas/odfcontrol/odfcontrol.py\n",
       "\u001b[0;31mType:\u001b[0m      function"
      ]
     },
     "metadata": {},
     "output_type": "display_data"
    }
   ],
   "source": [
    "pysas.odfcontrol.ODFobject.get_active_instruments?"
   ]
  },
  {
   "cell_type": "markdown",
   "id": "07294e0b-862c-4d49-80d2-595e8f70c5ab",
   "metadata": {},
   "source": [
    "### odfcontrol.ODFobject.find_event_list_files"
   ]
  },
  {
   "cell_type": "code",
   "execution_count": 6,
   "id": "df1fec60-9f36-4d0a-83b0-9dd29261fda0",
   "metadata": {},
   "outputs": [
    {
     "data": {
      "text/plain": [
       "\u001b[0;31mSignature:\u001b[0m \u001b[0mpysas\u001b[0m\u001b[0;34m.\u001b[0m\u001b[0modfcontrol\u001b[0m\u001b[0;34m.\u001b[0m\u001b[0mODFobject\u001b[0m\u001b[0;34m.\u001b[0m\u001b[0mfind_event_list_files\u001b[0m\u001b[0;34m(\u001b[0m\u001b[0mself\u001b[0m\u001b[0;34m,\u001b[0m \u001b[0mprint_output\u001b[0m\u001b[0;34m=\u001b[0m\u001b[0;32mTrue\u001b[0m\u001b[0;34m)\u001b[0m\u001b[0;34m\u001b[0m\u001b[0;34m\u001b[0m\u001b[0m\n",
       "\u001b[0;31mDocstring:\u001b[0m\n",
       "Checks the observation directory (obs_dir) for basic unfiltered \n",
       "event list files created by 'epproc', 'emproc', 'rgsproc', and \n",
       "'omichain'. Stores paths and file names in self.files.\n",
       "\n",
       "'self.files' is a dictionary with the following keys:\n",
       "\n",
       "    'PNevt_list'\n",
       "    'M1evt_list'\n",
       "    'M2evt_list'\n",
       "    'R1evt_list'\n",
       "    'R2evt_list'\n",
       "    'OMevt_list'\n",
       "\u001b[0;31mFile:\u001b[0m      ~/XMMGOF/xmmsas_20230412_1735/lib/python/pysas/odfcontrol/odfcontrol.py\n",
       "\u001b[0;31mType:\u001b[0m      function"
      ]
     },
     "metadata": {},
     "output_type": "display_data"
    }
   ],
   "source": [
    "pysas.odfcontrol.ODFobject.find_event_list_files?"
   ]
  },
  {
   "cell_type": "code",
   "execution_count": 7,
   "id": "aac9a26d-4c13-45b3-9ae5-73775c613ed4",
   "metadata": {},
   "outputs": [
    {
     "data": {
      "text/plain": [
       "\u001b[0;31mSignature:\u001b[0m \u001b[0mpysas\u001b[0m\u001b[0;34m.\u001b[0m\u001b[0modfcontrol\u001b[0m\u001b[0;34m.\u001b[0m\u001b[0mODFobject\u001b[0m\u001b[0;34m.\u001b[0m\u001b[0mfind_rgs_spectra_files\u001b[0m\u001b[0;34m(\u001b[0m\u001b[0mself\u001b[0m\u001b[0;34m,\u001b[0m \u001b[0mprint_output\u001b[0m\u001b[0;34m=\u001b[0m\u001b[0;32mTrue\u001b[0m\u001b[0;34m)\u001b[0m\u001b[0;34m\u001b[0m\u001b[0;34m\u001b[0m\u001b[0m\n",
       "\u001b[0;31mDocstring:\u001b[0m\n",
       "--Not intended to be used by the end user. Internal use only.--\n",
       "\n",
       "Check for RGS spectra files created by rgsproc. Adds them to \n",
       "'files' dictrionary with the keys:\n",
       "\n",
       "    'R1SPEC'\n",
       "    'R2SPEC'\n",
       "\u001b[0;31mFile:\u001b[0m      ~/XMMGOF/xmmsas_20230412_1735/lib/python/pysas/odfcontrol/odfcontrol.py\n",
       "\u001b[0;31mType:\u001b[0m      function"
      ]
     },
     "metadata": {},
     "output_type": "display_data"
    }
   ],
   "source": [
    "pysas.odfcontrol.ODFobject.find_rgs_spectra_files?"
   ]
  },
  {
   "cell_type": "markdown",
   "id": "8e16fec3-07ef-4dfc-a585-a8bba9dfafcf",
   "metadata": {},
   "source": [
    "---\n",
    "## Functions not intended for general use. Internal pySAS use only."
   ]
  },
  {
   "cell_type": "markdown",
   "id": "4440a33f-4c6a-46c1-ba10-9054093d5613",
   "metadata": {},
   "source": [
    "### odfcontrol.ODFobject.inisas"
   ]
  },
  {
   "cell_type": "code",
   "execution_count": 8,
   "id": "ec21f6a9-6bdc-4831-8b3f-ffc2194d4d95",
   "metadata": {},
   "outputs": [
    {
     "data": {
      "text/plain": [
       "\u001b[0;31mSignature:\u001b[0m\n",
       "\u001b[0mpysas\u001b[0m\u001b[0;34m.\u001b[0m\u001b[0modfcontrol\u001b[0m\u001b[0;34m.\u001b[0m\u001b[0mODFobject\u001b[0m\u001b[0;34m.\u001b[0m\u001b[0minisas\u001b[0m\u001b[0;34m(\u001b[0m\u001b[0;34m\u001b[0m\n",
       "\u001b[0;34m\u001b[0m    \u001b[0mself\u001b[0m\u001b[0;34m,\u001b[0m\u001b[0;34m\u001b[0m\n",
       "\u001b[0;34m\u001b[0m    \u001b[0msas_dir\u001b[0m\u001b[0;34m,\u001b[0m\u001b[0;34m\u001b[0m\n",
       "\u001b[0;34m\u001b[0m    \u001b[0msas_ccfpath\u001b[0m\u001b[0;34m,\u001b[0m\u001b[0;34m\u001b[0m\n",
       "\u001b[0;34m\u001b[0m    \u001b[0mverbosity\u001b[0m\u001b[0;34m=\u001b[0m\u001b[0;36m4\u001b[0m\u001b[0;34m,\u001b[0m\u001b[0;34m\u001b[0m\n",
       "\u001b[0;34m\u001b[0m    \u001b[0msuppress_warning\u001b[0m\u001b[0;34m=\u001b[0m\u001b[0;36m1\u001b[0m\u001b[0;34m,\u001b[0m\u001b[0;34m\u001b[0m\n",
       "\u001b[0;34m\u001b[0m\u001b[0;34m)\u001b[0m\u001b[0;34m\u001b[0m\u001b[0;34m\u001b[0m\u001b[0m\n",
       "\u001b[0;31mDocstring:\u001b[0m\n",
       "--Not intended to be used by the end user. Internal use only.--\n",
       "\n",
       "Simple wrapper for 'initializesas' defined in init_sas.py.\n",
       "\n",
       "SAS initialization should happen automatically.\n",
       "\u001b[0;31mFile:\u001b[0m      ~/XMMGOF/xmmsas_20230412_1735/lib/python/pysas/odfcontrol/odfcontrol.py\n",
       "\u001b[0;31mType:\u001b[0m      function"
      ]
     },
     "metadata": {},
     "output_type": "display_data"
    }
   ],
   "source": [
    "pysas.odfcontrol.ODFobject.inisas?"
   ]
  },
  {
   "cell_type": "markdown",
   "id": "86f5ead9-b05f-4213-b3e5-9f3ecfcaba8d",
   "metadata": {},
   "source": [
    "### odfcontrol.ODFobject.set_odfid"
   ]
  },
  {
   "cell_type": "code",
   "execution_count": 9,
   "id": "0db1fc3e-9927-4a1e-9eaa-bc9136d5ac5b",
   "metadata": {},
   "outputs": [
    {
     "data": {
      "text/plain": [
       "\u001b[0;31mSignature:\u001b[0m \u001b[0mpysas\u001b[0m\u001b[0;34m.\u001b[0m\u001b[0modfcontrol\u001b[0m\u001b[0;34m.\u001b[0m\u001b[0mODFobject\u001b[0m\u001b[0;34m.\u001b[0m\u001b[0mset_odfid\u001b[0m\u001b[0;34m(\u001b[0m\u001b[0mself\u001b[0m\u001b[0;34m)\u001b[0m\u001b[0;34m\u001b[0m\u001b[0;34m\u001b[0m\u001b[0m\n",
       "\u001b[0;31mDocstring:\u001b[0m\n",
       "--Not intended to be used by the end user. Internal use only.--\n",
       "\n",
       "Basic method for setting the environment variables for a single \n",
       "'ObsID'.\n",
       "\n",
       "Checks for the existence of various directories. If a directory \n",
       "is not found then set_odfid will stop and use 'return' command.\n",
       "Directories that will be checked for (in this order):\n",
       "    \n",
       "    data_dir\n",
       "    obs_dir\n",
       "    odf_dir -or- pps_dir\n",
       "    work_dir\n",
       "\n",
       "Then checks for the ccf.cif, *SUM.SAS files and event lists.\n",
       "\n",
       "Similar to calibrate_odf, but will not download any data, \n",
       "will not calibrate it, or do anything other than link to \n",
       "files and directories. \n",
       "\u001b[0;31mFile:\u001b[0m      ~/XMMGOF/xmmsas_20230412_1735/lib/python/pysas/odfcontrol/odfcontrol.py\n",
       "\u001b[0;31mType:\u001b[0m      function"
      ]
     },
     "metadata": {},
     "output_type": "display_data"
    }
   ],
   "source": [
    "pysas.odfcontrol.ODFobject.set_odfid?"
   ]
  },
  {
   "cell_type": "markdown",
   "id": "0e926610-8795-4cf3-8e45-d544a1dd8b17",
   "metadata": {},
   "source": [
    "### odfcontrol.ODFobject.sas_talk"
   ]
  },
  {
   "cell_type": "code",
   "execution_count": 10,
   "id": "c0a526c5-082c-44dd-bdf0-5023a203c77c",
   "metadata": {},
   "outputs": [
    {
     "data": {
      "text/plain": [
       "\u001b[0;31mSignature:\u001b[0m \u001b[0mpysas\u001b[0m\u001b[0;34m.\u001b[0m\u001b[0modfcontrol\u001b[0m\u001b[0;34m.\u001b[0m\u001b[0mODFobject\u001b[0m\u001b[0;34m.\u001b[0m\u001b[0msas_talk\u001b[0m\u001b[0;34m(\u001b[0m\u001b[0mself\u001b[0m\u001b[0;34m,\u001b[0m \u001b[0mverbosity\u001b[0m\u001b[0;34m=\u001b[0m\u001b[0;36m4\u001b[0m\u001b[0;34m,\u001b[0m \u001b[0msuppress_warning\u001b[0m\u001b[0;34m=\u001b[0m\u001b[0;36m1\u001b[0m\u001b[0;34m)\u001b[0m\u001b[0;34m\u001b[0m\u001b[0;34m\u001b[0m\u001b[0m\n",
       "\u001b[0;31mDocstring:\u001b[0m\n",
       "Simple function to set general SAS veriables 'verbosity' \n",
       "and 'suppress_warning'.\n",
       "\u001b[0;31mFile:\u001b[0m      ~/XMMGOF/xmmsas_20230412_1735/lib/python/pysas/odfcontrol/odfcontrol.py\n",
       "\u001b[0;31mType:\u001b[0m      function"
      ]
     },
     "metadata": {},
     "output_type": "display_data"
    }
   ],
   "source": [
    "pysas.odfcontrol.ODFobject.sas_talk?"
   ]
  },
  {
   "cell_type": "markdown",
   "id": "60da14cc-3021-45ad-bc0f-82ea68ed7350",
   "metadata": {},
   "source": [
    "### odfcontrol.ODFobject.run_analysis"
   ]
  },
  {
   "cell_type": "code",
   "execution_count": 11,
   "id": "124de73f-f326-4474-bcc2-c6daa9559f5d",
   "metadata": {},
   "outputs": [
    {
     "data": {
      "text/plain": [
       "\u001b[0;31mSignature:\u001b[0m\n",
       "\u001b[0mpysas\u001b[0m\u001b[0;34m.\u001b[0m\u001b[0modfcontrol\u001b[0m\u001b[0;34m.\u001b[0m\u001b[0mODFobject\u001b[0m\u001b[0;34m.\u001b[0m\u001b[0mrun_analysis\u001b[0m\u001b[0;34m(\u001b[0m\u001b[0;34m\u001b[0m\n",
       "\u001b[0;34m\u001b[0m    \u001b[0mself\u001b[0m\u001b[0;34m,\u001b[0m\u001b[0;34m\u001b[0m\n",
       "\u001b[0;34m\u001b[0m    \u001b[0mtask\u001b[0m\u001b[0;34m,\u001b[0m\u001b[0;34m\u001b[0m\n",
       "\u001b[0;34m\u001b[0m    \u001b[0minargs\u001b[0m\u001b[0;34m,\u001b[0m\u001b[0;34m\u001b[0m\n",
       "\u001b[0;34m\u001b[0m    \u001b[0mrerun\u001b[0m\u001b[0;34m=\u001b[0m\u001b[0;32mFalse\u001b[0m\u001b[0;34m,\u001b[0m\u001b[0;34m\u001b[0m\n",
       "\u001b[0;34m\u001b[0m    \u001b[0mlogFile\u001b[0m\u001b[0;34m=\u001b[0m\u001b[0;34m'DEFAULT'\u001b[0m\u001b[0;34m,\u001b[0m\u001b[0;34m\u001b[0m\n",
       "\u001b[0;34m\u001b[0m\u001b[0;34m)\u001b[0m\u001b[0;34m\u001b[0m\u001b[0;34m\u001b[0m\u001b[0m\n",
       "\u001b[0;31mDocstring:\u001b[0m\n",
       "--Not intended to be used by the end user. Internal use only.--\n",
       "\n",
       "A wrapper for the wrapper. Yes. I know.\n",
       "\n",
       "This function is not intended to be used by the end user, but is\n",
       "only called by 'basic_setup'.\n",
       "\n",
       "This will check if output files are present for the selected SAS task.\n",
       "If they are, will not rerun that SAS task unless \"rerun=True\".\n",
       "\n",
       "Lists of output files are stored in the dictionary self.files{}.\n",
       "\n",
       "SAS Tasks that it currently works for:\n",
       "    --epproc\n",
       "    --epchain (Warning current version of epchain fails in SAS v. 21)\n",
       "    --emproc\n",
       "    --emchain (Warning current version of emchain fails in SAS v. 21)\n",
       "    --rgsproc\n",
       "\n",
       "More will be added as needed.\n",
       "\u001b[0;31mFile:\u001b[0m      ~/XMMGOF/xmmsas_20230412_1735/lib/python/pysas/odfcontrol/odfcontrol.py\n",
       "\u001b[0;31mType:\u001b[0m      function"
      ]
     },
     "metadata": {},
     "output_type": "display_data"
    }
   ],
   "source": [
    "pysas.odfcontrol.ODFobject.run_analysis?"
   ]
  },
  {
   "cell_type": "code",
   "execution_count": 12,
   "id": "5888c81e-fc84-4ac6-abde-75f674915195",
   "metadata": {},
   "outputs": [
    {
     "data": {
      "text/plain": [
       "\u001b[0;31mSignature:\u001b[0m \u001b[0mpysas\u001b[0m\u001b[0;34m.\u001b[0m\u001b[0modfcontrol\u001b[0m\u001b[0;34m.\u001b[0m\u001b[0mODFobject\u001b[0m\u001b[0;34m.\u001b[0m\u001b[0mcheck_for_ccf_cif\u001b[0m\u001b[0;34m(\u001b[0m\u001b[0mself\u001b[0m\u001b[0;34m,\u001b[0m \u001b[0mlogger\u001b[0m\u001b[0;34m)\u001b[0m\u001b[0;34m\u001b[0m\u001b[0;34m\u001b[0m\u001b[0m\n",
       "\u001b[0;31mDocstring:\u001b[0m\n",
       "--Not intended to be used by the end user. Internal use only.--\n",
       "\n",
       "Checks for the ccf.cif file. Making this a function since it is \n",
       "used in several places.\n",
       "\u001b[0;31mFile:\u001b[0m      ~/XMMGOF/xmmsas_20230412_1735/lib/python/pysas/odfcontrol/odfcontrol.py\n",
       "\u001b[0;31mType:\u001b[0m      function"
      ]
     },
     "metadata": {},
     "output_type": "display_data"
    }
   ],
   "source": [
    "pysas.odfcontrol.ODFobject.check_for_ccf_cif?"
   ]
  },
  {
   "cell_type": "code",
   "execution_count": 13,
   "id": "36d67397-7fa4-42f8-9ded-6d6e8afe93f9",
   "metadata": {},
   "outputs": [
    {
     "data": {
      "text/plain": [
       "\u001b[0;31mSignature:\u001b[0m\n",
       "\u001b[0mpysas\u001b[0m\u001b[0;34m.\u001b[0m\u001b[0modfcontrol\u001b[0m\u001b[0;34m.\u001b[0m\u001b[0mODFobject\u001b[0m\u001b[0;34m.\u001b[0m\u001b[0mcheck_for_SUM_SAS\u001b[0m\u001b[0;34m(\u001b[0m\u001b[0;34m\u001b[0m\n",
       "\u001b[0;34m\u001b[0m    \u001b[0mself\u001b[0m\u001b[0;34m,\u001b[0m\u001b[0;34m\u001b[0m\n",
       "\u001b[0;34m\u001b[0m    \u001b[0mlogger\u001b[0m\u001b[0;34m,\u001b[0m\u001b[0;34m\u001b[0m\n",
       "\u001b[0;34m\u001b[0m    \u001b[0muser_defined_file\u001b[0m\u001b[0;34m=\u001b[0m\u001b[0;32mNone\u001b[0m\u001b[0;34m,\u001b[0m\u001b[0;34m\u001b[0m\n",
       "\u001b[0;34m\u001b[0m\u001b[0;34m)\u001b[0m\u001b[0;34m\u001b[0m\u001b[0;34m\u001b[0m\u001b[0m\n",
       "\u001b[0;31mDocstring:\u001b[0m\n",
       "--Not intended to be used by the end user. Internal use only.--\n",
       "\n",
       "Checks for the *SUM.SAS file. Making this a function since it is \n",
       "used in several places.\n",
       "\u001b[0;31mFile:\u001b[0m      ~/XMMGOF/xmmsas_20230412_1735/lib/python/pysas/odfcontrol/odfcontrol.py\n",
       "\u001b[0;31mType:\u001b[0m      function"
      ]
     },
     "metadata": {},
     "output_type": "display_data"
    }
   ],
   "source": [
    "pysas.odfcontrol.ODFobject.check_for_SUM_SAS?"
   ]
  }
 ],
 "metadata": {
  "kernelspec": {
   "display_name": "Python 3 (ipykernel)",
   "language": "python",
   "name": "python3"
  },
  "language_info": {
   "codemirror_mode": {
    "name": "ipython",
    "version": 3
   },
   "file_extension": ".py",
   "mimetype": "text/x-python",
   "name": "python",
   "nbconvert_exporter": "python",
   "pygments_lexer": "ipython3",
   "version": "3.11.5"
  }
 },
 "nbformat": 4,
 "nbformat_minor": 5
}

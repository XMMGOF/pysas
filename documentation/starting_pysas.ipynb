{
 "cells": [
  {
   "cell_type": "markdown",
   "id": "0c11241a-e43a-41a2-92f1-741e66f14799",
   "metadata": {},
   "source": [
    "# Comparing How to Start Up pySAS\n",
    "\n",
    "The purpose of the development version is to make it easier to work with pySAS. Below we show what starting up pySAS entails, first with the standard version, and then with the development version. This is how to run pySAS \"right out of the box\".\n",
    "\n",
    "In both cases SAS is initialized, the data for a single Obs ID downloaded, and then we run the SAS tasks `cifbuild`, `odfingest`, `epproc`, `emproc`, and `rgsproc`."
   ]
  },
  {
   "cell_type": "markdown",
   "id": "3a4e5425-4750-4069-993a-492f63ec8dd0",
   "metadata": {},
   "source": [
    "## Starting Up pySAS: Standard Version"
   ]
  },
  {
   "cell_type": "markdown",
   "id": "50935ac5-50d3-467c-ba61-de848ad1f915",
   "metadata": {},
   "source": [
    "```bash\n",
    "rtanner@NSB:~$ heasoft\n",
    "rtanner@NSB:~$ cd ./XMMGOF/xmmsas_20230412_1735/\n",
    "rtanner@NSB:~/XMMGOF/xmmsas_20230412_1735$ . ./setsas.sh\n",
    "\n",
    "sasversion:- Executing (routine): sasversion  -w 1 -V 4\n",
    "sasversion:- sasversion (sasversion-1.3)  [xmmsas_20230412_1735-21.0.0] started:  2024-08-28T20:34:08.000\n",
    "sasversion:- XMM-Newton SAS release and build information:\n",
    "\n",
    "SAS release: xmmsas_20230412_1735-21.0.0\n",
    "Compiled on: Sun Apr 16 21:03:02 CEST 2023\n",
    "Compiled by: sasbuild@sasbld01n.iuser.lan\n",
    "Platform   : Ubuntu20.04\n",
    "\n",
    "SAS-related environment variables that are set:\n",
    "\n",
    "SAS_DIR = /home/rtanner/XMMGOF/xmmsas_20230412_1735\n",
    "SAS_PATH = /home/rtanner/XMMGOF/xmmsas_20230412_1735\n",
    "\n",
    "sasversion:- sasversion (sasversion-1.3)  [xmmsas_20230412_1735-21.0.0] ended:    2024-08-28T20:34:08.000\n",
    "\n",
    "Do not forget to define SAS_CCFPATH, SAS_CCF and SAS_ODF\n",
    "rtanner@NSB:~/XMMGOF/xmmsas_20230412_1735$ export SAS_CCFPTH=/home/rtannenr/sas/calibration\n",
    "rtanner@NSB:~/XMMGOF/xmmsas_20230412_1735$ python\n",
    "```\n",
    "\n",
    "```python\n",
    ">>> from pysas.wrapper import Wrapper as w\n",
    ">>> obsid = '0104860501'\n",
    ">>> work_dir = '/home/rtanner/xmm_data'\n",
    ">>> inargs = [f'odfid={obsid}',f'workdir={work_dir}']\n",
    ">>> w('startsas', inargs).run()\n",
    "Downloading URL https://nxsa.esac.esa.int/nxsa-sl/servlet/data-action-aio?obsno=0104860501&level=ODF to 0104860501.tar.gz ... [Done]\n",
    "\n",
    "Creating directory 0104860501 ...\n",
    "\n",
    "Unpacking 0104860501.tar.gz ...\n",
    "\n",
    "Unpacking 0466_0104860501.TAR ...\n",
    "\n",
    "Setting SAS_ODF = /home/rtanner/xmm_data/0104860501\n",
    "Running cifbuild...\n",
    "[OUTPUT OMITTED]\n",
    "Setting SAS_CCF = /home/rtanner/xmm_data/ccf.cif\n",
    "\n",
    "Running odfingest.\n",
    "[OUTPUT OMITTED]\n",
    "Setting SAS_ODF = /home/rtanner/xmm_data/0466_0104860501_SCX00000SUM.SAS\n",
    "\n",
    "Warning: Summary file PATH keyword matches /home/rtanner/xmm_data/0104860501\n",
    "\n",
    "\n",
    "\n",
    "        SAS_CCF = /home/rtanner/xmm_data/ccf.cif\n",
    "        SAS_ODF = /home/rtanner/xmm_data/0466_0104860501_SCX00000SUM.SAS\n",
    ">>> import os\n",
    ">>> os.chdir(work_dir)\n",
    ">>> w('epproc', []).run()\n",
    " [OUTPUT OMITTED]\n",
    ">>> w('emproc', []).run()\n",
    " [OUTPUT OMITTED]\n",
    ">>> w('rgsproc', []).run()\n",
    " [OUTPUT OMITTED]\n",
    "```"
   ]
  },
  {
   "cell_type": "markdown",
   "id": "3d35f77b-83e3-4d3d-8a11-5b44757104c7",
   "metadata": {},
   "source": [
    "---"
   ]
  },
  {
   "cell_type": "markdown",
   "id": "132fc790-1df6-41ed-98ca-0244f36aff44",
   "metadata": {},
   "source": [
    "## Starting Up pySAS: Development Version"
   ]
  },
  {
   "cell_type": "markdown",
   "id": "a83f5272-4cd2-4000-bc75-d50fa5840414",
   "metadata": {},
   "source": [
    "```bash\n",
    "rtanner@NSB:~$ heasoft\n",
    "rtanner@NSB:~$ python\n",
    "```\n",
    "\n",
    "```python\n",
    ">>> import pysas\n",
    ">>> obsid = '0104860501'\n",
    ">>> odf = pysas.odfcontrol.ODFobject(obsid)\n",
    ">>> odf.basic_setup()\n",
    " [OUTPUT OMITTED]\n",
    "```"
   ]
  },
  {
   "cell_type": "markdown",
   "id": "6d955b4d-cb96-4969-9b5e-6e3af6a8848d",
   "metadata": {},
   "source": [
    "---"
   ]
  },
  {
   "cell_type": "markdown",
   "id": "1304218a-4b0c-4bb9-a1ae-3f20a86a321e",
   "metadata": {},
   "source": [
    "### Which do you prefer?"
   ]
  },
  {
   "cell_type": "markdown",
   "id": "37489934-1ef2-4a1c-b5d1-d6e775301379",
   "metadata": {},
   "source": [
    "---\n",
    "Now with all output removed and just the commands alone."
   ]
  },
  {
   "cell_type": "markdown",
   "id": "5d701d26-80b1-4309-8f93-edd303d4be00",
   "metadata": {},
   "source": [
    "## Starting Up pySAS: Standard Version\n",
    "```bash\n",
    "rtanner@NSB:~$ heasoft\n",
    "rtanner@NSB:~$ cd ./XMMGOF/xmmsas_20230412_1735/\n",
    "rtanner@NSB:~/XMMGOF/xmmsas_20230412_1735$ . ./setsas.sh\n",
    "rtanner@NSB:~/XMMGOF/xmmsas_20230412_1735$ export SAS_CCFPTH=/home/rtanner/sas/calibration\n",
    "rtanner@NSB:~/XMMGOF/xmmsas_20230412_1735$ python\n",
    "```\n",
    "```python\n",
    ">>> from pysas.wrapper import Wrapper as w\n",
    ">>> obsid = '0104860501'\n",
    ">>> work_dir = '/home/rtanner/xmm_data'\n",
    ">>> inargs = [f'odfid={obsid}',f'workdir={work_dir}']\n",
    ">>> w('startsas', inargs).run()\n",
    ">>> import os\n",
    ">>> os.chdir(work_dir)\n",
    ">>> w('epproc', []).run()\n",
    ">>> w('emproc', []).run()\n",
    ">>> w('rgsproc', []).run()\n",
    "```"
   ]
  },
  {
   "cell_type": "markdown",
   "id": "b6c9d058-23b9-4af7-825f-70bd0b9725f0",
   "metadata": {},
   "source": [
    "## Starting Up pySAS: Development Version\n",
    "```bash\n",
    "rtanner@NSB:~$ heasoft\n",
    "rtanner@NSB:~$ python\n",
    "```\n",
    "\n",
    "```python\n",
    ">>> import pysas\n",
    ">>> obsid = '0104860501'\n",
    ">>> odf = pysas.odfcontrol.ODFobject(obsid)\n",
    ">>> odf.basic_setup()\n",
    "```"
   ]
  },
  {
   "cell_type": "markdown",
   "id": "21fea371-c075-4646-8a78-4798300462c7",
   "metadata": {},
   "source": [
    "---\n",
    "## Working with more than one Obs ID?"
   ]
  },
  {
   "cell_type": "markdown",
   "id": "33ebd7d4-42ac-43da-9233-56ea8099a0be",
   "metadata": {},
   "source": [
    "## Standard Version\n",
    "```bash\n",
    "rtanner@NSB:~$ heasoft\n",
    "rtanner@NSB:~$ cd ./XMMGOF/xmmsas_20230412_1735/\n",
    "rtanner@NSB:~/XMMGOF/xmmsas_20230412_1735$ . ./setsas.sh\n",
    "rtanner@NSB:~/XMMGOF/xmmsas_20230412_1735$ export SAS_CCFPTH=/home/rtanner/sas/calibration\n",
    "rtanner@NSB:~/XMMGOF/xmmsas_20230412_1735$ python\n",
    "```\n",
    "```python\n",
    ">>> from pysas.wrapper import Wrapper as w\n",
    ">>> import os\n",
    ">>> obsid_1 = '0104860501'\n",
    ">>> work_dir_1 = '/home/rtanner/xmm_data/obsid_1'\n",
    ">>> os.chdir(work_dir_1)\n",
    ">>> inargs = [f'odfid={obsid_1}',f'workdir={work_dir_1}']\n",
    ">>> w('startsas', inargs).run()\n",
    ">>> w('epproc', []).run()\n",
    ">>> w('emproc', []).run()\n",
    ">>> w('rgsproc', []).run()\n",
    ">>>\n",
    ">>> obsid_2 = '0104860502'\n",
    ">>> work_dir_2 = '/home/rtanner/xmm_data/obsid_2'\n",
    ">>> os.chdir(work_dir_2)\n",
    ">>> inargs = [f'odfid={obsid_2}',f'workdir={work_dir_2}']\n",
    ">>> w('startsas', inargs).run()\n",
    ">>> w('epproc', []).run()\n",
    ">>> w('emproc', []).run()\n",
    ">>> w('rgsproc', []).run()\n",
    "```\n",
    "\n",
    "But now what if you have to go back and work on the first Obs ID...\n",
    "\n",
    "```python\n",
    ">>> os.environ['SAS_ODF'] = work_dir_1\n",
    ">>> os.environ['SAS_CCF'] = os.path.join(work_dir_1,'ccf.cif')\n",
    ">>> os.chdir(work_dir_1)\n",
    ">>> import glob\n",
    ">>> sumsas = glob.glob('*SUM.SAS')\n",
    ">>> fullsumsas = os.path.join(work_dir_1, sumsas[0])\n",
    ">>> os.environ['SAS_ODF'] = fullsumsas\n",
    "```\n",
    "\n",
    "You can now run SAS tasks on the first Obs ID."
   ]
  },
  {
   "cell_type": "markdown",
   "id": "a8808668-6e1c-4fba-8736-27d63bb53980",
   "metadata": {},
   "source": [
    "## Development Version\n",
    "```bash\n",
    "rtanner@NSB:~$ heasoft\n",
    "rtanner@NSB:~$ python\n",
    "```\n",
    "\n",
    "```python\n",
    ">>> import pysas\n",
    ">>> obsid_1 = '0104860501'\n",
    ">>> odf = pysas.odfcontrol.ODFobject(obsid_1)\n",
    ">>> odf.basic_setup()\n",
    ">>>\n",
    ">>> obsid_2 = '0104860502'\n",
    ">>> odf = pysas.odfcontrol.ODFobject(obsid_2)\n",
    ">>> odf.basic_setup()\n",
    "```\n",
    "\n",
    "But now what if you have to go back and work on the first Obs ID...\n",
    "\n",
    "```python\n",
    ">>> odf = pysas.odfcontrol.ODFobject(obsid_1)\n",
    "```\n",
    "\n",
    "That's it! You can now run SAS tasks on the first Obs ID. The development version of pySAS keeps the data files organized."
   ]
  }
 ],
 "metadata": {
  "kernelspec": {
   "display_name": "Python 3 (ipykernel)",
   "language": "python",
   "name": "python3"
  },
  "language_info": {
   "codemirror_mode": {
    "name": "ipython",
    "version": 3
   },
   "file_extension": ".py",
   "mimetype": "text/x-python",
   "name": "python",
   "nbconvert_exporter": "python",
   "pygments_lexer": "ipython3",
   "version": "3.11.5"
  }
 },
 "nbformat": 4,
 "nbformat_minor": 5
}

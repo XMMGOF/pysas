{
 "cells": [
  {
   "cell_type": "markdown",
   "id": "e2517ee9-d5f7-4342-ba24-5ed958e19d9e",
   "metadata": {},
   "source": [
    "# How to reprocess ODFs to generate calibrated and concatenated EPIC event lists\n",
    "\n",
    "---\n",
    "\n",
    "#### Introduction\n",
    "This thread illustrates how to reprocess Observation Data Files (ODFs) to obtain calibrated and concatenated event lists.\n",
    "#### Expected Outcome\n",
    "The user will obtain calibrated and concatenated event lists which can be directly used to generate scientific products (images, spectra, light curves) through the SAS tasks [<tt>evselect</tt>](https://xmm-tools.cosmos.esa.int/external/sas/current/doc/evselect/index.html) or [<tt>xmmselect</tt>](https://xmm-tools.cosmos.esa.int/external/sas/current/doc/xmmselect/index.html).\n",
    "#### SAS Tasks to be Used\n",
    "\n",
    "- `emproc`[(Documentation for emproc)](https://xmm-tools.cosmos.esa.int/external/sas/current/doc/emproc/index.html \"emproc Documentation\")\n",
    "- `epproc`[(Documentation for epproc)](https://xmm-tools.cosmos.esa.int/external/sas/current/doc/epproc/index.html \"epproc Documentation\")\n",
    "\n",
    "#### Prerequisites\n",
    "<div class=\"alert alert-block alert-info\">\n",
    "    <b>Note:</b> Before running this notebook, or even starting a Jupyter Lab session, HEASOFT has to be initialized. If you did not initalize HEASOFT before starting this Jupyter Lab session, or opening this notebook, please close this window and initalize HEASOFT (it is not possible to initalize HEASOFT from within a Jupyter Notebook). SAS defaults will need to be set as explained in the README on GitHub (https://github.com/XMMGOF/pysas/blob/main/README.md).\n",
    "</div>\n",
    "\n",
    "#### Useful Links\n",
    "\n",
    "- [`pysas` Documentation](https://xmm-tools.cosmos.esa.int/external/sas/current/doc/pysas/index.html \"pysas Documentation\")\n",
    "- [`pysas` on GitHub](https://github.com/XMMGOF/pysas)\n",
    "- [Common SAS Threads](https://www.cosmos.esa.int/web/xmm-newton/sas-threads \"SAS Threads\")\n",
    "- [Users' Guide to the XMM-Newton Science Analysis System (SAS)](https://xmm-tools.cosmos.esa.int/external/xmm_user_support/documentation/sas_usg/USG/SASUSG.html \"Users' Guide\")\n",
    "- [The XMM-Newton ABC Guide](https://heasarc.gsfc.nasa.gov/docs/xmm/abc/ \"ABC Guide\")\n",
    "- [XMM Newton GOF Helpdesk](https://heasarc.gsfc.nasa.gov/docs/xmm/xmm_helpdesk.html \"Helpdesk\") - Link to form to contact the GOF Helpdesk.\n",
    "\n",
    "#### Caveats\n",
    "This tutorial assumes you are familiar with at least the Short pySAS Introduction Jupyter Notebook (<a href=\"./xmm-pysas-intro-short.ipynb\">Short pySAS Introduction</a>)."
   ]
  },
  {
   "cell_type": "markdown",
   "id": "83fe6e1b-e823-4bfc-b99c-62ec4185511d",
   "metadata": {},
   "source": [
    "##### Last Reviewed: _1 May 2024, for SAS v21_\n",
    "##### Last Updated: _1 May 2024_\n",
    "##### By: Ryan Tanner (ryan.tanner@nasa.gov)\n",
    "---"
   ]
  },
  {
   "cell_type": "markdown",
   "id": "ed7a1e35-27be-43cd-afcb-124d4e822043",
   "metadata": {},
   "source": [
    "## Procedure\n",
    "Run the EPIC reduction meta-tasks.\n",
    "\n",
    "    For EPIC-MOS:\n",
    "        emproc\n",
    "\n",
    "    and for EPIC-pn:\n",
    "        epproc\n",
    "\n",
    "That's it! The default values of these meta-tasks are appropriate for most practical cases. You may have a look at the next section in this thread to learn how to perform specific reduction sub-tasks using [emproc](https://xmm-tools.cosmos.esa.int/external/sas/current/doc/emproc/index.html) or [epproc](https://xmm-tools.cosmos.esa.int/external/sas/current/doc/epproc/index.html).\n",
    "\n",
    "The files produced by [epproc](https://xmm-tools.cosmos.esa.int/external/sas/current/doc/epproc/index.html) are the following:\n",
    "\n",
    " - `????_??????????_AttHk.ds`, the reconstructed attitude file\n",
    " - `????_??????????_EPN_????_01_Badpixels.ds`, one table per reduced CCD containing the bad pixels\n",
    " - `????_??????????_EPN_????_ImagingEvts.ds`, the calibrated and concatenated event list, which shall be used as an input to extract scientific products via [evselect](https://xmm-tools.cosmos.esa.int/external/sas/current/doc/evselect/index.html) or [xmmselect](https://xmm-tools.cosmos.esa.int/external/sas/current/doc/xmmselect/index.html).\n",
    "    \n",
    "The files produced by [emproc](https://xmm-tools.cosmos.esa.int/external/sas/current/doc/emproc/index.html) are conceptually the same. The main difference in the naming convention is that the string `EPN` is replaced by `EMOS1` and `EMOS2` for each EPIC-MOS camera, respectively.\n",
    "___"
   ]
  },
  {
   "cell_type": "code",
   "execution_count": null,
   "id": "dbba53a7-a029-4aea-87a6-1e51a6423079",
   "metadata": {},
   "outputs": [],
   "source": [
    "# pySAS imports\n",
    "import pysas\n",
    "from pysas.wrapper import Wrapper as w\n",
    "\n",
    "# Useful imports\n",
    "import os\n",
    "\n",
    "# Imports for plotting\n",
    "import matplotlib.pyplot as plt\n",
    "from astropy.visualization import astropy_mpl_style\n",
    "from astropy.io import fits\n",
    "from astropy.wcs import WCS\n",
    "from astropy.table import Table\n",
    "plt.style.use(astropy_mpl_style)\n",
    "\n",
    "obsid = '0104860501'"
   ]
  },
  {
   "cell_type": "code",
   "execution_count": null,
   "id": "807b1b81-15fc-4033-a890-c20aad4f540d",
   "metadata": {
    "tags": []
   },
   "outputs": [],
   "source": [
    "odf = pysas.odfcontrol.ODFobject(obsid)\n",
    "odf.basic_setup(overwrite=False,repo='heasarc')"
   ]
  },
  {
   "cell_type": "markdown",
   "id": "71b21125-db65-47d2-9ffc-47eb7397f1fe",
   "metadata": {},
   "source": [
    "The odf object contains a dictionary with the path and filename for important output files created by `basic_setup`."
   ]
  },
  {
   "cell_type": "code",
   "execution_count": null,
   "id": "18e78e11-f443-40aa-a344-c98bebb67d1c",
   "metadata": {
    "tags": []
   },
   "outputs": [],
   "source": [
    "instrument_files = list(odf.files.keys())\n",
    "print(instrument_files,'\\n')\n",
    "for instrument in instrument_files:\n",
    "    print(f'File Type: {instrument}')\n",
    "    print('>>> {0}'.format(odf.files[instrument]),'\\n')"
   ]
  },
  {
   "cell_type": "markdown",
   "id": "80383949-653a-4f06-923b-3757cb31611e",
   "metadata": {},
   "source": [
    "### Visualize the contents of the event files just created"
   ]
  },
  {
   "cell_type": "markdown",
   "id": "bd8ea7a4-3c87-44bf-b503-1a151dba3ef1",
   "metadata": {
    "tags": []
   },
   "source": [
    "To visualize the output we will apply a simple filter to remove some background noise and then create a FITS image file from the event list from each detector (EPIC-pn, EPIC-MOS1, EPIC-MOS2). To help with this we define two functions.\n",
    "\n",
    "The first function applies a simple filter to the data. The inputs are:\n",
    "\n",
    "- unfiltered_event_list: File name of the event list to be filtered.\n",
    "- mos: If using MOS1 or MOS2 set mos=True, if using the pn set mos=False\n",
    "- pattern: The number and pattern of the CCD pixels triggered for a given event, for MOS can be any number from 0 to 12, for pn can be any number from 0 to 4. Higher numbers look for more complex multiple pixel events to include them. \n",
    "- pi_min: Minimum energy in eV\n",
    "- pi_max: Maximum energy in eV\n",
    "- flag: The FLAG value provides a bit encoding of various event conditions, e.g., near hot pixels or outside of the field of view. Setting FLAG == 0 in the selection expression provides the most conservative screening criteria and should always be used when serious spectral analysis is to be done on the PN. It typically is not necessary for the MOS.\n",
    "- filtered_event_list: File name of the output file, or filtered event list."
   ]
  },
  {
   "cell_type": "code",
   "execution_count": null,
   "id": "8f4c243e-6b7f-48f7-87d7-6fa024c686c3",
   "metadata": {},
   "outputs": [],
   "source": [
    "def apply_simple_filter(unfiltered_event_list,mos=True,pattern=12,\n",
    "                          pi_min=200,pi_max=12000,flag=None,\n",
    "                          filtered_event_list='filtered_event_list.fits'):\n",
    "    \n",
    "    if flag is None:\n",
    "        if mos:\n",
    "            flag = '#XMMEA_EM'\n",
    "        else:\n",
    "            flag = '#XMMEA_EP'\n",
    "    else:\n",
    "        flag = '(FLAG == {0})'.format(flag)\n",
    "    \n",
    "    # \"Standard\" Filter\n",
    "    expression = \"expression='(PATTERN <= {pattern})&&(PI in [{pi_min}:{pi_max}])&&{flag}'\".format(pattern=pattern,pi_min=pi_min,pi_max=pi_max,flag=flag)\n",
    "    \n",
    "    inargs = ['table={0}'.format(unfiltered_event_list), \n",
    "              'withfilteredset=yes', \n",
    "              expression, \n",
    "              'filteredset={0}'.format(filtered_event_list), \n",
    "              'filtertype=expression', \n",
    "              'keepfilteroutput=yes', \n",
    "              'updateexposure=yes', \n",
    "              'filterexposure=yes']\n",
    "    \n",
    "    w('evselect', inargs).run()"
   ]
  },
  {
   "cell_type": "markdown",
   "id": "f4fc7d1d-67e6-4d8b-ae5a-e0d77a0be2bd",
   "metadata": {},
   "source": [
    "The second function will create a FITS image file and plot it. The inputs are:\n",
    "\n",
    "- event_list_file: File name of the event list to be plotted.\n",
    "- image_file: Name of the output FITS image file."
   ]
  },
  {
   "cell_type": "code",
   "execution_count": null,
   "id": "95517e29-d99d-4b37-a43c-025f79f0dc82",
   "metadata": {},
   "outputs": [],
   "source": [
    "def make_fits_image(event_list_file, image_file='image.fits'):\n",
    "    \n",
    "    inargs = ['table={0}'.format(event_list_file), \n",
    "              'withimageset=yes',\n",
    "              'imageset={0}'.format(image_file), \n",
    "              'xcolumn=X', \n",
    "              'ycolumn=Y', \n",
    "              'imagebinning=imageSize', \n",
    "              'ximagesize=600', \n",
    "              'yimagesize=600']\n",
    "\n",
    "    w('evselect', inargs).run()\n",
    "\n",
    "    hdu = fits.open(image_file)[0]\n",
    "    wcs = WCS(hdu.header)\n",
    "\n",
    "    ax = plt.subplot(projection=wcs)\n",
    "    plt.imshow(hdu.data, origin='lower', norm='log', vmin=1.0, vmax=1e2)\n",
    "    ax.set_facecolor(\"black\")\n",
    "    plt.grid(color='blue', ls='solid')\n",
    "    plt.xlabel('RA')\n",
    "    plt.ylabel('Dec')\n",
    "    plt.colorbar()\n",
    "    plt.show()"
   ]
  },
  {
   "cell_type": "markdown",
   "id": "b9ed324a-6ea6-4489-bbb2-d9e1c1dc79aa",
   "metadata": {},
   "source": [
    "In the cell below we will range over all event lists from the three EPIC instruments (EPIC-pn, EPIC-MOS1, EPIC-MOS2). An image file will be created from each event list and a plot will be made."
   ]
  },
  {
   "cell_type": "code",
   "execution_count": null,
   "id": "2bb48083-e759-4e40-b699-20f3be305373",
   "metadata": {
    "tags": []
   },
   "outputs": [],
   "source": [
    "# For display purposes only, define a minimum filtering criteria for EPIC-pn\n",
    "\n",
    "pn_pattern   = 4        # pattern selection\n",
    "pn_pi_min    = 300.     # Low energy range eV\n",
    "pn_pi_max    = 12000.   # High energy range eV\n",
    "pn_flag      = 0        # FLAG\n",
    "\n",
    "# For display purposes only, define a minimum filtering criteria for EPIC-MOS\n",
    "\n",
    "mos_pattern   = 12      # pattern selection\n",
    "mos_pi_min    = 300.    # Low energy range eV\n",
    "mos_pi_max    = 20000.  # High energy range eV\n",
    "mos_flag      = None    # FLAG\n",
    "\n",
    "os.chdir(odf.work_dir)\n",
    "\n",
    "pnevt_list = odf.files['pnevt_list']\n",
    "m1evt_list = odf.files['M1evt_list']\n",
    "m2evt_list = odf.files['M2evt_list']\n",
    "\n",
    "# Filter pn and make FITS image file\n",
    "if len(pnevt_list) > 0:\n",
    "    for i,event_list in enumerate(pnevt_list):\n",
    "        filtered_event_list='pn_event_list{0}.fits'.format(i)\n",
    "        image_file='pn_image{0}.fits'.format(i)\n",
    "        apply_simple_filter(event_list,\n",
    "                            flag=pn_flag,\n",
    "                            pattern=pn_pattern,\n",
    "                            pi_min=pn_pi_min,\n",
    "                            pi_max=pn_pi_max,\n",
    "                            filtered_event_list=filtered_event_list)\n",
    "        make_fits_image(filtered_event_list, image_file=image_file)\n",
    "\n",
    "# Filter mos1 and make FITS image file\n",
    "if len(m1evt_list) > 0:\n",
    "    for event_list in m1evt_list:\n",
    "        filtered_event_list='mos1_event_list{0}.fits'.format(i)\n",
    "        image_file='mos1_image{0}.fits'.format(i)\n",
    "        apply_simple_filter(event_list,\n",
    "                            mos=True,\n",
    "                            pattern=mos_pattern,\n",
    "                            pi_min=mos_pi_min,\n",
    "                            pi_max=mos_pi_max,\n",
    "                            filtered_event_list=filtered_event_list)\n",
    "        make_fits_image(filtered_event_list, image_file=image_file)\n",
    "\n",
    "# Filter mos2 and make FITS image file\n",
    "if len(m2evt_list) > 0:\n",
    "    for event_list in m2evt_list:\n",
    "        filtered_event_list='mos2_event_list{0}.fits'.format(i)\n",
    "        image_file='mos2_image{0}.fits'.format(i)\n",
    "        apply_simple_filter(event_list,\n",
    "                            mos=True,\n",
    "                            pattern=mos_pattern,\n",
    "                            pi_min=mos_pi_min,\n",
    "                            pi_max=mos_pi_max,\n",
    "                            filtered_event_list=filtered_event_list)\n",
    "        make_fits_image(filtered_event_list, image_file=image_file)\n"
   ]
  },
  {
   "cell_type": "markdown",
   "id": "25367ebb-f06f-4a77-9a61-8b01ac275cae",
   "metadata": {},
   "source": [
    "### How to accomplish specific reduction tasks\n",
    "\n",
    "[<tt>emproc</tt>](https://xmm-tools.cosmos.esa.int/external/sas/current/doc/emproc/index.html) and [<tt>epproc</tt>](https://xmm-tools.cosmos.esa.int/external/sas/current/doc/epproc/index.html) are highly flexible tasks, which allow the user to perform a wide range of customized reduction tasks. Some [<tt>emproc</tt>](https://xmm-tools.cosmos.esa.int/external/sas/current/doc/emproc/index.html) examples are listed below. The same customized reduction tasks can be performed for the EPIC-pn as well, just by substituting [<tt>emproc</tt>](https://xmm-tools.cosmos.esa.int/external/sas/current/doc/emproc/index.html) with [<tt>epproc</tt>](https://xmm-tools.cosmos.esa.int/external/sas/current/doc/epproc/index.html) in the commands.\n",
    "\n",
    "- If you want to reduce only one of the cameras (EPIC-MOS1 in the example):\n",
    "\n",
    "    <tt>emproc selectinstruments=yes emos1=yes</tt>"
   ]
  },
  {
   "cell_type": "code",
   "execution_count": null,
   "id": "344a1dab-dee8-420c-9f87-3e553cd7259f",
   "metadata": {
    "tags": []
   },
   "outputs": [],
   "source": [
    "# SAS Command\n",
    "cmd    = \"emproc\" # SAS task to be executed                  \n",
    "\n",
    "# Arguments of SAS Command\n",
    "inargs = ['selectinstruments=yes','emos1=yes']\n",
    "\n",
    "print(\"   SAS command to be executed: \"+cmd+\", with arguments; \\n\")\n",
    "inargs"
   ]
  },
  {
   "cell_type": "code",
   "execution_count": null,
   "id": "2dbdf172-fa5d-4d2f-82a5-a9aedbf07a71",
   "metadata": {},
   "outputs": [],
   "source": [
    "w(cmd, inargs).run()"
   ]
  },
  {
   "cell_type": "markdown",
   "id": "79ae37ee-e686-4f47-b3a6-703a335655e5",
   "metadata": {},
   "source": [
    "- If you want to reduce only a subsample of exposures:\n",
    "\n",
    "    <tt>emproc withinstexpids=yes instexpids=\"M1S001 M2S002\"</tt>"
   ]
  },
  {
   "cell_type": "code",
   "execution_count": null,
   "id": "88218b81-412c-4e45-937b-dd279329908d",
   "metadata": {},
   "outputs": [],
   "source": [
    "# SAS Command\n",
    "cmd    = \"emproc\" # SAS task to be executed                  \n",
    "\n",
    "# Arguments of SAS Command\n",
    "inargs = ['withinstexpids=yes','instexpids=\"M1S001 M2S002\"']\n",
    "\n",
    "print(\"   SAS command to be executed: \"+cmd+\", with arguments; \\n\")\n",
    "inargs"
   ]
  },
  {
   "cell_type": "code",
   "execution_count": null,
   "id": "1d499d73-0418-40ba-9916-8bcd14fb8071",
   "metadata": {},
   "outputs": [],
   "source": [
    "w(cmd, inargs).run()"
   ]
  },
  {
   "cell_type": "markdown",
   "id": "29710d7a-4895-4698-8363-ca25dd11504e",
   "metadata": {},
   "source": [
    "- If you want to reduce data from 1 CCD only (#4 and #5 in the example):\n",
    "\n",
    "    <tt>emproc selectccds=yes ccd4=yes ccd5=yes</tt>"
   ]
  },
  {
   "cell_type": "code",
   "execution_count": null,
   "id": "6adaa678-ec46-4b5c-97de-465491ed47a4",
   "metadata": {},
   "outputs": [],
   "source": [
    "# SAS Command\n",
    "cmd    = \"emproc\" # SAS task to be executed                  \n",
    "\n",
    "# Arguments of SAS Command\n",
    "inargs = ['selectccds=yes','ccd4=yes','ccd5=yes']\n",
    "\n",
    "print(\"   SAS command to be executed: \"+cmd+\", with arguments; \\n\")\n",
    "inargs"
   ]
  },
  {
   "cell_type": "code",
   "execution_count": null,
   "id": "43d7a60a-e5e0-4e84-adf5-98f2ea73faa4",
   "metadata": {},
   "outputs": [],
   "source": [
    "w(cmd, inargs).run()"
   ]
  },
  {
   "cell_type": "markdown",
   "id": "f1045911-3fac-416e-896a-43f45996709d",
   "metadata": {},
   "source": [
    "- If you want to change the reference pointing for the calculation of the sky coordinates to a value of your choice:\n",
    "\n",
    "    <tt>emproc referencepointing=user ra=34.65646 dec=-12.876546</tt>"
   ]
  },
  {
   "cell_type": "code",
   "execution_count": null,
   "id": "57e5aa4b-d089-4104-aebd-1e5ae75e2e19",
   "metadata": {},
   "outputs": [],
   "source": [
    "# SAS Command\n",
    "cmd    = \"emproc\" # SAS task to be executed                  \n",
    "\n",
    "# Arguments of SAS Command\n",
    "inargs = ['referencepointing=user','ra=34.65646','dec=-12.876546']\n",
    "\n",
    "print(\"   SAS command to be executed: \"+cmd+\", with arguments; \\n\")\n",
    "inargs"
   ]
  },
  {
   "cell_type": "code",
   "execution_count": null,
   "id": "718797ab-d0fe-4ad5-98e7-80f1737f316e",
   "metadata": {},
   "outputs": [],
   "source": [
    "w(cmd, inargs).run()"
   ]
  },
  {
   "cell_type": "markdown",
   "id": "8d4a5b08-b500-41c2-baa5-8c6f32e3d0ef",
   "metadata": {},
   "source": [
    "- Please be aware that if you want to supply coordinates for the analysis of the EPIC-MOS Timing mode, the command is slightly different, e.g.:\n",
    "\n",
    "    <tt>emproc withsrccoords=yes srcra=34.65646 srcdec=-12.876546</tt>\n",
    "\n",
    "- If you want to filter the event list events, using an external Good Time Interval (GTI) file (see the corresponding thread on how to filter event files for flaring particle background by creating a GTI file):\n",
    "\n",
    "    <tt>emproc withgtiset=yes gtiset=mygti.gti filterevents=yes</tt>"
   ]
  },
  {
   "cell_type": "code",
   "execution_count": null,
   "id": "a8b0956b-4292-483f-9550-a048a9c60a10",
   "metadata": {},
   "outputs": [],
   "source": [
    "# SAS Command\n",
    "cmd    = \"emproc\" # SAS task to be executed                  \n",
    "\n",
    "# Arguments of SAS Command\n",
    "inargs = ['withgtiset=yes','gtiset=mygti.gti','filterevents=yes']\n",
    "\n",
    "print(\"   SAS command to be executed: \"+cmd+\", with arguments; \\n\")\n",
    "inargs"
   ]
  },
  {
   "cell_type": "code",
   "execution_count": null,
   "id": "92251bd0-df04-417c-b45f-ae7b7f7cccbb",
   "metadata": {},
   "outputs": [],
   "source": [
    "w(cmd, inargs).run()"
   ]
  },
  {
   "cell_type": "markdown",
   "id": "a9103ffe-e01e-48cd-8244-c6e2b1e0ab46",
   "metadata": {},
   "source": [
    "Parameters can be combined to accomplish simultaneously two or more of the above tasks during the same run.\n",
    "\n",
    "The user is referred to the on-line documentation of [<tt>emproc</tt>](https://xmm-tools.cosmos.esa.int/external/sas/current/doc/emproc/index.html) and [<tt>epproc</tt>](https://xmm-tools.cosmos.esa.int/external/sas/current/doc/epproc/index.html) for a complete list of the available options."
   ]
  },
  {
   "cell_type": "markdown",
   "id": "3a4bab7b-3503-4023-878d-726f3c025247",
   "metadata": {},
   "source": [
    "### Reduction of EPIC-pn Timing Mode exposures\n",
    "\n",
    "Most exposures in EPIC-pn Timing Mode are affected by X-ray Loading (XRL; cf. Sect.3.1 in Guainazzi et al., 2013, [XMM-SOC-CAL-TN-0083](http://xmm2.esac.esa.int/docs/documents/CAL-TN-0083.pdf)). Furthermore, a residual dependence of the energy scale on the total count rate is corrected through the \"Rate-Dependent PHA\" correction (Guainazzi, 2014, [XMM-CCF-REL-312](http://xmm2.esac.esa.int/docs/documents/CAL-SRN-0312-1-4.pdf)). In order to correct for these effects a set of default calibration settings have been identified. As of SAS v14.0, this is controlled by a single parameter within the tasks [<tt>epproc</tt>](https://xmm-tools.cosmos.esa.int/external/sas/current/doc/epproc/index.html) and [<tt>epchain</tt>](https://xmm-tools.cosmos.esa.int/external/sas/current/doc/epchain/index.html). This parameter is called <tt>withdefaultcal</tt> and is set to <tt>yes</tt> by default. Setting <tt>withdefaultcal=yes</tt> implies <tt>runepreject=yes withxrlcorrection=yes runepfast=no withrdpha=yes</tt>. So one shall run the EPIC-pn reduction meta-tasks as follows:\n",
    "\n",
    "&emsp;&emsp;<tt>epproc </tt>\n",
    "\n",
    "or:\n",
    "\n",
    "&emsp;&emsp;<tt>epchain datamode=TIMING</tt>\n",
    "\n",
    "For more information please refer to the documentation of [<tt>epproc</tt>](https://xmm-tools.cosmos.esa.int/external/sas/current/doc/epproc/index.html) and [<tt>epchain</tt>](https://xmm-tools.cosmos.esa.int/external/sas/current/doc/epchain/index.html)."
   ]
  },
  {
   "cell_type": "markdown",
   "id": "c3a3a986-3d7d-46fb-b9d1-c52bc59900a6",
   "metadata": {},
   "source": [
    "### Reduction of EPIC-pn Burst Mode exposures\n",
    "\n",
    "Most exposures in EPIC-pn Burst Mode are affected by X-ray Loading (XRL; cf. Sect.3.1 in Guainazzi et al., 2013, [XMM-SOC-CAL-TN-0083](http://xmm2.esac.esa.int/docs/documents/CAL-TN-0083.pdf)). Furthermore, a residual dependence of the energy scale on the total count rate is corrected through the \"Rate-Dependent CTI\" correction. In order to correct for these effects a set of default calibration settings have been identified. As of SAS v14.0, this is controlled by a single parameter within the tasks [<tt>epproc</tt>](https://xmm-tools.cosmos.esa.int/external/sas/current/doc/epproc/index.html) and [<tt>epchain</tt>](https://xmm-tools.cosmos.esa.int/external/sas/current/doc/epchain/index.html). This parameter is called <tt>withdefaultcal</tt> and is set to <tt>yes</tt> by default. Setting <tt>withdefaultcal=yes</tt> implies <tt>runepreject=yes withxrlcorrection=yes runepfast=yes withrdpha=no</tt>. So one shall run the EPIC-pn reduction meta-tasks as follows:\n",
    "\n",
    "&emsp;&emsp;<tt>epproc burst=yes</tt>\n",
    "\n",
    "Notice the inclusion of the extra parameter <tt>burst=yes</tt> in the call to [<tt>epproc</tt>](https://xmm-tools.cosmos.esa.int/external/sas/current/doc/epproc/index.html) and [<tt>epchain</tt>](https://xmm-tools.cosmos.esa.int/external/sas/current/doc/epchain/index.html) also needs an extra parameter:\n",
    "\n",
    "&emsp;&emsp;<tt>epchain datamode=BURST</tt>"
   ]
  },
  {
   "cell_type": "code",
   "execution_count": null,
   "id": "85f03432-0275-474b-8b4d-3256f73a810a",
   "metadata": {},
   "outputs": [],
   "source": [
    "# SAS Command\n",
    "cmd    = \"epchain\" # SAS task to be executed                  \n",
    "\n",
    "# Arguments of SAS Command\n",
    "inargs = ['datamode=BURST']\n",
    "\n",
    "print(\"   SAS command to be executed: \"+cmd+\", with arguments; \\n\")\n",
    "inargs"
   ]
  },
  {
   "cell_type": "code",
   "execution_count": null,
   "id": "457b7b19-96ac-422e-87d4-e8c62ea45433",
   "metadata": {},
   "outputs": [],
   "source": [
    "w(cmd,inargs).run()"
   ]
  }
 ],
 "metadata": {
  "kernelspec": {
   "display_name": "Python 3 (ipykernel)",
   "language": "python",
   "name": "python3"
  },
  "language_info": {
   "codemirror_mode": {
    "name": "ipython",
    "version": 3
   },
   "file_extension": ".py",
   "mimetype": "text/x-python",
   "name": "python",
   "nbconvert_exporter": "python",
   "pygments_lexer": "ipython3",
   "version": "3.11.5"
  }
 },
 "nbformat": 4,
 "nbformat_minor": 5
}

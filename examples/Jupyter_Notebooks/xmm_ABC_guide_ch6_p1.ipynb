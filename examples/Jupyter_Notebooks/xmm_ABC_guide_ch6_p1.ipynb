{
 "cells": [
  {
   "cell_type": "markdown",
   "id": "95220aeb-e7d6-43ba-9f8f-a83b7f62ccb2",
   "metadata": {},
   "source": [
    "# ABC Guide for XMM-Newton -- Part 1\n",
    "\n",
    "---\n",
    "\n",
    "#### Introduction\n",
    "This tutorial is based on Chapter 6 from the [The XMM-Newton ABC Guide](https://heasarc.gsfc.nasa.gov/docs/xmm/abc/ \"ABC Guide\") prepared by the NASA/GSFC XMM-Newton Guest Observer Facility. This notebook assumes you are using the version of pySAS found on [GitHub](https://github.com/XMMGOF/pysas) and have already configured it to work with your SAS installation (see the [README on GitHub](https://github.com/XMMGOF/pysas/blob/main/README.md)). \n",
    "#### Expected Outcome\n",
    "The ability to apply basic filters to any XMM-Newton observation and prepare it for analysis.\n",
    "#### SAS Tasks to be Used\n",
    "\n",
    "- `emproc`[(Documentation for emproc)](https://xmm-tools.cosmos.esa.int/external/sas/current/doc/emproc/index.html \"emproc Documentation\")\n",
    "- `epproc`[(Documentation for epproc)](https://xmm-tools.cosmos.esa.int/external/sas/current/doc/epproc/index.html \"epproc Documentation\")\n",
    "- `evselect`[(Documentation for evselect)](https://xmm-tools.cosmos.esa.int/external/sas/current/doc/evselect/index.html)\n",
    "- `tabgtigen`[(Documentation for tabgtigen)](https://xmm-tools.cosmos.esa.int/external/sas/current/doc/tabgtigen/index.html)\n",
    "- `gtibuild`[(Documentation for gtibuild)](https://xmm-tools.cosmos.esa.int/external/sas/current/doc/gtibuild/index.html)\n",
    "\n",
    "#### Prerequisites\n",
    "<div class=\"alert alert-block alert-info\">\n",
    "    <b>Note:</b> Before running this notebook, or even starting a Jupyter Lab session, HEASOFT has to be initialized. If you did not initalize HEASOFT before starting this Jupyter Lab session, or opening this notebook, please close this window and initalize HEASOFT (it is not possible to initalize HEASOFT from within a Jupyter Notebook). SAS defaults will need to be set as explained in the README on GitHub (https://github.com/XMMGOF/pysas/blob/main/README.md).\n",
    "</div>\n",
    "\n",
    "#### Useful Links\n",
    "\n",
    "- [`pysas` Documentation](https://xmm-tools.cosmos.esa.int/external/sas/current/doc/pysas/index.html \"pysas Documentation\")\n",
    "- [`pysas` on GitHub](https://github.com/XMMGOF/pysas)\n",
    "- [Common SAS Threads](https://www.cosmos.esa.int/web/xmm-newton/sas-threads \"SAS Threads\")\n",
    "- [Users' Guide to the XMM-Newton Science Analysis System (SAS)](https://xmm-tools.cosmos.esa.int/external/xmm_user_support/documentation/sas_usg/USG/SASUSG.html \"Users' Guide\")\n",
    "- [The XMM-Newton ABC Guide](https://heasarc.gsfc.nasa.gov/docs/xmm/abc/ \"ABC Guide\")\n",
    "- [XMM Newton GOF Helpdesk](https://heasarc.gsfc.nasa.gov/docs/xmm/xmm_helpdesk.html \"Helpdesk\") - Link to form to contact the GOF Helpdesk.\n",
    "\n",
    "#### Caveats\n",
    "This tutorial uses an observation of the Lockman Hole (obsid = '0123700101')."
   ]
  },
  {
   "cell_type": "markdown",
   "id": "7eebc609-8d0a-40be-a848-cc6abf26f406",
   "metadata": {},
   "source": [
    "##### Last Reviewed: _25 April 2024, for SAS v21_\n",
    "##### Last Updated: _25 April 2024_\n",
    "##### By: Ryan Tanner (ryan.tanner@nasa.gov)\n",
    "---"
   ]
  },
  {
   "cell_type": "code",
   "execution_count": null,
   "id": "c36c8366-38cb-4a4f-ad8c-75937fe0484a",
   "metadata": {},
   "outputs": [],
   "source": [
    "# pySAS imports\n",
    "import pysas\n",
    "from pysas.wrapper import Wrapper as w\n",
    "\n",
    "# Useful imports\n",
    "import os\n",
    "\n",
    "# Imports for plotting\n",
    "import matplotlib.pyplot as plt\n",
    "from astropy.visualization import astropy_mpl_style\n",
    "from astropy.io import fits\n",
    "from astropy.wcs import WCS\n",
    "from astropy.table import Table\n",
    "plt.style.use(astropy_mpl_style)"
   ]
  },
  {
   "cell_type": "markdown",
   "id": "4a8b6683-eb97-4ed6-8530-41712367eebb",
   "metadata": {},
   "source": [
    "### 6.1 : Rerun basic processing"
   ]
  },
  {
   "cell_type": "code",
   "execution_count": null,
   "id": "3b52b56f-e3a3-4109-ab96-426130531578",
   "metadata": {
    "scrolled": true,
    "tags": []
   },
   "outputs": [],
   "source": [
    "obsid = '0123700101'\n",
    "odf = pysas.odfcontrol.ODFobject(obsid)\n",
    "odf.basic_setup(overwrite=True,repo='heasarc',\n",
    "                rerun=False, epproc_args=['withoutoftime=yes'])"
   ]
  },
  {
   "cell_type": "markdown",
   "id": "c8e45876-d6cb-4f7a-9975-6f1dbeb42e15",
   "metadata": {},
   "source": [
    "If the dataset has more than one exposure, a specific exposure can be accessed using the <tt>withinstexpids</tt> and <tt>instexpids</tt> parameters, e.g.:\n",
    "\n",
    "```python\n",
    "inargs = \"withinstexpids=yes instexpids='M1S001 M2S001'\"\n",
    "w('emproc', inargs).run()\n",
    "```\n",
    "\n",
    "<div class=\"alert alert-block alert-info\">\n",
    "    <b>Note:</b> For PN observations with very bright sources, out-of-time events can provide a serious contamination of the image. Out-of-time events occur because the read-out period for the CCDs can be up to $\\sim6.3$% of the frame time. Since events that occur during the read-out period can't be distinguished from others events, they are included in the event files but have invalid locations. For observations with bright sources, this can cause bright stripes in the image along the CCD read-out direction.\n",
    "</div>\n",
    "\n",
    "To create an out-of-time event file for your PN data, add the parameter <tt>withoutoftime</tt> to your <tt>epproc</tt> invocation:\n",
    "\n",
    "```python\n",
    "inargs = \"withoutoftime=yes\"\n",
    "w('epproc', inargs).run()\n",
    "```\n",
    "\n",
    "By default, these tasks do not keep any intermediate files they generate. <tt>Emproc</tt> and <tt>epproc</tt> designate their output event files with \"*ImagingEvts.ds\"."
   ]
  },
  {
   "cell_type": "markdown",
   "id": "15b8c1fe-3fc9-48af-97c6-7e7cbdea4ab5",
   "metadata": {},
   "source": [
    "### 6.2 : Plot image"
   ]
  },
  {
   "cell_type": "markdown",
   "id": "95bc5614-c845-48be-8d41-b210a9a7ee91",
   "metadata": {},
   "source": [
    "Below we define a useful function to make image plotting easier. It uses `evselect` to create a FITS image file from a FITS event list file. As a default it creates a file named \"image.fits\" and this file will be overwritten each time the function is called. If you want your image file to have a unique name then use the function input \"image_file\". For example:\n",
    "\n",
    "```python\n",
    "make_fits_image('event_list_file.fits', image_file='my_special_image.fits')\n",
    "```\n",
    "---\n",
    "The input arguments to `evselect` to create a FITS image file are:\n",
    "\n",
    "    table - input event list file name\n",
    "    withimageset - make an image\n",
    "    imageset - name of output image file\n",
    "    xcolumn - event column for X axis\n",
    "    ycolumn - event column for Y axis\n",
    "    imagebinning - form of binning, force entire image into a given size or bin by a specified number of pixels\n",
    "    ximagesize - output image pixels in X\n",
    "    yimagesize - output image pixels in Y"
   ]
  },
  {
   "cell_type": "code",
   "execution_count": null,
   "id": "f91b9cfc-8467-479c-b8c6-61bec06f6c12",
   "metadata": {},
   "outputs": [],
   "source": [
    "def make_fits_image(event_list_file, image_file='image.fits'):\n",
    "    \n",
    "    inargs = ['table={0}'.format(event_list_file), \n",
    "              'withimageset=yes',\n",
    "              'imageset={0}'.format(image_file), \n",
    "              'xcolumn=X', \n",
    "              'ycolumn=Y', \n",
    "              'imagebinning=imageSize', \n",
    "              'ximagesize=600', \n",
    "              'yimagesize=600']\n",
    "\n",
    "    w('evselect', inargs).run()\n",
    "\n",
    "    hdu = fits.open(image_file)[0]\n",
    "    wcs = WCS(hdu.header)\n",
    "\n",
    "    ax = plt.subplot(projection=wcs)\n",
    "    plt.imshow(hdu.data, origin='lower', norm='log', vmin=1.0, vmax=1e2)\n",
    "    ax.set_facecolor(\"black\")\n",
    "    plt.grid(color='blue', ls='solid')\n",
    "    plt.xlabel('RA')\n",
    "    plt.ylabel('Dec')\n",
    "    plt.colorbar()\n",
    "    plt.show()"
   ]
  },
  {
   "cell_type": "markdown",
   "id": "1402d8fe-c196-48dd-bfeb-e90902c959ba",
   "metadata": {},
   "source": [
    "We also define a function to make plotting light curves simpler. As with the function `make_fits_image` it uses `evselect` to create the light curve. It also creates a default light curve FITS file.\n",
    "\n",
    "---\n",
    "The input arguments to `evselect` to create a light curve file are:\n",
    "\n",
    "    table - input event table\n",
    "    withrateset - make a light curve\n",
    "    rateset - name of output light curve file\n",
    "    maketimecolumn - control to create a time column\n",
    "    timecolumn - time column label\n",
    "    timebinsize - time binning (seconds)\n",
    "    makeratecolumn - control to create a count rate column, otherwise a count column will be created\n"
   ]
  },
  {
   "cell_type": "code",
   "execution_count": null,
   "id": "e6f98330-8c09-4c13-acf1-f59d95d9fbd0",
   "metadata": {},
   "outputs": [],
   "source": [
    "def plot_light_curve(event_list_file, light_curve_file='ltcrv.fits'):\n",
    "                     \n",
    "    inargs = ['table={0}'.format(event_list_file), \n",
    "              'withrateset=yes', \n",
    "              'rateset={0}'.format(light_curve_file), \n",
    "              'maketimecolumn=yes', \n",
    "              'timecolumn=TIME', \n",
    "              'timebinsize=100', \n",
    "              'makeratecolumn=yes']\n",
    "\n",
    "    w('evselect', inargs).run()\n",
    "\n",
    "    ts = Table.read(light_curve_file,hdu=1)\n",
    "    plt.plot(ts['TIME'],ts['RATE'])\n",
    "    plt.xlabel('Time (s)')\n",
    "    plt.ylabel('Count Rate (ct/s)')\n",
    "    plt.show()"
   ]
  },
  {
   "cell_type": "markdown",
   "id": "8d68d9c3-396e-4ced-8475-ef30d378ecd8",
   "metadata": {},
   "source": [
    "We need to change into the work directory to run the next SAS tasks. We also get the name and path to the event list file created in §6.1."
   ]
  },
  {
   "cell_type": "code",
   "execution_count": null,
   "id": "1968b75e-9296-4d6b-aad3-3a6881453c4e",
   "metadata": {
    "tags": []
   },
   "outputs": [],
   "source": [
    "os.chdir(odf.work_dir)\n",
    "mos1 = odf.files['M1evt_list'][0]"
   ]
  },
  {
   "cell_type": "markdown",
   "id": "cddbecc3-35cf-4e63-a58e-fe11273fa8f6",
   "metadata": {},
   "source": [
    "Here we plot an image of the raw data with no filters applied. The image should be very noisy."
   ]
  },
  {
   "cell_type": "code",
   "execution_count": null,
   "id": "b8a82f49-b916-41f4-8325-11849969db9a",
   "metadata": {
    "scrolled": true
   },
   "outputs": [],
   "source": [
    "make_fits_image(mos1)"
   ]
  },
  {
   "cell_type": "markdown",
   "id": "38dc5e2e-53f9-436f-bb13-5db71d9c3f9a",
   "metadata": {},
   "source": [
    "### 6.3 : Apply Standard Filter"
   ]
  },
  {
   "cell_type": "markdown",
   "id": "5e9c4470-1425-49cf-b9a8-b03844c3e9f0",
   "metadata": {},
   "source": [
    "To begin we apply a standard filter. The filtering expressions for the MOS and PN are, respectively:\n",
    "```\n",
    "(PATTERN $<=$ 12)&&(PI in [200:12000])&&#XMMEA_EM\n",
    "```\n",
    "and\n",
    "```\n",
    "(PATTERN $<=$ 4)&&(PI in [200:15000])&&#XMMEA_EP\n",
    "```\n",
    "The first two expressions will select good events with `PATTERN` in the 0 to 12 (or 0 to 4) range. The `PATTERN` value is similar the `GRADE` selection for ASCA data, and is related to the number and pattern of the CCD pixels triggered for a given event. The `PATTERN` assignments are: single pixel events: `PATTERN == 0`, double pixel events: `PATTERN in [1:4]`, triple and quadruple events: `PATTERN in [5:12]`.\n",
    "\n",
    "The second keyword in the expressions, `PI`, selects the preferred pulse height of the event; for the MOS, this should be between 200 and 12000 eV. For the PN, this should be between 200 and 15000 eV. This should clean up the image significantly with most of the rest of the obvious contamination due to low pulse height events. Setting the lower `PI` channel limit somewhat higher (e.g., to 300 eV) will eliminate much of the rest.\n",
    "\n",
    "Finally, the `#XMMEA_EM` (`#XMMEA_EP` for the PN) filter provides a canned screening set of `FLAG` values for the event. The `FLAG` value provides a bit encoding of various event conditions, e.g., near hot pixels or outside of the field of view. Setting `FLAG == 0` in the selection expression provides the most conservative screening criteria and should always be used when serious spectral analysis is to be done on the PN. It typically is not necessary for the MOS.\n",
    "\n",
    "It is a good idea to keep the output filtered event files and use them in your analyses, as opposed to re-filtering the original file with every task. This will save much time and computer memory. As an example, the Lockman Hole data's original event file is 48.4 Mb; the fully filtered list (that is, filtered spatially, temporally, and spectrally) is only 4.0Mb!\n",
    "\n",
    "The input arguments to `evselect` to apply the filter are:\n",
    "\n",
    "    table - input event table\n",
    "    filtertype - method of filtering\n",
    "    expression - filtering expression\n",
    "    withfilteredset - create a filtered set\n",
    "    filteredset - output file name\n",
    "    keepfilteroutput - save the filtered output\n",
    "    updateexposure - update exposure information in event list and in spectrum files\n",
    "    filterexposure - filter exposure extensions of event list with same time"
   ]
  },
  {
   "cell_type": "code",
   "execution_count": null,
   "id": "a81bf645-ed6c-41b3-a223-276522d475d9",
   "metadata": {
    "scrolled": true,
    "tags": []
   },
   "outputs": [],
   "source": [
    "filtered_event_list = 'mos1_filt.fits'\n",
    "\n",
    "inargs = ['table={0}'.format(mos1), \n",
    "          'withfilteredset=yes', \n",
    "          \"expression='(PATTERN <= 12)&&(PI in [200:4000])&&#XMMEA_EM'\", \n",
    "          'filteredset={0}'.format(filtered_event_list), \n",
    "          'filtertype=expression', \n",
    "          'keepfilteroutput=yes', \n",
    "          'updateexposure=yes', \n",
    "          'filterexposure=yes']\n",
    "\n",
    "w('evselect', inargs).run()"
   ]
  },
  {
   "cell_type": "markdown",
   "id": "1666439d-cefc-417f-a65e-aef85f8f4867",
   "metadata": {},
   "source": [
    "<div class=\"alert alert-block alert-info\">\n",
    "    <b>Note:</b> The expression for the input <tt>expression</tt> contains single quotes ('text'). The entire string needs to be surrounded by double quotes (\"text\") to preserve the single quotes inside the string. i.e. \"This text has 'single quotes' inside of the double quotes.\"\n",
    "</div>"
   ]
  },
  {
   "cell_type": "markdown",
   "id": "1cdfe678-7ee0-41c5-a9e4-c7d770364455",
   "metadata": {},
   "source": [
    "Now we plot the filtered image. It should have less noise now."
   ]
  },
  {
   "cell_type": "code",
   "execution_count": null,
   "id": "12824c23-df07-446a-84e3-67f112ef3b5e",
   "metadata": {
    "scrolled": true
   },
   "outputs": [],
   "source": [
    "make_fits_image(filtered_event_list)"
   ]
  },
  {
   "cell_type": "markdown",
   "id": "40f244f9-38d2-40df-b599-e68333d20864",
   "metadata": {},
   "source": [
    "### 6.4 : Create Light Curve"
   ]
  },
  {
   "cell_type": "markdown",
   "id": "691706c2-7106-435a-8921-06263f3b0f41",
   "metadata": {},
   "source": [
    "Sometimes, it is necessary to use filters on time in addition to those mentioned above. This is because of soft proton background flaring, which can have count rates of 100 counts/sec or higher across the entire bandpass. It should be noted that the amount of flaring that needs to be removed depends in part on the object observed; a faint, extended object will be more affected than a very bright X-ray source.\n",
    "\n",
    "To see if background flaring should be removed we plot and examine the light curve."
   ]
  },
  {
   "cell_type": "code",
   "execution_count": null,
   "id": "d1fe2509-f963-4edd-b6b5-cbf4c2386c80",
   "metadata": {
    "scrolled": true
   },
   "outputs": [],
   "source": [
    "light_curve_file='mos1_ltcrv.fits'\n",
    "plot_light_curve(filtered_event_list, light_curve_file=light_curve_file)"
   ]
  },
  {
   "cell_type": "markdown",
   "id": "5920b928-b0fa-49af-b3ac-c719ffe3a5ca",
   "metadata": {},
   "source": [
    "Taking a look at the light curve, we can see that there is a very large flare toward the end of the observation and two much smaller ones in the middle of the exposure. Examining the light curve shows us that during non-flare times, the count rate is quite low, about 1.3 ct/s, with a small increase at 7.3223e7 seconds to about 6 ct/s. We can use that to further filter the data."
   ]
  },
  {
   "cell_type": "markdown",
   "id": "fed308c8-af00-413f-be24-6d2d75539628",
   "metadata": {},
   "source": [
    "### 6.5 Applying Time or Rate Filters to the Data"
   ]
  },
  {
   "cell_type": "markdown",
   "id": "c3f1f7b9-7a3f-4507-ab44-bb22936a4725",
   "metadata": {},
   "source": [
    "There are many ways to filter the data. We will demonstrate four different methods. The first three methods will create a Good Time Interval (GTI) file which can then be used as an input to the command `evselect`. This will create a new, filtered, event list.\n",
    "\n",
    "1. Create a secondary GTI file using the command `tabgtigen` and filter on `RATE`.\n",
    "2. Create a secondary GTI file using the command `tabgtigen` and filter on `TIME`.\n",
    "3. Create a *new* GTI file using the command `gtibuild` and filter on `TIME`.\n",
    "4. Filter on `TIME` using an explicit reference in the inputs to the command `evselect`.\n",
    "\n",
    "For the last method the user explicitly inputs the time intervals to be used as an expression for the command `evselect` rather than using a separate GTI file. All of these will get the job done, so which to use is a matter of the user's preference."
   ]
  },
  {
   "cell_type": "markdown",
   "id": "f82674e1-363b-4d80-856f-d1466db7c507",
   "metadata": {},
   "source": [
    "#### 6.5.1 Using `tabgtigen` to filter on `RATE`"
   ]
  },
  {
   "cell_type": "markdown",
   "id": "94e20904-1b19-41dc-a863-5d32b5d70de1",
   "metadata": {},
   "source": [
    "The inputs for `tabgtigen` are:\n",
    "\n",
    "    table - input file name with count rate table\n",
    "    gtiset - output file name for selected GTI intervals\n",
    "    timecolumn - time column\n",
    "    expression - filtering expression\n",
    "    \n",
    "We choose a rate $<= 6$ counts/s and filter based on that. As the input we use the lightcurve file created in §6.4."
   ]
  },
  {
   "cell_type": "code",
   "execution_count": null,
   "id": "82ffd9a4-c99e-409d-9dd5-d4596322f448",
   "metadata": {
    "scrolled": true,
    "tags": []
   },
   "outputs": [],
   "source": [
    "gti_rate_file = 'gti_rate.fits'\n",
    "mos1_filt_rate = 'mos1_filt_rate.fits'\n",
    "\n",
    "inargs = ['table={0}'.format(light_curve_file), \n",
    "          'gtiset={0}'.format(gti_rate_file),\n",
    "          'timecolumn=TIME', \n",
    "          \"expression='(RATE <= 6)'\"]\n",
    "\n",
    "w('tabgtigen', inargs).run()\n",
    "\n",
    "inargs = ['table={0}'.format(filtered_event_list),\n",
    "          'withfilteredset=yes', \n",
    "          \"expression='GTI({0},TIME)'\".format(gti_rate_file), \n",
    "          'filteredset={0}'.format(mos1_filt_rate),\n",
    "          'filtertype=expression', \n",
    "          'keepfilteroutput=yes',\n",
    "          'updateexposure=yes', \n",
    "          'filterexposure=yes']\n",
    "\n",
    "w('evselect', inargs).run()"
   ]
  },
  {
   "cell_type": "markdown",
   "id": "228b63b7-e346-498e-ad63-aa8ad5569652",
   "metadata": {},
   "source": [
    "Now we create an image from the new event list that has been filtered based on `RATE`. There should be significantly less noise and only point sources should remain. Compare this final image to the first raw, unfilted image."
   ]
  },
  {
   "cell_type": "code",
   "execution_count": null,
   "id": "178e497b-216e-4d6f-9017-f9ebc2dee01f",
   "metadata": {},
   "outputs": [],
   "source": [
    "make_fits_image(mos1_filt_rate, image_file='final_image1.fits')"
   ]
  },
  {
   "cell_type": "markdown",
   "id": "79971bfc-33d0-489d-93d2-5a394dee92e7",
   "metadata": {},
   "source": [
    "We can also create a new light curve from the filtered event list and compare it to the light curve from §6.4 to see what we have done."
   ]
  },
  {
   "cell_type": "code",
   "execution_count": null,
   "id": "375f040e-fd4d-4582-a4ee-30c823f295db",
   "metadata": {},
   "outputs": [],
   "source": [
    "plot_light_curve(mos1_filt_rate)"
   ]
  },
  {
   "cell_type": "markdown",
   "id": "c7a99987-a664-43d4-b64c-4ab22844db5d",
   "metadata": {},
   "source": [
    "#### 6.5.2 Using `tabgtigen` to filter on `TIME`"
   ]
  },
  {
   "cell_type": "markdown",
   "id": "cba81274-4064-47fa-94cb-721a1d551bcb",
   "metadata": {},
   "source": [
    "Alternatively, we could have chosen to make a new GTI file by noting the times of the flaring in the light curve and using that as a filtering parameter. The big flare starts around 7.32276e7 s, and the smaller ones are at 7.32119e7 s and 7.32205e7 s. The expression to remove these would be `(TIME <= 73227600)&&!(TIME IN [7.32118e7:7.3212e7])&&!(TIME IN [7.32204e7:7.32206e7])`. The syntax `(TIME <= 73227600)` includes only events with times less than or equal to `73227600`, and the \"!\" symbol stands for the logical \"not\", so use `&&!(TIME in [7.32118e7:7.3212e7])` to exclude events in that time interval. Once the new GTI file is made, we apply it with `evselect`. Everything else remains the same as in §6.5.1."
   ]
  },
  {
   "cell_type": "code",
   "execution_count": null,
   "id": "d9f9b821-99c5-41dd-ae74-8fb8b8806d14",
   "metadata": {
    "scrolled": true,
    "tags": []
   },
   "outputs": [],
   "source": [
    "gti_time_file = 'gti_rate.fits'\n",
    "mos1_filt_time = 'mos1_filt_time.fits'\n",
    "\n",
    "inargs = ['table={0}'.format(light_curve_file), \n",
    "          'gtiset={0}'.format(gti_time_file),\n",
    "          'timecolumn=TIME', \n",
    "          \"expression='(TIME <= 73227600)&&!(TIME IN [7.32118e7:7.3212e7])&&!(TIME IN [7.32204e7:7.32206e7])'\"]\n",
    "\n",
    "w('tabgtigen', inargs).run()\n",
    "\n",
    "inargs = ['table={0}'.format(filtered_event_list),\n",
    "          'withfilteredset=yes', \n",
    "          \"expression='GTI({0},TIME)'\".format(gti_time_file), \n",
    "          'filteredset={0}'.format(mos1_filt_time),\n",
    "          'filtertype=expression', \n",
    "          'keepfilteroutput=yes',\n",
    "          'updateexposure=yes', \n",
    "          'filterexposure=yes']\n",
    "\n",
    "w('evselect', inargs).run()"
   ]
  },
  {
   "cell_type": "markdown",
   "id": "6869af46-8601-49d5-8479-45bf33252112",
   "metadata": {},
   "source": [
    "We can now plot the image that has been filtered on `TIME` and compare it to the image that was been filtered on `RATE` from §6.5.1."
   ]
  },
  {
   "cell_type": "code",
   "execution_count": null,
   "id": "4fa94d1d-c4fe-4f4c-be3d-cb5a450cf188",
   "metadata": {},
   "outputs": [],
   "source": [
    "make_fits_image(mos1_filt_time, image_file='final_image2.fits')\n",
    "plot_light_curve(mos1_filt_time)"
   ]
  },
  {
   "cell_type": "markdown",
   "id": "3f718ce7-98cd-428f-bf92-7f4102c40536",
   "metadata": {},
   "source": [
    "#### 6.5.3 Using `gtibuild` to make a new GTI file and filter on `TIME`"
   ]
  },
  {
   "cell_type": "markdown",
   "id": "9cf5f5fa-32fe-4f3d-8c80-b9d8d97cef71",
   "metadata": {},
   "source": [
    "This method requires a text file as input. The file should be in ASCII format with eash row on a new line and values for each column separated by spaces. In the first two columns, enter the start and end times (in seconds) that you are interested in, and in the third column, indicate with either a + or - sign whether that region should be kept or removed. Each good (or bad) time interval should get its own line, with any optional comments preceeded by a \"#\". In the example case, we would write in our ASCII file (named gti.txt):"
   ]
  },
  {
   "cell_type": "code",
   "execution_count": null,
   "id": "ccd4c6b7-d4cd-45c1-a939-a5cfbde2664f",
   "metadata": {},
   "outputs": [],
   "source": [
    "gti_lines = ['0        73227600 + # Good time from the start of the observation',\n",
    "             '73211800 73212000 - # But without a small flare here.',\n",
    "             '73211800 73212000 - # And here.']\n",
    "\n",
    "with open('gti.txt', 'w') as f:\n",
    "    f.writelines(gti_lines)"
   ]
  },
  {
   "cell_type": "markdown",
   "id": "3509fbf4-c881-4450-9070-3517880411cd",
   "metadata": {},
   "source": [
    "We can now run `gtibuild` to create a new GTI file.\n",
    "\n",
    "---\n",
    "The inputs for `gtibuild` are:\n",
    "\n",
    "    file - input text file name\n",
    "    table - output GTI file name"
   ]
  },
  {
   "cell_type": "code",
   "execution_count": null,
   "id": "27f7ec6f-6583-4d02-afce-cb17a72e44d7",
   "metadata": {
    "scrolled": true,
    "tags": []
   },
   "outputs": [],
   "source": [
    "gti_txt_file = 'gti.txt'\n",
    "new_gti_file = 'new_gti.fits'\n",
    "mos1_new_gti = 'mos1_new_gti.fits'\n",
    "\n",
    "inargs = ['file={0}'.format(gti_txt_file),\n",
    "          'table={0}'.format(new_gti_file)]\n",
    "\n",
    "w('gtibuild', inargs).run()"
   ]
  },
  {
   "cell_type": "markdown",
   "id": "f8efd67f-d91e-4854-b85a-e9867754b154",
   "metadata": {},
   "source": [
    "We can now run `evselect` as before with the new GTI file."
   ]
  },
  {
   "cell_type": "code",
   "execution_count": null,
   "id": "2e4f40bd-b5bb-4a5c-a8a4-47affacc409b",
   "metadata": {
    "scrolled": true,
    "tags": []
   },
   "outputs": [],
   "source": [
    "inargs = ['table={0}'.format(filtered_event_list),\n",
    "          'withfilteredset=yes', \n",
    "          \"expression='GTI({0},TIME)'\".format(new_gti_file), \n",
    "          'filteredset={0}'.format(mos1_new_gti),\n",
    "          'filtertype=expression', \n",
    "          'keepfilteroutput=yes',\n",
    "          'updateexposure=yes', \n",
    "          'filterexposure=yes']\n",
    "\n",
    "w('evselect', inargs).run()"
   ]
  },
  {
   "cell_type": "markdown",
   "id": "6f16fe45-7f98-4d16-a2fe-f92dfe0e37f2",
   "metadata": {},
   "source": [
    "If you want, you can compare the new image and light curve to what was made previously."
   ]
  },
  {
   "cell_type": "code",
   "execution_count": null,
   "id": "a47fd15c-e483-417e-9e5a-d865a4bb2992",
   "metadata": {},
   "outputs": [],
   "source": [
    "make_fits_image(mos1_new_gti, image_file='final_image3.fits')\n",
    "plot_light_curve(mos1_new_gti)"
   ]
  },
  {
   "cell_type": "markdown",
   "id": "de7a04fb-3055-40d8-b4d4-67eccd05d066",
   "metadata": {},
   "source": [
    "#### 6.5.4 Filter on `TIME` by Explicit Reference"
   ]
  },
  {
   "cell_type": "markdown",
   "id": "342eec0f-b920-4e2c-a7f9-77f0d4eb133e",
   "metadata": {},
   "source": [
    "Finally, we could have chosen to forgo making a secondary GTI file altogether, and simply filtered on `TIME` with the standard filtering expression (see §6.3). The filtering expression from §6.3 can be combined with the filtering expression from §6.5.2 and filter the raw data all in one step. In this case, the full filtering expression would be:"
   ]
  },
  {
   "cell_type": "code",
   "execution_count": null,
   "id": "f8e0529a-9edf-4f60-a5a1-96329d973be0",
   "metadata": {},
   "outputs": [],
   "source": [
    "expression = \"expression='(PATTERN <= 12)&&(PI in [200:12000])&&#XMMEA_EM&&(TIME <= 73227600) &&!(TIME IN [7.32118e7:7.3212e7])&&!(TIME IN [7.32204e7:7.32206e7])'\""
   ]
  },
  {
   "cell_type": "markdown",
   "id": "a24b4b70-a96b-4faa-a89c-81fde48206ff",
   "metadata": {},
   "source": [
    "and we would run `evselect` as the same way we did in §6.3."
   ]
  },
  {
   "cell_type": "code",
   "execution_count": null,
   "id": "e0f66083-0c1d-4d60-9e27-7f09a293edd0",
   "metadata": {
    "scrolled": true,
    "tags": []
   },
   "outputs": [],
   "source": [
    "full_filt_event_list = 'mos1_filt.fits'\n",
    "\n",
    "inargs = ['table={0}'.format(mos1), \n",
    "          'withfilteredset=yes', \n",
    "          expression, \n",
    "          'filteredset={0}'.format(full_filt_event_list), \n",
    "          'filtertype=expression', \n",
    "          'keepfilteroutput=yes', \n",
    "          'updateexposure=yes', \n",
    "          'filterexposure=yes']\n",
    "\n",
    "w('evselect', inargs).run()"
   ]
  },
  {
   "cell_type": "markdown",
   "id": "c8c4a032-5247-4a8c-be1d-681f9c82bd85",
   "metadata": {},
   "source": [
    "Finally we can compare the result with what we made before."
   ]
  },
  {
   "cell_type": "code",
   "execution_count": null,
   "id": "0acb96bf-b308-4458-ae4a-7aceddcf3e83",
   "metadata": {},
   "outputs": [],
   "source": [
    "make_fits_image(full_filt_event_list, image_file='final_image4.fits')\n",
    "plot_light_curve(full_filt_event_list)"
   ]
  },
  {
   "cell_type": "markdown",
   "id": "a3eb952b-3e62-4622-85f3-c9ed531bc802",
   "metadata": {},
   "source": [
    "### Conclusion\n",
    "\n",
    "We have demonstrated various filtering techniques to remove noise from the raw observation data. In Part 2 we will cover source detection, spectra extraction, pile up, and preparing the spectra for analysis by creating a redistribution matrix file (RMF) and an ancillary response file (ARF)."
   ]
  },
  {
   "cell_type": "markdown",
   "id": "09f0abe8-4b3a-41f0-867f-3f045c9905e0",
   "metadata": {},
   "source": [
    "---\n",
    "\n",
    "Below we have included a short script that incorporates all of the filtering steps for a single observation for MOS1, but without making any plots or image files."
   ]
  },
  {
   "cell_type": "code",
   "execution_count": null,
   "id": "931a1414-f487-4a23-970b-7f9420cf4874",
   "metadata": {
    "editable": true,
    "scrolled": true,
    "slideshow": {
     "slide_type": ""
    },
    "tags": []
   },
   "outputs": [],
   "source": [
    "obsid = '0123700101'\n",
    "odf = pysas.odfcontrol.ODFobject(obsid)\n",
    "odf.basic_setup(overwrite=False,repo='heasarc',\n",
    "                rerun=False, epproc_args=['withoutoftime=yes'])\n",
    "\n",
    "os.chdir(odf.work_dir)\n",
    "unfiltered_event_list = odf.files['m1evt_list'][0]\n",
    "\n",
    "# The User can change these file names\n",
    "temporary_event_list = 'temporary_event_list.fits' # Created by the \"standard\" filter\n",
    "light_curve_file = 'mos1_ltcrv.fits'               # Light curve file name\n",
    "gti_rate_file = 'gti_rate.fits'                    # GTI file name\n",
    "filtered_event_list = 'filtered_event_list.fits'   # Final filtered \n",
    "\n",
    "# \"Standard\" Filter\n",
    "inargs = ['table={0}'.format(unfiltered_event_list), \n",
    "          'withfilteredset=yes', \n",
    "          \"expression='(PATTERN <= 12)&&(PI in [200:4000])&&#XMMEA_EM'\", \n",
    "          'filteredset={0}'.format(temporary_event_list), \n",
    "          'filtertype=expression', \n",
    "          'keepfilteroutput=yes', \n",
    "          'updateexposure=yes', \n",
    "          'filterexposure=yes']\n",
    "\n",
    "w('evselect', inargs).run()\n",
    "\n",
    "# Make Light Curve File\n",
    "inargs = ['table={0}'.format(temporary_event_list), \n",
    "          'withrateset=yes', \n",
    "          'rateset={0}'.format(light_curve_file), \n",
    "          'maketimecolumn=yes', \n",
    "          'timecolumn=TIME', \n",
    "          'timebinsize=100', \n",
    "          'makeratecolumn=yes']\n",
    "\n",
    "w('evselect', inargs).run()\n",
    "\n",
    "# Make Secondary GTI File\n",
    "inargs = ['table={0}'.format(light_curve_file), \n",
    "          'gtiset={0}'.format(gti_rate_file),\n",
    "          'timecolumn=TIME', \n",
    "          \"expression='(RATE <= 6)'\"]\n",
    "\n",
    "w('tabgtigen', inargs).run()\n",
    "\n",
    "# Filter Using Secondary GTI File\n",
    "inargs = ['table={0}'.format(temporary_event_list),\n",
    "          'withfilteredset=yes', \n",
    "          \"expression='GTI({0},TIME)'\".format(gti_rate_file), \n",
    "          'filteredset={0}'.format(filtered_event_list),\n",
    "          'filtertype=expression', \n",
    "          'keepfilteroutput=yes',\n",
    "          'updateexposure=yes', \n",
    "          'filterexposure=yes']\n",
    "\n",
    "w('evselect', inargs).run()"
   ]
  }
 ],
 "metadata": {
  "kernelspec": {
   "display_name": "Python 3 (ipykernel)",
   "language": "python",
   "name": "python3"
  },
  "language_info": {
   "codemirror_mode": {
    "name": "ipython",
    "version": 3
   },
   "file_extension": ".py",
   "mimetype": "text/x-python",
   "name": "python",
   "nbconvert_exporter": "python",
   "pygments_lexer": "ipython3",
   "version": "3.11.5"
  }
 },
 "nbformat": 4,
 "nbformat_minor": 5
}

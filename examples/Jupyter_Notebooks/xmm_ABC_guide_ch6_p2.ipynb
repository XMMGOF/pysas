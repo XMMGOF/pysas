{
 "cells": [
  {
   "cell_type": "markdown",
   "id": "95220aeb-e7d6-43ba-9f8f-a83b7f62ccb2",
   "metadata": {},
   "source": [
    "# ABC Guide for XMM-Newton -- Part 2\n",
    "\n",
    "---\n",
    "\n",
    "#### Introduction\n",
    "This tutorial is based on Chapter 6 from the The XMM-Newton ABC Guide prepared by the NASA/GSFC XMM-Newton Guest Observer Facility. This notebook assumes you are using the version of pySAS found on [GitHub](https://github.com/XMMGOF/pysas) and have already configured it to work with your SAS installation (see the [README on GitHub](https://github.com/XMMGOF/pysas/blob/main/README.md)). \n",
    "#### Expected Outcome\n",
    "The ability to run source detection, spectra extraction, check for pile up, and preparing the spectra for analysis by creating a redistribution matrix file (RMF) and an ancillary response file (ARF).\n",
    "#### SAS Tasks to be Used\n",
    "\n",
    "- `evselect`[(Documentation for evselect)](https://xmm-tools.cosmos.esa.int/external/sas/current/doc/evselect/index.html)\n",
    "- `edetect_chain`[(Documentation for edetect_chain)](https://xmm-tools.cosmos.esa.int/external/sas/current/doc/edetect_chain/index.html)\n",
    "- `atthkgen `[(Documentation for atthkgen)](https://xmm-tools.cosmos.esa.int/external/sas/current/doc/atthkgen/index.html)\n",
    "- `srcdisplay`[(Documentation for srcdisplay)](https://xmm-tools.cosmos.esa.int/external/sas/current/doc/srcdisplay/index.html)\n",
    "- `epatplot`[(Documentation for epatplot)](https://xmm-tools.cosmos.esa.int/external/sas/current/doc/epatplot/index.html)\n",
    "- `backscale`[(Documentation for backscale)](https://xmm-tools.cosmos.esa.int/external/sas/current/doc/backscale/index.html)\n",
    "- `rmfgen`[(Documentation for rmfgen)](https://xmm-tools.cosmos.esa.int/external/sas/current/doc/rmfgen/index.html)\n",
    "- `arfgen`[(Documentation for arfgen)](https://xmm-tools.cosmos.esa.int/external/sas/current/doc/arfgen/index.html)\n",
    "\n",
    "#### Prerequisites\n",
    "<div class=\"alert alert-block alert-info\">\n",
    "    <b>Note:</b> Before running this notebook, or even starting a Jupyter Lab session, HEASOFT has to be initialized. If you did not initalize HEASOFT before starting this Jupyter Lab session, or opening this notebook, please close this window and initalize HEASOFT (it is not possible to initalize HEASOFT from within a Jupyter Notebook). SAS defaults will need to be set as explained in the README on GitHub (https://github.com/XMMGOF/pysas/blob/main/README.md).\n",
    "</div>\n",
    "\n",
    "#### Useful Links\n",
    "\n",
    "- [`pysas` Documentation](https://xmm-tools.cosmos.esa.int/external/sas/current/doc/pysas/index.html \"pysas Documentation\")\n",
    "- [`pysas` on GitHub](https://github.com/XMMGOF/pysas)\n",
    "- [Common SAS Threads](https://www.cosmos.esa.int/web/xmm-newton/sas-threads \"SAS Threads\")\n",
    "- [Users' Guide to the XMM-Newton Science Analysis System (SAS)](https://xmm-tools.cosmos.esa.int/external/xmm_user_support/documentation/sas_usg/USG/SASUSG.html \"Users' Guide\")\n",
    "- [The XMM-Newton ABC Guide](https://heasarc.gsfc.nasa.gov/docs/xmm/abc/ \"ABC Guide\")\n",
    "- [XMM Newton GOF Helpdesk](https://heasarc.gsfc.nasa.gov/docs/xmm/xmm_helpdesk.html \"Helpdesk\") - Link to form to contact the GOF Helpdesk.\n",
    "\n",
    "#### Caveats\n",
    "This tutorial uses an observation of the Lockman Hole (obsid = '0123700101').\n"
   ]
  },
  {
   "cell_type": "markdown",
   "id": "7eebc609-8d0a-40be-a848-cc6abf26f406",
   "metadata": {},
   "source": [
    "##### Last Reviewed: _25 April 2024, for SAS v21_\n",
    "##### Last Updated: _25 April 2024_\n",
    "##### By: Ryan Tanner (ryan.tanner@nasa.gov)\n",
    "---"
   ]
  },
  {
   "cell_type": "code",
   "execution_count": null,
   "id": "c36c8366-38cb-4a4f-ad8c-75937fe0484a",
   "metadata": {
    "editable": true,
    "slideshow": {
     "slide_type": ""
    },
    "tags": []
   },
   "outputs": [],
   "source": [
    "# pySAS imports\n",
    "import pysas\n",
    "from pysas.wrapper import Wrapper as w\n",
    "\n",
    "# Useful imports\n",
    "import os, subprocess\n",
    "\n",
    "# Imports for plotting\n",
    "import matplotlib.pyplot as plt\n",
    "from astropy.visualization import astropy_mpl_style\n",
    "from astropy.io import fits\n",
    "from astropy.wcs import WCS\n",
    "from astropy.table import Table\n",
    "plt.style.use(astropy_mpl_style)"
   ]
  },
  {
   "cell_type": "markdown",
   "id": "597017ed-cf00-4ca3-914a-9fbd541e91bb",
   "metadata": {},
   "source": [
    "Now we need to let pysas know which Obs ID we are working with. If you have already worked through Part 1 of this tutorial then when you create the odf object it will auto-detect the observation files."
   ]
  },
  {
   "cell_type": "code",
   "execution_count": null,
   "id": "d3bde458-8f5f-4e8c-87f2-7908930beaaa",
   "metadata": {
    "scrolled": true
   },
   "outputs": [],
   "source": [
    "obsid = '0123700101'\n",
    "odf = pysas.odfcontrol.ODFobject(obsid)\n",
    "odf.basic_setup(overwrite=False,repo='heasarc',\n",
    "                rerun=False, epproc_args=['withoutoftime=yes'])\n",
    "\n",
    "# File names for this notebook. The User can change these file names.\n",
    "file_keys = list(odf.files.keys())\n",
    "unfiltered_event_list = odf.files[file_keys[2]][0]\n",
    "temporary_event_list = 'temporary_event_list.fits'\n",
    "light_curve_file='mos1_ltcrv.fits'\n",
    "gti_rate_file = 'gti_rate.fits'\n",
    "filtered_event_list = 'filtered_event_list.fits'\n",
    "attitude_file = 'attitude.fits'\n",
    "soft_band_file = 'mos1-s.fits'\n",
    "hard_band_file = 'mos1-h.fits'\n",
    "mos_all_file = 'mos1-all.fits'\n",
    "eml_list_file = 'emllist.fits'"
   ]
  },
  {
   "cell_type": "markdown",
   "id": "0ce16ebd-bfe0-469c-a1ec-57dc4d683b53",
   "metadata": {
    "editable": true,
    "slideshow": {
     "slide_type": ""
    },
    "tags": []
   },
   "source": [
    "---\n",
    "If you have already worked through Part 1 of this tutorial you can skip the next cell. But if not, or if you want to run it again, the necessary code from Part 1 is in the cell below."
   ]
  },
  {
   "cell_type": "code",
   "execution_count": null,
   "id": "f4af848f-fe87-4066-b933-8caa4f8e779b",
   "metadata": {
    "editable": true,
    "scrolled": true,
    "slideshow": {
     "slide_type": ""
    },
    "tags": []
   },
   "outputs": [],
   "source": [
    "odf.basic_setup(overwrite=False,repo='heasarc',\n",
    "                rerun=False, epproc_args=['withoutoftime=yes'])\n",
    "\n",
    "os.chdir(odf.work_dir)\n",
    "\n",
    "# \"Standard\" Filter\n",
    "if not os.path.exists(temporary_event_list):\n",
    "    inargs = ['table={0}'.format(unfiltered_event_list), \n",
    "              'withfilteredset=yes', \n",
    "              \"expression='(PATTERN <= 12)&&(PI in [200:4000])&&#XMMEA_EM'\", \n",
    "              'filteredset={0}'.format(temporary_event_list), \n",
    "              'filtertype=expression', \n",
    "              'keepfilteroutput=yes', \n",
    "              'updateexposure=yes', \n",
    "              'filterexposure=yes']\n",
    "    \n",
    "    w('evselect', inargs).run()\n",
    "else:\n",
    "    print('File {0} found. Not applying the standard filter again.'.format(temporary_event_list))\n",
    "\n",
    "# Make Light Curve File\n",
    "if not os.path.exists(light_curve_file):\n",
    "    inargs = ['table={0}'.format(temporary_event_list), \n",
    "              'withrateset=yes', \n",
    "              'rateset={0}'.format(light_curve_file), \n",
    "              'maketimecolumn=yes', \n",
    "              'timecolumn=TIME', \n",
    "              'timebinsize=100', \n",
    "              'makeratecolumn=yes']\n",
    "    \n",
    "    w('evselect', inargs).run()\n",
    "else:\n",
    "    print('File {0} found. Not making the light curve again.'.format(light_curve_file))\n",
    "\n",
    "# Make Secondary GTI File\n",
    "if not os.path.exists(gti_rate_file):\n",
    "    inargs = ['table={0}'.format(light_curve_file), \n",
    "              'gtiset={0}'.format(gti_rate_file),\n",
    "              'timecolumn=TIME', \n",
    "              \"expression='(RATE <= 6)'\"]\n",
    "    \n",
    "    w('tabgtigen', inargs).run()\n",
    "else:\n",
    "    print('File {0} found. Not making GTI rate file again.'.format(gti_rate_file))\n",
    "\n",
    "# Filter Using Secondary GTI File\n",
    "if not os.path.exists(filtered_event_list):\n",
    "    inargs = ['table={0}'.format(temporary_event_list),\n",
    "              'withfilteredset=yes', \n",
    "              \"expression='GTI({0},TIME)'\".format(gti_rate_file), \n",
    "              'filteredset={0}'.format(filtered_event_list),\n",
    "              'filtertype=expression', \n",
    "              'keepfilteroutput=yes',\n",
    "              'updateexposure=yes', \n",
    "              'filterexposure=yes']\n",
    "    \n",
    "    w('evselect', inargs).run()\n",
    "else:\n",
    "    print('File {0} found. Not running evselect filter again.'.format(filtered_event_list))"
   ]
  },
  {
   "cell_type": "markdown",
   "id": "4a8b6683-eb97-4ed6-8530-41712367eebb",
   "metadata": {
    "editable": true,
    "slideshow": {
     "slide_type": ""
    },
    "tags": []
   },
   "source": [
    "### 6.6 : Source Detection with `edetect_chain`"
   ]
  },
  {
   "cell_type": "markdown",
   "id": "d90bbfb2-3079-486b-b3c2-8bf781f1f81b",
   "metadata": {},
   "source": [
    "The `edetect_chain` task does nearly all the work involved with EPIC source detection. It can process up to three intruments (both MOS cameras and the PN) with up to five images in different energy bands simultaneously. All images must have identical binning and WCS keywords. For this example, we will perform source detection on MOS1 images in two bands (\"soft\" X-rays with energies between 300 and 2000 eV, and \"hard\" X-rays, with energies between 2000 and 10000 eV) using the filtered event files produced here.\n",
    "\n",
    "We will start by generating some files that `edetect_chain` needs: an attitude file and images of the sources in the desired energy bands, with the image binning sizes as needed according to the detector. For the MOS, the we'll let the binsize be 22."
   ]
  },
  {
   "cell_type": "code",
   "execution_count": null,
   "id": "7f4e4410-4a9f-4b86-9798-67ea1122368b",
   "metadata": {
    "editable": true,
    "scrolled": true,
    "slideshow": {
     "slide_type": ""
    },
    "tags": []
   },
   "outputs": [],
   "source": [
    "os.chdir(odf.work_dir)\n",
    "\n",
    "if not os.path.exists(attitude_file):\n",
    "    inargs = ['atthkset={0}'.format(attitude_file),\n",
    "              'timestep=1']\n",
    "    \n",
    "    w('atthkgen', inargs).run()\n",
    "else:\n",
    "    print('File {0} found. Not making attitude file again.'.format(attitude_file))\n",
    "\n",
    "\n",
    "# Soft band selection 300-2000 eV\n",
    "if not os.path.exists(soft_band_file):\n",
    "    inargs = ['table={0}'.format(filtered_event_list),\n",
    "              'withimageset=yes',\n",
    "              'imageset={0}'.format(soft_band_file),\n",
    "              'imagebinning=binSize',\n",
    "              'xcolumn=X',\n",
    "              'ximagebinsize=22',\n",
    "              'ycolumn=Y',\n",
    "              'yimagebinsize=22',\n",
    "              'filtertype=expression',\n",
    "              \"expression='(FLAG == 0)&&(PI in [300:2000])'\"]\n",
    "    \n",
    "    w('evselect', inargs).run()\n",
    "else:\n",
    "    print('File {0} found. Not making the soft band image file again.'.format(soft_band_file))\n",
    "\n",
    "\n",
    "# Hard band selection 2000-10000 eV\n",
    "if not os.path.exists(hard_band_file):\n",
    "    inargs = ['table={0}'.format(filtered_event_list),\n",
    "              'withimageset=yes',\n",
    "              'imageset={0}'.format(hard_band_file),\n",
    "              'imagebinning=binSize',\n",
    "              'xcolumn=X',\n",
    "              'ximagebinsize=22',\n",
    "              'ycolumn=Y',\n",
    "              'yimagebinsize=22',\n",
    "              'filtertype=expression',\n",
    "              \"expression='(FLAG == 0)&&(PI in [2000:10000])'\"]\n",
    "    \n",
    "    w('evselect', inargs).run()\n",
    "else:\n",
    "    print('File {0} found. Not making the hard band image file again.'.format(hard_band_file))\n",
    "\n",
    "if not os.path.exists(mos_all_file):\n",
    "    inargs = ['table={0}'.format(filtered_event_list),\n",
    "              'withimageset=yes',\n",
    "              'imageset={0}'.format(mos_all_file),\n",
    "              'imagebinning=binSize',\n",
    "              'xcolumn=X',\n",
    "              'ximagebinsize=22',\n",
    "              'ycolumn=Y',\n",
    "              'yimagebinsize=22',\n",
    "              'filtertype=expression',\n",
    "              \"expression='(FLAG == 0)&&(PI in [300:10000])'\"]\n",
    "    \n",
    "    w('evselect', inargs).run()\n",
    "else:\n",
    "    print('File {0} found. Not making the full band image file again.'.format(mos_all_file))\n",
    "\n",
    "if not os.path.exists(eml_list_file):\n",
    "    inargs = [\"imagesets='{0} {1}'\".format(soft_band_file,hard_band_file),\n",
    "              \"eventsets='{0}'\".format(filtered_event_list),\n",
    "              'attitudeset={0}'.format(attitude_file),\n",
    "              \"pimin='300 2000'\",\n",
    "              \"pimax='2000 10000'\",\n",
    "              'likemin=10',\n",
    "              'witheexpmap=yes',\n",
    "              \"ecf='0.878 0.220'\",\n",
    "              'eboxl_list=eboxlist_l.fits',\n",
    "              'eboxm_list=eboxlist_m.fits',\n",
    "              'eml_list={0}'.format(eml_list_file),\n",
    "              'esp_withootset=no']\n",
    "    \n",
    "    w('edetect_chain', inargs).run()\n",
    "else:\n",
    "    print('File {0} found. Not running edetect_chain again.'.format(eml_list_file))"
   ]
  },
  {
   "cell_type": "code",
   "execution_count": null,
   "id": "64f7a8a8-716e-44b9-99d9-a35bce6918c9",
   "metadata": {
    "scrolled": true
   },
   "outputs": [],
   "source": [
    "inargs = ['boxlistset={0}'.format(eml_list_file),\n",
    "          'imageset={0}'.format(mos_all_file),\n",
    "          'withimageset=yes',\n",
    "          'regionfile=regionfile.txt',\n",
    "          'sourceradius=0.01',\n",
    "          'withregionfile=yes']\n",
    "\n",
    "w('srcdisplay', inargs).run()"
   ]
  },
  {
   "cell_type": "markdown",
   "id": "e2227922-b86b-451c-ae76-dc3078e36aa4",
   "metadata": {},
   "source": [
    "### 6.7 Extract the Source and Background Spectra for a Single Region"
   ]
  },
  {
   "cell_type": "markdown",
   "id": "0efebcb6-2b4c-4082-b8d8-eeb58e065370",
   "metadata": {},
   "source": [
    "Throughout the following, please keep in mind that some parameters are instrument-dependent. The parameter `specchannelmax` should be set to 11999 for the MOS, or 20479 for the PN. Also, for the PN, the most stringent filters, `(FLAG==0)&&(PATTERN<=4)`, must be included in the expression to get a high-quality spectrum.\r\n",
    "\r\n",
    "For the MOS, the standard filters should be appropriate for many cases, though there are some instances where tightening the selection requirements might be needed. For example, if obtaining the best-possible spectral resolution is critical to your work, and the corresponding loss of counts is not important, only the single pixel events should be selected `(PATTERN==0)`. If your observation is of a bright source, you again might want to select only the single pixel events to mitigate pile up (see §6.8 and §6.9 for a more detailed discussion).\r\n",
    "\r\n",
    "In any case, you'll need to know spatial information about the area over which you want to extract the spectrum, so display the filtered event file with ds9.\r\n",
    "\r\n",
    "Select the object whose spectrum you wish to extract. This will produce a circle (extraction region), centered on the object. The circle's radius can be changed by clicking on it and dragging to the desired size. Adjust the size and position of the circle until you are satisfied with the extraction region; then, double-click on the region to bring up a window showing the center coordinates and radius of the circle. For this example, we will choose the source at (26188.5,22816.5) and set the extraction radius to 300 (in physical units). `expression='((X,Y) in CIRCLE(26188.5,22816.5,300))'`\r\n",
    "\r\n",
    "The inputs for `evselect` to extract the source spectra are as follows.\r\n",
    "\r\n",
    "\ttable - the event file\r\n",
    "\tenergycolumn - energy column\r\n",
    "\twithfilteredset - make a filtered event file\r\n",
    "\tkeepfilteroutput - keep the filtered file\r\n",
    "\tfilteredset - name of output file\r\n",
    "\tfiltertype - type of filter\r\n",
    "\texpression - expression to filter by\r\n",
    "\twithspectrumset - make a spectrum\r\n",
    "\tspectrumset - name of output spectrum\r\n",
    "\tspectralbinsize - size of bin, in eV\r\n",
    "\twithspecranges - covering a certain spectral range\r\n",
    "\tspecchannelmin - minimum of spectral range\r\n",
    "\tspecchannelmax - maximum of spectral range\r\n",
    "\r\n",
    "When extracting the background spectrum, follow the same procedures, but change the extraction area. For example, make an annulus around the source; this can be done using two circles, each defining the inner and outer edges of the annulus, then change the filtering expression (and output file name) as necessary. `expression='((X,Y) in CIRCLE(26188.5,22816.5,1500))&&!((X,Y) in CIRCLE(26188.5,22816.5,500))'`\r\n",
    "\r\n",
    "Below we extract both the source and the background spectra. The keywords are as described above.ds are as described above.\r"
   ]
  },
  {
   "cell_type": "code",
   "execution_count": null,
   "id": "2d841fa8-4610-4ef4-85d0-01755c50510c",
   "metadata": {
    "scrolled": true
   },
   "outputs": [],
   "source": [
    "filtered_source = 'mos1_filtered.fits'\n",
    "filtered_bkg = 'bkg_filtered.fits'\n",
    "source_spectra_file = 'mos1_pi.fits'\n",
    "bkg_spectra_file = 'bkg_pi.fits'\n",
    "\n",
    "inargs = {'table': '{0}'.format(filtered_event_list),\n",
    "          'energycolumn': 'PI',\n",
    "          'withfilteredset': 'yes',\n",
    "          'filteredset': '{0}'.format(filtered_source),\n",
    "          'keepfilteroutput': 'yes',\n",
    "          'filtertype': 'expression',\n",
    "          'expression': \"'((X,Y) in CIRCLE(26188.5,22816.5,300))'\",\n",
    "          'withspectrumset': 'yes',\n",
    "          'spectrumset': '{0}'.format(source_spectra_file),\n",
    "          'spectralbinsize': '5',\n",
    "          'withspecranges': 'yes',\n",
    "          'specchannelmin': '0',\n",
    "          'specchannelmax': '11999'}\n",
    "\n",
    "w('evselect', inargs).run()\n",
    "\n",
    "inargs = {'table': '{0}'.format(filtered_event_list),\n",
    "          'energycolumn': 'PI',\n",
    "          'withfilteredset': 'yes',\n",
    "          'filteredset': '{0}'.format(filtered_bkg),\n",
    "          'keepfilteroutput': 'yes',\n",
    "          'filtertype': 'expression',\n",
    "          'expression': \"'((X,Y) in CIRCLE(26188.5,22816.5,1500))&&!((X,Y) in CIRCLE(26188.5,22816.5,500))'\",\n",
    "          'withspectrumset': 'yes',\n",
    "          'spectrumset': '{0}'.format(bkg_spectra_file),\n",
    "          'spectralbinsize': '5',\n",
    "          'withspecranges': 'yes',\n",
    "          'specchannelmin': '0',\n",
    "          'specchannelmax': '11999'}\n",
    "\n",
    "w('evselect', inargs).run()"
   ]
  },
  {
   "cell_type": "markdown",
   "id": "14af03b9-f943-4f7a-872d-c8790ca6169f",
   "metadata": {},
   "source": [
    "### 6.8 Check for Pile Up"
   ]
  },
  {
   "cell_type": "markdown",
   "id": "9b5af9e9-6b45-419b-a6ef-0955855e7632",
   "metadata": {},
   "source": [
    "Depending on how bright the source is and what modes the EPIC detectors are in, event pile up may be a problem. Pile up occurs when a source is so bright that incoming X-rays strike two neighboring pixels or the same pixel in the CCD more than once in a read-out cycle. In such cases the energies of the two events are in effect added together to form one event. If this happens sufficiently often, \n",
    "1) the spectrum will appear to be harder than it actually is, and\n",
    "2) the count rate will be underestimated, since multiple events will be undercounted.\n",
    "\n",
    "To check whether pile up may be a problem, use the SAS task epatplot. Heavily piled sources will be immediately obvious, as they will have a \"hole\" in the center, but pile up is not always so conspicuous. Therefore, we recommend to always check for it.\n",
    "\n",
    "<div class=\"alert alert-block alert-info\">\n",
    "    <b>Note:</b> This procedure requires as input the event file for the source created when the spectrum was made (i.e. 'filtered_source'), not the usual time-filtered event file (i.e. 'filtered_event_list').\n",
    "</div>\n",
    "\n",
    "To check for pile up in our Lockman Hole example, run the following cell:"
   ]
  },
  {
   "cell_type": "code",
   "execution_count": null,
   "id": "d5d2cd98-9cc9-4571-a6b2-cc7a3f042e6d",
   "metadata": {
    "scrolled": true
   },
   "outputs": [],
   "source": [
    "inargs = ['set={0}'.format(filtered_source),\n",
    "          'plotfile=mos1_epat.ps',\n",
    "          'useplotfile=yes',\n",
    "          'withbackgroundset=yes',\n",
    "          'backgroundset={0}'.format(filtered_bkg)]\n",
    "\n",
    "w('epatplot', inargs).run()"
   ]
  },
  {
   "cell_type": "markdown",
   "id": "cf94e145-c41e-4800-9169-51490c92879e",
   "metadata": {},
   "source": [
    "where\n",
    "\n",
    "    set - input events file \n",
    "    plotfile - output postscript file \n",
    "    useplotfile - flag to use file name from \"plotfile\" \n",
    "    withbackgroundset - use background event set for background subtraction? \n",
    "    backgroundset - name of background event file\n",
    "\n",
    "The output of epatplot is a postscript file, mos1_epat.ps, which may be viewed with a postscript viewer such as `gv` (i.e. 'ghostscript viewer', install from a terminal using `sudo apt install gv`), containing two graphs describing the distribution of counts as a function of PI channel.\n",
    "\n",
    "If you have `gv` installed on your computer the following cell will open the plot."
   ]
  },
  {
   "cell_type": "code",
   "execution_count": null,
   "id": "aa2ba03a-d2e7-45c0-bacf-45c06467cb57",
   "metadata": {},
   "outputs": [],
   "source": [
    "import subprocess\n",
    "gv_out = subprocess.run(['gv','mos1_epat.ps'],stdout = subprocess.DEVNULL)"
   ]
  },
  {
   "cell_type": "markdown",
   "id": "bff3c943-ee93-440a-926b-4dc94f7a7c96",
   "metadata": {},
   "source": [
    "A few words about interpretting the plots are in order. The top is the distribution of counts versus PI channel for each pattern class (single, double, triple, quadruple), and the bottom is the expected pattern distribution (smooth lines) plotted over the observed distribution (histogram). The lower plot shows the model distributions for single and double events and the observed distributions. It also gives the ratio of observed-to-modeled events with 1-$\\sigma$ uncertainties for single and double pattern events over a given energy range. (The default is 0.5-2.0 keV; this can be changed with the pileupnumberenergyrange parameter.) If the data is not piled up, there will be good agreement between the modeled and observed single and double event pattern distributions. Also, the observed-to-modeled fractions for both singles and doubles in the 0.5-2.0 keV range will be unity, within errors. In contrast, if the data is piled up, there will be clear divergence between the modeled and observed pattern distributions, and the observed-to-modeled fraction for singles will be less than 1.0, and for doubles, it will be greater than 1.0.\n",
    "\n",
    "Finally, when examining the plots, it should noted that the observed-to-modeled fractions can be inaccurate. Therefore, the agreement between the modeled and observed single and double event pattern distributions should be the main factor in determining if an observation is affected by pile up or not.\n",
    "\n",
    "The source used in our Lockman Hole example is too faint to provide reasonable statistics for epatplot and is far from being affected by pile up. For comparison, an example of a bright source (Mkn 421, Obs ID: 0136541101) which is strongly affected by pileup is shown below. Note that the observed-to-model fraction for doubles is over 1.0, and there is severe divergence between the model and the observed pattern distribution."
   ]
  },
  {
   "cell_type": "markdown",
   "id": "980b2697-f1df-453c-8205-504dc89c1157",
   "metadata": {},
   "source": [
    "<center><img src=\"pile_up_Mkn_421.png\"/></center>"
   ]
  },
  {
   "cell_type": "markdown",
   "id": "b21818b1-9b10-46f3-8a18-8c22bfcffe75",
   "metadata": {},
   "source": [
    "### 6.9 My Observation is Piled Up! Now What?"
   ]
  },
  {
   "cell_type": "markdown",
   "id": "a770c126-6476-4036-91d0-97101ceee415",
   "metadata": {},
   "source": [
    "If you're working with a different (much brighter) dataset that does show signs of pile up, there are a few ways to deal with it. First, using the region selection and event file filtering procedures demonstrated in earlier sections, you can excise the inner-most regions of a source (as they are the most heavily piled up), re-extract the spectrum, and continue your analysis on the excised event file. For this procedure, it is recommended that you take an iterative approach: remove an inner region, extract a spectrum, check with epatplot, and repeat, each time removing a slightly larger region, until the model and observed distribution functions agree. If you do this, be aware that removing too small a region with respect to the instrumental pixel size (1.1'' for the MOS, 4.1'' for the PN) can introduce systematic inaccuracies when calculating the source flux; these are less than 4%, and decrease to less than 1% when the excised region is more than 5 times the instrumental pixel half-size. In any case, be certain that the excised region is larger than the instrumental pixel size!\n",
    "\r\n",
    "You can also use the event file filtering procedures to include only single pixel events (PATTERN==0), as these events are less sensitive to pile up than other patterns."
   ]
  },
  {
   "cell_type": "markdown",
   "id": "267a55a9-7c6d-4c72-845b-af1a17867aa4",
   "metadata": {},
   "source": [
    "### 6.10 Determine the Spectrum Extraction Areas"
   ]
  },
  {
   "cell_type": "markdown",
   "id": "f204bb0f-ea50-4d3d-ab5b-9e9170df95fc",
   "metadata": {},
   "source": [
    "Now that we are confident that our spectrum is not piled up, we can continue by finding the source and background region areas. This is done with the task `backscale`, which takes into account any bad pixels or chip gaps, and writes the result into the BACKSCAL keyword of the spectrum table. Alternatively, we can skip running backscale, and use a keyword in arfgen below. We will show both options for the curious.\r\n",
    "\r\n",
    "The inputs for `backscale` are:\r\n",
    "\r\n",
    "    spectrumset - spectrum file\r\n",
    "    badpixlocation - event file containing the bad pixels\r\n",
    "\r\n",
    "To find the source and background extraction areas explicitly,"
   ]
  },
  {
   "cell_type": "code",
   "execution_count": null,
   "id": "d367e54a-e9a4-4348-af4c-c28fec49858a",
   "metadata": {
    "scrolled": true
   },
   "outputs": [],
   "source": [
    "inargs = ['spectrumset={0}'.format(source_spectra_file),\n",
    "          'badpixlocation=mos1_filt_time.fits']\n",
    "\n",
    "w('backscale', inargs).run()\n",
    "\n",
    "inargs = ['spectrumset={0}'.format(bkg_spectra_file),\n",
    "          'badpixlocation=mos1_filt_time.fits']\n",
    "\n",
    "w('backscale', inargs).run()"
   ]
  },
  {
   "cell_type": "markdown",
   "id": "c7809d3d-4550-4fe4-ac48-8e68141865f5",
   "metadata": {},
   "source": [
    "### 6.11 Create the Photon Redistribution Matrix (RMF) and Ancillary File (ARF)"
   ]
  },
  {
   "cell_type": "markdown",
   "id": "7e3fa9da-d602-42c6-a9f5-e5addd3f781d",
   "metadata": {},
   "source": [
    "Now that a source spectrum has been extracted, we need to reformat the detector response by making a redistribution matrix file (RMF) and ancillary response file (ARF). To make the RMF we use `rmfgen`. The input arguments are:\n",
    "\n",
    "    rmfset - output file\n",
    "    spectrumset - input spectrum file\n",
    "\n",
    "Now we can use `arfgen` with the RMF, spectrum, and event file to make the ancillary file (ARF). The input arguments are:\n",
    "\n",
    "    arfset - output ARF file name\n",
    "    spectrumset - input spectrum file name\n",
    "    withrmfset - flag to use the RMF\n",
    "    rmfset - RMF file created by rmfgen\n",
    "    withbadpixcorr - flag to include the bad pixel correction\n",
    "    badpixlocation - file containing the bad pixel information; should be set to the event file from which the spectrum was extracted.\n",
    "    setbackscale - flag to calculate the area of the source region and write it to the BACKSCAL keyword in the spectrum header\n",
    "    \n",
    "At this point, the spectrum stored in the file `mos1_pi.fits` is ready to be analyzed using an analysis package such as XSPEC."
   ]
  },
  {
   "cell_type": "code",
   "execution_count": null,
   "id": "14650eaf-7dcd-4233-8abd-d9ca504912b2",
   "metadata": {
    "scrolled": true
   },
   "outputs": [],
   "source": [
    "inargs = {'rmfset': 'mos1_rmf.fits',\n",
    "          'spectrumset': '{0}'.format(source_spectra_file)}\n",
    "\n",
    "w('rmfgen', inargs).run()\n",
    "\n",
    "inargs = {}\n",
    "inargs = {'arfset': 'mos1_arf.fits',\n",
    "          'spectrumset': '{0}'.format(source_spectra_file),\n",
    "          'withrmfset': 'yes',\n",
    "          'rmfset': 'mos1_rmf.fits',\n",
    "          'withbadpixcorr': 'yes',\n",
    "          'badpixlocation': 'mos1_filt_time.fits',\n",
    "          'setbackscale': 'yes'}\n",
    "\n",
    "w('arfgen', inargs).run()"
   ]
  },
  {
   "cell_type": "code",
   "execution_count": null,
   "id": "c05d7982-7533-44db-a778-70852b424ebf",
   "metadata": {},
   "outputs": [],
   "source": []
  }
 ],
 "metadata": {
  "kernelspec": {
   "display_name": "Python 3 (ipykernel)",
   "language": "python",
   "name": "python3"
  },
  "language_info": {
   "codemirror_mode": {
    "name": "ipython",
    "version": 3
   },
   "file_extension": ".py",
   "mimetype": "text/x-python",
   "name": "python",
   "nbconvert_exporter": "python",
   "pygments_lexer": "ipython3",
   "version": "3.11.5"
  }
 },
 "nbformat": 4,
 "nbformat_minor": 5
}
